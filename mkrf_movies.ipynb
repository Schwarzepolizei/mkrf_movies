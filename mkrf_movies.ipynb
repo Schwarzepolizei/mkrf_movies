{
 "cells": [
  {
   "cell_type": "markdown",
   "metadata": {
    "id": "sIfNaMOxgFyK"
   },
   "source": [
    "# Исследование данных о российском кинопрокате\n",
    "\n"
   ]
  },
  {
   "cell_type": "markdown",
   "metadata": {},
   "source": [
    "# Цель исследования"
   ]
  },
  {
   "cell_type": "markdown",
   "metadata": {},
   "source": [
    "Изучение рынка российского кинопроката и выявление текущих тренды. Анализ восстребованности у зрителей фильмов, получивших государственную поддержку. \n",
    "\n",
    "**Входные данные**\n",
    "\n",
    "Данные, опубликованные на портале открытых данных Министерства культуры. Набор данных содержит информацию о прокатных удостоверениях, сборах и государственной поддержке фильмов, а также информацию с сайта КиноПоиск. \n",
    "\n",
    "Пути к файлам: \n",
    "/datasets/mkrf_movies.csv — данные о прокатных удостоверениях. \n",
    "\n",
    "/datasets/mkrf_shows.csv — данные о прокате в российских кинотеатрах. \n",
    "\n",
    "Таблица mkrf_movies содержит информацию из реестра прокатных удостоверений. У одного фильма может быть несколько прокатных удостоверений. \n",
    "1. title — название фильма;\n",
    "2. puNumber — номер прокатного удостоверения;\n",
    "3. show_start_date — дата премьеры фильма;\n",
    "4. type — тип фильма;\n",
    "5. film_studio — студия-производитель;\n",
    "6. production_country — страна-производитель;\n",
    "7. director — режиссёр;\n",
    "8. producer — продюсер;\n",
    "9. age_restriction — возрастная категория;\n",
    "10. refundable_support — объём возвратных средств государственной поддержки;\n",
    "11. nonrefundable_support — объём невозвратных средств государственной поддержки;\n",
    "12. financing_source — источник государственного финансирования;\n",
    "13. budget — общий бюджет фильма;\n",
    "14. ratings — рейтинг фильма на КиноПоиске;\n",
    "15. genres — жанр фильма.\n",
    "\n",
    "Таблица mkrf_shows содержит сведения о показах фильмов в российских кинотеатрах.\n",
    "1. puNumber — номер прокатного удостоверения;\n",
    "2. box_office — сборы в рублях.\n",
    "\n",
    "**Ход исследования**\n",
    "1. Обзор данных:\n",
    "\n",
    "- Импортирование необходимых библиотек.\n",
    "- Чтение файлов с данными.\n",
    "- Общий обзор информации.\n",
    "- Объеденение данных в один датафрейм\n",
    "  \n",
    "2. Предобработка данных:\n",
    "\n",
    "- Приведение именования столбоц к общей стилистике.\n",
    "- Проверка на пропущенные значения и их заполнение или удаление.\n",
    "- Удаление дубликатов.\n",
    "- Преобразование типов данных (например, приведение дат к единому формату).\n",
    "- Обработка выбросов и аномалий (например, нереально высокие или низкие цены).\n",
    "- Создание новых признаков.\n",
    "\n",
    "3. Исследовательский анализ данных (EDA):\n",
    "\n",
    "- Анализ количества выщедших в прокат фильмов Российского и зарубежного производства.\n",
    "- Анализ сборов по годам\n",
    "- Анализ кассовых сборов и фильмов по годам\n",
    "- Анализ средней и медианной суммы для каждого года\n",
    "\n",
    "4. Исследование фильмов с господдержкой\n",
    "- Общий анализ господдержки\n",
    "- Анализ окупаемости фильмов с господдержкой\n",
    "- Анализ рейтинга фильмов с господдержкой\n",
    "- Анализ распределения по жанрам среди фильмов с господдержкой\n",
    "\n",
    "5. Формирование выводов:\n",
    "\n",
    "- Общий вывод по исследованию российского кинопроката и господдержки фильмов (2010–2019)\n",
    "\n",
    "\n"
   ]
  },
  {
   "cell_type": "markdown",
   "metadata": {},
   "source": [
    "# Обзор данных"
   ]
  },
  {
   "cell_type": "markdown",
   "metadata": {},
   "source": [
    "## Импорт библиотек"
   ]
  },
  {
   "cell_type": "code",
   "execution_count": 1,
   "metadata": {},
   "outputs": [],
   "source": [
    "import matplotlib.pyplot as plt\n",
    "import numpy as np\n",
    "import pandas as pd\n",
    "import re\n",
    "import seaborn as sns\n",
    "\n",
    "pd.set_option('display.max_columns', None)\n",
    "sns.set_theme(style=\"darkgrid\")"
   ]
  },
  {
   "cell_type": "markdown",
   "metadata": {},
   "source": [
    "## Считаем данные из csv-файлов в датафреймы"
   ]
  },
  {
   "cell_type": "code",
   "execution_count": 2,
   "metadata": {},
   "outputs": [],
   "source": [
    "try:\n",
    "    data_movies = pd.read_csv('/datasets/mkrf_movies.csv')\n",
    "    data_shows = pd.read_csv('/datasets/mkrf_shows.csv')\n",
    "except:\n",
    "    data_movies = pd.read_csv('https://code.s3.yandex.net/datasets/mkrf_movies.csv')\n",
    "    data_shows = pd.read_csv('https://code.s3.yandex.net/datasets/mkrf_shows.csv')"
   ]
  },
  {
   "cell_type": "markdown",
   "metadata": {},
   "source": [
    "## Ознакомимся с данными из каждого датафрейма"
   ]
  },
  {
   "cell_type": "markdown",
   "metadata": {},
   "source": [
    "### Данные data_movies"
   ]
  },
  {
   "cell_type": "code",
   "execution_count": 3,
   "metadata": {},
   "outputs": [
    {
     "data": {
      "text/html": [
       "<div>\n",
       "<style scoped>\n",
       "    .dataframe tbody tr th:only-of-type {\n",
       "        vertical-align: middle;\n",
       "    }\n",
       "\n",
       "    .dataframe tbody tr th {\n",
       "        vertical-align: top;\n",
       "    }\n",
       "\n",
       "    .dataframe thead th {\n",
       "        text-align: right;\n",
       "    }\n",
       "</style>\n",
       "<table border=\"1\" class=\"dataframe\">\n",
       "  <thead>\n",
       "    <tr style=\"text-align: right;\">\n",
       "      <th></th>\n",
       "      <th>title</th>\n",
       "      <th>puNumber</th>\n",
       "      <th>show_start_date</th>\n",
       "      <th>type</th>\n",
       "      <th>film_studio</th>\n",
       "      <th>production_country</th>\n",
       "      <th>director</th>\n",
       "      <th>producer</th>\n",
       "      <th>age_restriction</th>\n",
       "      <th>refundable_support</th>\n",
       "      <th>nonrefundable_support</th>\n",
       "      <th>budget</th>\n",
       "      <th>financing_source</th>\n",
       "      <th>ratings</th>\n",
       "      <th>genres</th>\n",
       "    </tr>\n",
       "  </thead>\n",
       "  <tbody>\n",
       "    <tr>\n",
       "      <th>0</th>\n",
       "      <td>Открытый простор</td>\n",
       "      <td>221048915</td>\n",
       "      <td>2015-11-27T12:00:00.000Z</td>\n",
       "      <td>Художественный</td>\n",
       "      <td>Тачстоун Пикчерз, Кобальт Пикчерз, Бикон Пикче...</td>\n",
       "      <td>США</td>\n",
       "      <td>Кевин Костнер</td>\n",
       "      <td>Дэвид Валдес, Кевин Костнер, Джейк Эбертс</td>\n",
       "      <td>«18+» - запрещено для детей</td>\n",
       "      <td>NaN</td>\n",
       "      <td>NaN</td>\n",
       "      <td>NaN</td>\n",
       "      <td>NaN</td>\n",
       "      <td>7.2</td>\n",
       "      <td>боевик,драма,мелодрама</td>\n",
       "    </tr>\n",
       "    <tr>\n",
       "      <th>1</th>\n",
       "      <td>Особо важное задание</td>\n",
       "      <td>111013716</td>\n",
       "      <td>2016-09-13T12:00:00.000Z</td>\n",
       "      <td>Художественный</td>\n",
       "      <td>Киностудия \"Мосфильм\"</td>\n",
       "      <td>СССР</td>\n",
       "      <td>Е.Матвеев</td>\n",
       "      <td>NaN</td>\n",
       "      <td>«6+» - для детей старше 6 лет</td>\n",
       "      <td>NaN</td>\n",
       "      <td>NaN</td>\n",
       "      <td>NaN</td>\n",
       "      <td>NaN</td>\n",
       "      <td>6.6</td>\n",
       "      <td>драма,военный</td>\n",
       "    </tr>\n",
       "    <tr>\n",
       "      <th>2</th>\n",
       "      <td>Особо опасен</td>\n",
       "      <td>221038416</td>\n",
       "      <td>2016-10-10T12:00:00.000Z</td>\n",
       "      <td>Художественный</td>\n",
       "      <td>Юниверсал Пикчерз, Кикстарт Продакшнз, Марк Пл...</td>\n",
       "      <td>США</td>\n",
       "      <td>Тимур Бекмамбетов</td>\n",
       "      <td>Джим Лемли, Джейсон Нетер, Марк Е.Платт, Яйн Смит</td>\n",
       "      <td>«18+» - запрещено для детей</td>\n",
       "      <td>NaN</td>\n",
       "      <td>NaN</td>\n",
       "      <td>NaN</td>\n",
       "      <td>NaN</td>\n",
       "      <td>6.8</td>\n",
       "      <td>фантастика,боевик,триллер</td>\n",
       "    </tr>\n",
       "    <tr>\n",
       "      <th>3</th>\n",
       "      <td>Особо опасен</td>\n",
       "      <td>221026916</td>\n",
       "      <td>2016-06-10T12:00:00.000Z</td>\n",
       "      <td>Художественный</td>\n",
       "      <td>Юниверсал Пикчерз, Кикстарт Продакшнз, Марк Пл...</td>\n",
       "      <td>США</td>\n",
       "      <td>Тимур Бекмамбетов</td>\n",
       "      <td>Джим Лемли, Джейсон Нетер, Марк Е.Платт, Яйн Смит</td>\n",
       "      <td>«18+» - запрещено для детей</td>\n",
       "      <td>NaN</td>\n",
       "      <td>NaN</td>\n",
       "      <td>NaN</td>\n",
       "      <td>NaN</td>\n",
       "      <td>6.8</td>\n",
       "      <td>фантастика,боевик,триллер</td>\n",
       "    </tr>\n",
       "    <tr>\n",
       "      <th>4</th>\n",
       "      <td>Особо опасен</td>\n",
       "      <td>221030815</td>\n",
       "      <td>2015-07-29T12:00:00.000Z</td>\n",
       "      <td>Художественный</td>\n",
       "      <td>Юниверсал Пикчерз, Кикстарт Продакшнз, Марк Пл...</td>\n",
       "      <td>США</td>\n",
       "      <td>Тимур Бекмамбетов</td>\n",
       "      <td>Джим Лемли, Джейсон Нетер, Марк Е.Платт, Яйн Смит</td>\n",
       "      <td>«18+» - запрещено для детей</td>\n",
       "      <td>NaN</td>\n",
       "      <td>NaN</td>\n",
       "      <td>NaN</td>\n",
       "      <td>NaN</td>\n",
       "      <td>6.8</td>\n",
       "      <td>фантастика,боевик,триллер</td>\n",
       "    </tr>\n",
       "  </tbody>\n",
       "</table>\n",
       "</div>"
      ],
      "text/plain": [
       "                  title   puNumber           show_start_date            type  \\\n",
       "0      Открытый простор  221048915  2015-11-27T12:00:00.000Z  Художественный   \n",
       "1  Особо важное задание  111013716  2016-09-13T12:00:00.000Z  Художественный   \n",
       "2          Особо опасен  221038416  2016-10-10T12:00:00.000Z  Художественный   \n",
       "3          Особо опасен  221026916  2016-06-10T12:00:00.000Z  Художественный   \n",
       "4          Особо опасен  221030815  2015-07-29T12:00:00.000Z  Художественный   \n",
       "\n",
       "                                         film_studio production_country  \\\n",
       "0  Тачстоун Пикчерз, Кобальт Пикчерз, Бикон Пикче...                США   \n",
       "1                              Киностудия \"Мосфильм\"               СССР   \n",
       "2  Юниверсал Пикчерз, Кикстарт Продакшнз, Марк Пл...                США   \n",
       "3  Юниверсал Пикчерз, Кикстарт Продакшнз, Марк Пл...                США   \n",
       "4  Юниверсал Пикчерз, Кикстарт Продакшнз, Марк Пл...                США   \n",
       "\n",
       "            director                                           producer  \\\n",
       "0      Кевин Костнер          Дэвид Валдес, Кевин Костнер, Джейк Эбертс   \n",
       "1          Е.Матвеев                                                NaN   \n",
       "2  Тимур Бекмамбетов  Джим Лемли, Джейсон Нетер, Марк Е.Платт, Яйн Смит   \n",
       "3  Тимур Бекмамбетов  Джим Лемли, Джейсон Нетер, Марк Е.Платт, Яйн Смит   \n",
       "4  Тимур Бекмамбетов  Джим Лемли, Джейсон Нетер, Марк Е.Платт, Яйн Смит   \n",
       "\n",
       "                 age_restriction  refundable_support  nonrefundable_support  \\\n",
       "0    «18+» - запрещено для детей                 NaN                    NaN   \n",
       "1  «6+» - для детей старше 6 лет                 NaN                    NaN   \n",
       "2    «18+» - запрещено для детей                 NaN                    NaN   \n",
       "3    «18+» - запрещено для детей                 NaN                    NaN   \n",
       "4    «18+» - запрещено для детей                 NaN                    NaN   \n",
       "\n",
       "   budget financing_source ratings                     genres  \n",
       "0     NaN              NaN     7.2     боевик,драма,мелодрама  \n",
       "1     NaN              NaN     6.6              драма,военный  \n",
       "2     NaN              NaN     6.8  фантастика,боевик,триллер  \n",
       "3     NaN              NaN     6.8  фантастика,боевик,триллер  \n",
       "4     NaN              NaN     6.8  фантастика,боевик,триллер  "
      ]
     },
     "execution_count": 3,
     "metadata": {},
     "output_type": "execute_result"
    }
   ],
   "source": [
    "# Просмотр первых 5 строк\n",
    "data_movies.head()"
   ]
  },
  {
   "cell_type": "markdown",
   "metadata": {},
   "source": [
    "### Общая информация data_movies"
   ]
  },
  {
   "cell_type": "code",
   "execution_count": 4,
   "metadata": {},
   "outputs": [
    {
     "name": "stdout",
     "output_type": "stream",
     "text": [
      "<class 'pandas.core.frame.DataFrame'>\n",
      "RangeIndex: 7486 entries, 0 to 7485\n",
      "Data columns (total 15 columns):\n",
      " #   Column                 Non-Null Count  Dtype  \n",
      "---  ------                 --------------  -----  \n",
      " 0   title                  7486 non-null   object \n",
      " 1   puNumber               7486 non-null   object \n",
      " 2   show_start_date        7486 non-null   object \n",
      " 3   type                   7486 non-null   object \n",
      " 4   film_studio            7468 non-null   object \n",
      " 5   production_country     7484 non-null   object \n",
      " 6   director               7477 non-null   object \n",
      " 7   producer               6918 non-null   object \n",
      " 8   age_restriction        7486 non-null   object \n",
      " 9   refundable_support     332 non-null    float64\n",
      " 10  nonrefundable_support  332 non-null    float64\n",
      " 11  budget                 332 non-null    float64\n",
      " 12  financing_source       332 non-null    object \n",
      " 13  ratings                6519 non-null   object \n",
      " 14  genres                 6510 non-null   object \n",
      "dtypes: float64(3), object(12)\n",
      "memory usage: 877.4+ KB\n"
     ]
    }
   ],
   "source": [
    "# Вывод общей информации\n",
    "data_movies.info()"
   ]
  },
  {
   "cell_type": "markdown",
   "metadata": {},
   "source": [
    "В стобцах puNumber, show_start_date, ratings неверно указан тип данных. Также необходимо привести название puNumber к общей стилистике. В некоторых столбцах есть пропущенные значения."
   ]
  },
  {
   "cell_type": "markdown",
   "metadata": {},
   "source": [
    "### Данные data_shows"
   ]
  },
  {
   "cell_type": "code",
   "execution_count": 5,
   "metadata": {},
   "outputs": [
    {
     "data": {
      "text/html": [
       "<div>\n",
       "<style scoped>\n",
       "    .dataframe tbody tr th:only-of-type {\n",
       "        vertical-align: middle;\n",
       "    }\n",
       "\n",
       "    .dataframe tbody tr th {\n",
       "        vertical-align: top;\n",
       "    }\n",
       "\n",
       "    .dataframe thead th {\n",
       "        text-align: right;\n",
       "    }\n",
       "</style>\n",
       "<table border=\"1\" class=\"dataframe\">\n",
       "  <thead>\n",
       "    <tr style=\"text-align: right;\">\n",
       "      <th></th>\n",
       "      <th>puNumber</th>\n",
       "      <th>box_office</th>\n",
       "    </tr>\n",
       "  </thead>\n",
       "  <tbody>\n",
       "    <tr>\n",
       "      <th>0</th>\n",
       "      <td>111000113</td>\n",
       "      <td>2.450000e+03</td>\n",
       "    </tr>\n",
       "    <tr>\n",
       "      <th>1</th>\n",
       "      <td>111000115</td>\n",
       "      <td>6.104000e+04</td>\n",
       "    </tr>\n",
       "    <tr>\n",
       "      <th>2</th>\n",
       "      <td>111000116</td>\n",
       "      <td>1.530300e+08</td>\n",
       "    </tr>\n",
       "    <tr>\n",
       "      <th>3</th>\n",
       "      <td>111000117</td>\n",
       "      <td>1.226096e+07</td>\n",
       "    </tr>\n",
       "    <tr>\n",
       "      <th>4</th>\n",
       "      <td>111000118</td>\n",
       "      <td>1.636841e+08</td>\n",
       "    </tr>\n",
       "  </tbody>\n",
       "</table>\n",
       "</div>"
      ],
      "text/plain": [
       "    puNumber    box_office\n",
       "0  111000113  2.450000e+03\n",
       "1  111000115  6.104000e+04\n",
       "2  111000116  1.530300e+08\n",
       "3  111000117  1.226096e+07\n",
       "4  111000118  1.636841e+08"
      ]
     },
     "execution_count": 5,
     "metadata": {},
     "output_type": "execute_result"
    }
   ],
   "source": [
    "# Первые 5 строк data_shows \n",
    "data_shows.head()"
   ]
  },
  {
   "cell_type": "markdown",
   "metadata": {},
   "source": [
    "### Общая информация data_shows"
   ]
  },
  {
   "cell_type": "code",
   "execution_count": 6,
   "metadata": {},
   "outputs": [
    {
     "name": "stdout",
     "output_type": "stream",
     "text": [
      "<class 'pandas.core.frame.DataFrame'>\n",
      "RangeIndex: 3158 entries, 0 to 3157\n",
      "Data columns (total 2 columns):\n",
      " #   Column      Non-Null Count  Dtype  \n",
      "---  ------      --------------  -----  \n",
      " 0   puNumber    3158 non-null   int64  \n",
      " 1   box_office  3158 non-null   float64\n",
      "dtypes: float64(1), int64(1)\n",
      "memory usage: 49.5 KB\n"
     ]
    }
   ],
   "source": [
    "# Вывод общей информации\n",
    "data_shows.info()"
   ]
  },
  {
   "cell_type": "markdown",
   "metadata": {},
   "source": [
    "data_shows не содержит пропусков, что говорит о полноте данных."
   ]
  },
  {
   "cell_type": "markdown",
   "metadata": {},
   "source": [
    "## Объеденим файлы с данными в один датафрейм. \n"
   ]
  },
  {
   "cell_type": "markdown",
   "metadata": {},
   "source": [
    "В таблице data_movies столбец puNumber имеет тип object, а в таблице data_shows тип int64. Будем объединять таблицы по этому столбцу. Для начала попробуем перевести тип данных puNumber датафрейма data_movies в int64. Строки, которые нельзя преобразовать в число могут вызвать ошибку."
   ]
  },
  {
   "cell_type": "markdown",
   "metadata": {},
   "source": [
    "### Изменение типа данных puNumber датафрейма data_movies на int64"
   ]
  },
  {
   "cell_type": "code",
   "execution_count": 7,
   "metadata": {},
   "outputs": [
    {
     "name": "stdout",
     "output_type": "stream",
     "text": [
      "Некорректные значения в puNumber: ['нет']\n"
     ]
    }
   ],
   "source": [
    "# Удаление лишних пробелов в строках\n",
    "data_movies['puNumber'] = data_movies['puNumber'].str.strip()\n",
    "\n",
    "#Проверяем значения, которые нельзя преобразовать в int64\n",
    "invalid_pu_numbers = data_movies[~data_movies['puNumber'].str.isnumeric()]\n",
    "\n",
    "print(f\"Некорректные значения в puNumber: {invalid_pu_numbers['puNumber'].unique()}\")\n",
    "\n",
    "# Убираем строки с некорректными значениями\n",
    "data_movies = data_movies[data_movies['puNumber'].str.isnumeric()]\n",
    "\n",
    "# Преобразуем puNumber в int64\n",
    "data_movies['puNumber'] = data_movies['puNumber'].astype('int64')"
   ]
  },
  {
   "cell_type": "markdown",
   "metadata": {
    "id": "dw87FlzMgFyM"
   },
   "source": [
    "Значение \"нет\", означает, что фильм не получил прокатное удостоверение. "
   ]
  },
  {
   "cell_type": "markdown",
   "metadata": {},
   "source": [
    "### Объединение данных"
   ]
  },
  {
   "cell_type": "code",
   "execution_count": 8,
   "metadata": {},
   "outputs": [
    {
     "data": {
      "text/html": [
       "<div>\n",
       "<style scoped>\n",
       "    .dataframe tbody tr th:only-of-type {\n",
       "        vertical-align: middle;\n",
       "    }\n",
       "\n",
       "    .dataframe tbody tr th {\n",
       "        vertical-align: top;\n",
       "    }\n",
       "\n",
       "    .dataframe thead th {\n",
       "        text-align: right;\n",
       "    }\n",
       "</style>\n",
       "<table border=\"1\" class=\"dataframe\">\n",
       "  <thead>\n",
       "    <tr style=\"text-align: right;\">\n",
       "      <th></th>\n",
       "      <th>title</th>\n",
       "      <th>puNumber</th>\n",
       "      <th>show_start_date</th>\n",
       "      <th>type</th>\n",
       "      <th>film_studio</th>\n",
       "      <th>production_country</th>\n",
       "      <th>director</th>\n",
       "      <th>producer</th>\n",
       "      <th>age_restriction</th>\n",
       "      <th>refundable_support</th>\n",
       "      <th>nonrefundable_support</th>\n",
       "      <th>budget</th>\n",
       "      <th>financing_source</th>\n",
       "      <th>ratings</th>\n",
       "      <th>genres</th>\n",
       "      <th>box_office</th>\n",
       "    </tr>\n",
       "  </thead>\n",
       "  <tbody>\n",
       "    <tr>\n",
       "      <th>0</th>\n",
       "      <td>Открытый простор</td>\n",
       "      <td>221048915</td>\n",
       "      <td>2015-11-27T12:00:00.000Z</td>\n",
       "      <td>Художественный</td>\n",
       "      <td>Тачстоун Пикчерз, Кобальт Пикчерз, Бикон Пикче...</td>\n",
       "      <td>США</td>\n",
       "      <td>Кевин Костнер</td>\n",
       "      <td>Дэвид Валдес, Кевин Костнер, Джейк Эбертс</td>\n",
       "      <td>«18+» - запрещено для детей</td>\n",
       "      <td>NaN</td>\n",
       "      <td>NaN</td>\n",
       "      <td>NaN</td>\n",
       "      <td>NaN</td>\n",
       "      <td>7.2</td>\n",
       "      <td>боевик,драма,мелодрама</td>\n",
       "      <td>NaN</td>\n",
       "    </tr>\n",
       "    <tr>\n",
       "      <th>1</th>\n",
       "      <td>Особо важное задание</td>\n",
       "      <td>111013716</td>\n",
       "      <td>2016-09-13T12:00:00.000Z</td>\n",
       "      <td>Художественный</td>\n",
       "      <td>Киностудия \"Мосфильм\"</td>\n",
       "      <td>СССР</td>\n",
       "      <td>Е.Матвеев</td>\n",
       "      <td>NaN</td>\n",
       "      <td>«6+» - для детей старше 6 лет</td>\n",
       "      <td>NaN</td>\n",
       "      <td>NaN</td>\n",
       "      <td>NaN</td>\n",
       "      <td>NaN</td>\n",
       "      <td>6.6</td>\n",
       "      <td>драма,военный</td>\n",
       "      <td>NaN</td>\n",
       "    </tr>\n",
       "    <tr>\n",
       "      <th>2</th>\n",
       "      <td>Особо опасен</td>\n",
       "      <td>221038416</td>\n",
       "      <td>2016-10-10T12:00:00.000Z</td>\n",
       "      <td>Художественный</td>\n",
       "      <td>Юниверсал Пикчерз, Кикстарт Продакшнз, Марк Пл...</td>\n",
       "      <td>США</td>\n",
       "      <td>Тимур Бекмамбетов</td>\n",
       "      <td>Джим Лемли, Джейсон Нетер, Марк Е.Платт, Яйн Смит</td>\n",
       "      <td>«18+» - запрещено для детей</td>\n",
       "      <td>NaN</td>\n",
       "      <td>NaN</td>\n",
       "      <td>NaN</td>\n",
       "      <td>NaN</td>\n",
       "      <td>6.8</td>\n",
       "      <td>фантастика,боевик,триллер</td>\n",
       "      <td>NaN</td>\n",
       "    </tr>\n",
       "    <tr>\n",
       "      <th>3</th>\n",
       "      <td>Особо опасен</td>\n",
       "      <td>221026916</td>\n",
       "      <td>2016-06-10T12:00:00.000Z</td>\n",
       "      <td>Художественный</td>\n",
       "      <td>Юниверсал Пикчерз, Кикстарт Продакшнз, Марк Пл...</td>\n",
       "      <td>США</td>\n",
       "      <td>Тимур Бекмамбетов</td>\n",
       "      <td>Джим Лемли, Джейсон Нетер, Марк Е.Платт, Яйн Смит</td>\n",
       "      <td>«18+» - запрещено для детей</td>\n",
       "      <td>NaN</td>\n",
       "      <td>NaN</td>\n",
       "      <td>NaN</td>\n",
       "      <td>NaN</td>\n",
       "      <td>6.8</td>\n",
       "      <td>фантастика,боевик,триллер</td>\n",
       "      <td>NaN</td>\n",
       "    </tr>\n",
       "    <tr>\n",
       "      <th>4</th>\n",
       "      <td>Особо опасен</td>\n",
       "      <td>221030815</td>\n",
       "      <td>2015-07-29T12:00:00.000Z</td>\n",
       "      <td>Художественный</td>\n",
       "      <td>Юниверсал Пикчерз, Кикстарт Продакшнз, Марк Пл...</td>\n",
       "      <td>США</td>\n",
       "      <td>Тимур Бекмамбетов</td>\n",
       "      <td>Джим Лемли, Джейсон Нетер, Марк Е.Платт, Яйн Смит</td>\n",
       "      <td>«18+» - запрещено для детей</td>\n",
       "      <td>NaN</td>\n",
       "      <td>NaN</td>\n",
       "      <td>NaN</td>\n",
       "      <td>NaN</td>\n",
       "      <td>6.8</td>\n",
       "      <td>фантастика,боевик,триллер</td>\n",
       "      <td>NaN</td>\n",
       "    </tr>\n",
       "  </tbody>\n",
       "</table>\n",
       "</div>"
      ],
      "text/plain": [
       "                  title   puNumber           show_start_date            type  \\\n",
       "0      Открытый простор  221048915  2015-11-27T12:00:00.000Z  Художественный   \n",
       "1  Особо важное задание  111013716  2016-09-13T12:00:00.000Z  Художественный   \n",
       "2          Особо опасен  221038416  2016-10-10T12:00:00.000Z  Художественный   \n",
       "3          Особо опасен  221026916  2016-06-10T12:00:00.000Z  Художественный   \n",
       "4          Особо опасен  221030815  2015-07-29T12:00:00.000Z  Художественный   \n",
       "\n",
       "                                         film_studio production_country  \\\n",
       "0  Тачстоун Пикчерз, Кобальт Пикчерз, Бикон Пикче...                США   \n",
       "1                              Киностудия \"Мосфильм\"               СССР   \n",
       "2  Юниверсал Пикчерз, Кикстарт Продакшнз, Марк Пл...                США   \n",
       "3  Юниверсал Пикчерз, Кикстарт Продакшнз, Марк Пл...                США   \n",
       "4  Юниверсал Пикчерз, Кикстарт Продакшнз, Марк Пл...                США   \n",
       "\n",
       "            director                                           producer  \\\n",
       "0      Кевин Костнер          Дэвид Валдес, Кевин Костнер, Джейк Эбертс   \n",
       "1          Е.Матвеев                                                NaN   \n",
       "2  Тимур Бекмамбетов  Джим Лемли, Джейсон Нетер, Марк Е.Платт, Яйн Смит   \n",
       "3  Тимур Бекмамбетов  Джим Лемли, Джейсон Нетер, Марк Е.Платт, Яйн Смит   \n",
       "4  Тимур Бекмамбетов  Джим Лемли, Джейсон Нетер, Марк Е.Платт, Яйн Смит   \n",
       "\n",
       "                 age_restriction  refundable_support  nonrefundable_support  \\\n",
       "0    «18+» - запрещено для детей                 NaN                    NaN   \n",
       "1  «6+» - для детей старше 6 лет                 NaN                    NaN   \n",
       "2    «18+» - запрещено для детей                 NaN                    NaN   \n",
       "3    «18+» - запрещено для детей                 NaN                    NaN   \n",
       "4    «18+» - запрещено для детей                 NaN                    NaN   \n",
       "\n",
       "   budget financing_source ratings                     genres  box_office  \n",
       "0     NaN              NaN     7.2     боевик,драма,мелодрама         NaN  \n",
       "1     NaN              NaN     6.6              драма,военный         NaN  \n",
       "2     NaN              NaN     6.8  фантастика,боевик,триллер         NaN  \n",
       "3     NaN              NaN     6.8  фантастика,боевик,триллер         NaN  \n",
       "4     NaN              NaN     6.8  фантастика,боевик,триллер         NaN  "
      ]
     },
     "execution_count": 8,
     "metadata": {},
     "output_type": "execute_result"
    }
   ],
   "source": [
    "data = data_movies.merge(data_shows, on='puNumber', how='left')\n",
    "\n",
    "# Просмотр объедененной таблицы\n",
    "data.head()"
   ]
  },
  {
   "cell_type": "markdown",
   "metadata": {},
   "source": [
    "### Просмотр общей информации "
   ]
  },
  {
   "cell_type": "code",
   "execution_count": 9,
   "metadata": {},
   "outputs": [
    {
     "name": "stdout",
     "output_type": "stream",
     "text": [
      "<class 'pandas.core.frame.DataFrame'>\n",
      "Int64Index: 7485 entries, 0 to 7484\n",
      "Data columns (total 16 columns):\n",
      " #   Column                 Non-Null Count  Dtype  \n",
      "---  ------                 --------------  -----  \n",
      " 0   title                  7485 non-null   object \n",
      " 1   puNumber               7485 non-null   int64  \n",
      " 2   show_start_date        7485 non-null   object \n",
      " 3   type                   7485 non-null   object \n",
      " 4   film_studio            7467 non-null   object \n",
      " 5   production_country     7483 non-null   object \n",
      " 6   director               7476 non-null   object \n",
      " 7   producer               6917 non-null   object \n",
      " 8   age_restriction        7485 non-null   object \n",
      " 9   refundable_support     332 non-null    float64\n",
      " 10  nonrefundable_support  332 non-null    float64\n",
      " 11  budget                 332 non-null    float64\n",
      " 12  financing_source       332 non-null    object \n",
      " 13  ratings                6519 non-null   object \n",
      " 14  genres                 6510 non-null   object \n",
      " 15  box_office             3158 non-null   float64\n",
      "dtypes: float64(4), int64(1), object(11)\n",
      "memory usage: 994.1+ KB\n"
     ]
    }
   ],
   "source": [
    "data.info()"
   ]
  },
  {
   "cell_type": "markdown",
   "metadata": {},
   "source": [
    "Данные объедененны корректно. Тип в puNumber изменен на целочисленный."
   ]
  },
  {
   "cell_type": "markdown",
   "metadata": {},
   "source": [
    "## Вывод\n",
    "Мы просмотрели данные из 2 таблиц и объеденили их 1 датафрейм, обнаружили пропуски, некорректные типы данных и нарушение стилистики именования. Обработаем их на следующем этапе."
   ]
  },
  {
   "cell_type": "markdown",
   "metadata": {
    "id": "KLDGpPG0gFyM"
   },
   "source": [
    "# Предобработка данных"
   ]
  },
  {
   "cell_type": "markdown",
   "metadata": {},
   "source": [
    "## Приведем именование столбцов к общей стилистике"
   ]
  },
  {
   "cell_type": "code",
   "execution_count": 10,
   "metadata": {},
   "outputs": [
    {
     "data": {
      "text/plain": [
       "Index(['title', 'pu_number', 'show_start_date', 'type', 'film_studio',\n",
       "       'production_country', 'director', 'producer', 'age_restriction',\n",
       "       'refundable_support', 'nonrefundable_support', 'budget',\n",
       "       'financing_source', 'ratings', 'genres', 'box_office'],\n",
       "      dtype='object')"
      ]
     },
     "execution_count": 10,
     "metadata": {},
     "output_type": "execute_result"
    }
   ],
   "source": [
    "data = data.rename(columns={'puNumber': 'pu_number'})\n",
    "data.columns"
   ]
  },
  {
   "cell_type": "markdown",
   "metadata": {},
   "source": [
    "Столбец puNumber был назван с нарушением стилистики. Переименовали его используя snake_case"
   ]
  },
  {
   "cell_type": "markdown",
   "metadata": {},
   "source": [
    "## Изменим типы данных в столбцах show_start_date, ratings"
   ]
  },
  {
   "cell_type": "markdown",
   "metadata": {},
   "source": [
    "### Преобразуем show_start_date в datetime"
   ]
  },
  {
   "cell_type": "code",
   "execution_count": 11,
   "metadata": {},
   "outputs": [],
   "source": [
    "# Преобразуем show_start_date в datetime\n",
    "data['show_start_date'] = pd.to_datetime(data['show_start_date'], format='%Y-%m-%dT%H:%M:%S.%fZ', utc=True).dt.date"
   ]
  },
  {
   "cell_type": "markdown",
   "metadata": {},
   "source": [
    "В show_start_date мы оставили только дату."
   ]
  },
  {
   "cell_type": "markdown",
   "metadata": {},
   "source": [
    "### Проверим значения в ratings"
   ]
  },
  {
   "cell_type": "code",
   "execution_count": 12,
   "metadata": {},
   "outputs": [
    {
     "data": {
      "text/plain": [
       "array(['7.2', '6.6', '6.8', '7.7', '8.3', '8.0', '7.8', '8.1', '7.1',\n",
       "       '6.0', '7.4', '5.8', '8.7', '6.3', '6.9', '5.0', '4.3', '7.3',\n",
       "       '7.0', '6.4', nan, '8.2', '7.5', '6.7', '7.9', '5.9', '6.2', '5.6',\n",
       "       '6.5', '2.4', '7.6', '6.1', '8.6', '8.5', '8.8', '5.5', '5.1',\n",
       "       '5.7', '5.4', '99%', '4.4', '4.5', '5.3', '4.1', '8.4', '2.6',\n",
       "       '3.8', '4.6', '4.8', '4.0', '3.0', '1.6', '4.2', '5.2', '4.7',\n",
       "       '4.9', '3.9', '2.7', '3.3', '2.9', '28%', '3.7', '1.4', '3.1',\n",
       "       '97%', '3.5', '3.2', '2.8', '1.5', '2.1', '2.5', '9.2', '3.4',\n",
       "       '1.1', '3.6', '83%', '64%', '91%', '94%', '62%', '79%', '90%',\n",
       "       '19%', '88%', '1.0', '89%', '1.3', '1.9', '1.8', '1.2', '1.7',\n",
       "       '9.0', '98%', '8.9', '9.1'], dtype=object)"
      ]
     },
     "execution_count": 12,
     "metadata": {},
     "output_type": "execute_result"
    }
   ],
   "source": [
    "# Уникальные значения столбца ratings\n",
    "data['ratings'].unique()"
   ]
  },
  {
   "cell_type": "markdown",
   "metadata": {},
   "source": [
    "В ratings хранятся значения от 0 до 10 и от 0% до 100%. "
   ]
  },
  {
   "cell_type": "markdown",
   "metadata": {},
   "source": [
    "### Преобразуем процентную шкалу в десятибальную"
   ]
  },
  {
   "cell_type": "code",
   "execution_count": 13,
   "metadata": {},
   "outputs": [
    {
     "data": {
      "text/plain": [
       "array([7.2, 6.6, 6.8, 7.7, 8.3, 8. , 7.8, 8.1, 7.1, 6. , 7.4, 5.8, 8.7,\n",
       "       6.3, 6.9, 5. , 4.3, 7.3, 7. , 6.4, nan, 8.2, 7.5, 6.7, 7.9, 5.9,\n",
       "       6.2, 5.6, 6.5, 2.4, 7.6, 6.1, 8.6, 8.5, 8.8, 5.5, 5.1, 5.7, 5.4,\n",
       "       9.9, 4.4, 4.5, 5.3, 4.1, 8.4, 2.6, 3.8, 4.6, 4.8, 4. , 3. , 1.6,\n",
       "       4.2, 5.2, 4.7, 4.9, 3.9, 2.7, 3.3, 2.9, 2.8, 3.7, 1.4, 3.1, 9.7,\n",
       "       3.5, 3.2, 1.5, 2.1, 2.5, 9.2, 3.4, 1.1, 3.6, 9.1, 9.4, 9. , 1.9,\n",
       "       1. , 8.9, 1.3, 1.8, 1.2, 1.7, 9.8])"
      ]
     },
     "execution_count": 13,
     "metadata": {},
     "output_type": "execute_result"
    }
   ],
   "source": [
    "# Индексы строк, которые содержат '%' в значениях, запишем в percent_data_indexes\n",
    "percent_indexes = data.loc[data['ratings'].str.contains('%').fillna(False)].index\n",
    "# Убираем символ '%' из значений\n",
    "data.loc[data['ratings'].index.isin(percent_indexes), 'ratings'] = data.loc[data['ratings'].index.isin(percent_indexes), 'ratings'].str.strip('%')\n",
    "# Преобразуем все значения к типу float\n",
    "data['ratings'] = data['ratings'].astype(float)\n",
    "# Преобразуем процентные оценки в десятибальные, поделив значения на 10 \n",
    "data.loc[data['ratings'].index.isin(percent_indexes), 'ratings'] = data.loc[data['ratings'].index.isin(percent_indexes), 'ratings'] / 10\n",
    "\n",
    "data['ratings'].unique()"
   ]
  },
  {
   "cell_type": "markdown",
   "metadata": {},
   "source": [
    "Оценки переведены в десятибальную систему. "
   ]
  },
  {
   "cell_type": "markdown",
   "metadata": {
    "id": "i0MOLbF-gFyP"
   },
   "source": [
    "## Изучение пропусков в датафрейме"
   ]
  },
  {
   "cell_type": "markdown",
   "metadata": {},
   "source": [
    "### Проверка количества пропусков в каждом столбце"
   ]
  },
  {
   "cell_type": "code",
   "execution_count": 14,
   "metadata": {
    "id": "8MJD_lkngFyP"
   },
   "outputs": [
    {
     "data": {
      "text/plain": [
       "title                       0\n",
       "pu_number                   0\n",
       "show_start_date             0\n",
       "type                        0\n",
       "film_studio                18\n",
       "production_country          2\n",
       "director                    9\n",
       "producer                  568\n",
       "age_restriction             0\n",
       "refundable_support       7153\n",
       "nonrefundable_support    7153\n",
       "budget                   7153\n",
       "financing_source         7153\n",
       "ratings                   966\n",
       "genres                    975\n",
       "box_office               4327\n",
       "dtype: int64"
      ]
     },
     "execution_count": 14,
     "metadata": {},
     "output_type": "execute_result"
    }
   ],
   "source": [
    "data.isna().sum()"
   ]
  },
  {
   "cell_type": "markdown",
   "metadata": {},
   "source": [
    "**Пропуски в film_studio могут означать, что фильм не имеет официальную студию производства**\n"
   ]
  },
  {
   "cell_type": "markdown",
   "metadata": {},
   "source": [
    "### Заполним пропуски в film_studio на \"независимый проект\""
   ]
  },
  {
   "cell_type": "code",
   "execution_count": 15,
   "metadata": {},
   "outputs": [],
   "source": [
    "data['film_studio'] = data['film_studio'].fillna('независимый проект')"
   ]
  },
  {
   "cell_type": "markdown",
   "metadata": {},
   "source": [
    "### Проверим пропуски в production_country"
   ]
  },
  {
   "cell_type": "code",
   "execution_count": 16,
   "metadata": {},
   "outputs": [
    {
     "data": {
      "text/html": [
       "<div>\n",
       "<style scoped>\n",
       "    .dataframe tbody tr th:only-of-type {\n",
       "        vertical-align: middle;\n",
       "    }\n",
       "\n",
       "    .dataframe tbody tr th {\n",
       "        vertical-align: top;\n",
       "    }\n",
       "\n",
       "    .dataframe thead th {\n",
       "        text-align: right;\n",
       "    }\n",
       "</style>\n",
       "<table border=\"1\" class=\"dataframe\">\n",
       "  <thead>\n",
       "    <tr style=\"text-align: right;\">\n",
       "      <th></th>\n",
       "      <th>title</th>\n",
       "      <th>pu_number</th>\n",
       "      <th>show_start_date</th>\n",
       "      <th>type</th>\n",
       "      <th>film_studio</th>\n",
       "      <th>production_country</th>\n",
       "      <th>director</th>\n",
       "      <th>producer</th>\n",
       "      <th>age_restriction</th>\n",
       "      <th>refundable_support</th>\n",
       "      <th>nonrefundable_support</th>\n",
       "      <th>budget</th>\n",
       "      <th>financing_source</th>\n",
       "      <th>ratings</th>\n",
       "      <th>genres</th>\n",
       "      <th>box_office</th>\n",
       "    </tr>\n",
       "  </thead>\n",
       "  <tbody>\n",
       "    <tr>\n",
       "      <th>3185</th>\n",
       "      <td>Детский юмористический киножурнал \"Ералаш. Ну ...</td>\n",
       "      <td>111001216</td>\n",
       "      <td>2016-02-09</td>\n",
       "      <td>Художественный</td>\n",
       "      <td>ООО \"Продюсерский центр ЕРАЛАШ\"</td>\n",
       "      <td>NaN</td>\n",
       "      <td>Р.Светлов, И.Магитон, А.Арутюнян, Л.Мирский, А...</td>\n",
       "      <td>ООО \"Продюсерский центр ЕРАЛАШ\"</td>\n",
       "      <td>«0+» - для любой зрительской аудитории</td>\n",
       "      <td>NaN</td>\n",
       "      <td>NaN</td>\n",
       "      <td>NaN</td>\n",
       "      <td>NaN</td>\n",
       "      <td>7.2</td>\n",
       "      <td>детский,комедия</td>\n",
       "      <td>194527.0</td>\n",
       "    </tr>\n",
       "    <tr>\n",
       "      <th>4440</th>\n",
       "      <td>Мульт личности. Выпуск 5</td>\n",
       "      <td>214000410</td>\n",
       "      <td>2010-01-25</td>\n",
       "      <td>Художественный</td>\n",
       "      <td>независимый проект</td>\n",
       "      <td>NaN</td>\n",
       "      <td>NaN</td>\n",
       "      <td>NaN</td>\n",
       "      <td>«0+» - для любой зрительской аудитории</td>\n",
       "      <td>NaN</td>\n",
       "      <td>NaN</td>\n",
       "      <td>NaN</td>\n",
       "      <td>NaN</td>\n",
       "      <td>4.0</td>\n",
       "      <td>мультфильм,комедия</td>\n",
       "      <td>NaN</td>\n",
       "    </tr>\n",
       "  </tbody>\n",
       "</table>\n",
       "</div>"
      ],
      "text/plain": [
       "                                                  title  pu_number  \\\n",
       "3185  Детский юмористический киножурнал \"Ералаш. Ну ...  111001216   \n",
       "4440                           Мульт личности. Выпуск 5  214000410   \n",
       "\n",
       "     show_start_date            type                      film_studio  \\\n",
       "3185      2016-02-09  Художественный  ООО \"Продюсерский центр ЕРАЛАШ\"   \n",
       "4440      2010-01-25  Художественный               независимый проект   \n",
       "\n",
       "     production_country                                           director  \\\n",
       "3185                NaN  Р.Светлов, И.Магитон, А.Арутюнян, Л.Мирский, А...   \n",
       "4440                NaN                                                NaN   \n",
       "\n",
       "                             producer                         age_restriction  \\\n",
       "3185  ООО \"Продюсерский центр ЕРАЛАШ\"  «0+» - для любой зрительской аудитории   \n",
       "4440                              NaN  «0+» - для любой зрительской аудитории   \n",
       "\n",
       "      refundable_support  nonrefundable_support  budget financing_source  \\\n",
       "3185                 NaN                    NaN     NaN              NaN   \n",
       "4440                 NaN                    NaN     NaN              NaN   \n",
       "\n",
       "      ratings              genres  box_office  \n",
       "3185      7.2     детский,комедия    194527.0  \n",
       "4440      4.0  мультфильм,комедия         NaN  "
      ]
     },
     "execution_count": 16,
     "metadata": {},
     "output_type": "execute_result"
    }
   ],
   "source": [
    "data[data['production_country'].isna()]"
   ]
  },
  {
   "cell_type": "markdown",
   "metadata": {},
   "source": [
    "Пропуски могут быть связаны с ошибкой при сборе данных. Детский юмористический киножурнал \"Ералаш\" и Мульт личности были сняты в России. Заполним пропуски."
   ]
  },
  {
   "cell_type": "markdown",
   "metadata": {},
   "source": [
    "### Заполним пропуски в production_country"
   ]
  },
  {
   "cell_type": "code",
   "execution_count": 17,
   "metadata": {},
   "outputs": [],
   "source": [
    "data['production_country'] = data['production_country'].fillna('Россия')"
   ]
  },
  {
   "cell_type": "markdown",
   "metadata": {},
   "source": [
    "### Заполним пропуски в director"
   ]
  },
  {
   "cell_type": "markdown",
   "metadata": {},
   "source": [
    "В независимых или любительских проектах режисер может быть не указан, также, это может быть ошибкой при вводе или сборе данных. Заполним пропуски значением \"не указан\""
   ]
  },
  {
   "cell_type": "code",
   "execution_count": 18,
   "metadata": {},
   "outputs": [],
   "source": [
    "data['director'] = data['director'].fillna('не указан')"
   ]
  },
  {
   "cell_type": "markdown",
   "metadata": {},
   "source": [
    "### Заполним пропуски в producer"
   ]
  },
  {
   "cell_type": "markdown",
   "metadata": {},
   "source": [
    "Независимые и авторские проекты могут не иметь независимого продюссера, а также низкобюджетные, документальные фильмы и фильмы снятые в СССР. Заполним пропуски значением \"не указан\""
   ]
  },
  {
   "cell_type": "code",
   "execution_count": 19,
   "metadata": {},
   "outputs": [],
   "source": [
    "data['producer'] = data['producer'].fillna('не указан')"
   ]
  },
  {
   "cell_type": "markdown",
   "metadata": {},
   "source": [
    "Пропуски в столбцах:\n",
    "- refundable_support\n",
    "- nonrefundable_support\n",
    "- budget\n",
    "- financing_source\n",
    "<br>\n",
    "\n",
    "Пропуски означают об отсутствии госсударственной поддержки для большинства фильмов. Одинаковое значение пропусков у budget и остальных столбцов говорит о том, что только фильмы, получившие поддержку имеют данные о бюджете. \n",
    "\n",
    "- ratings\n",
    "<br>\n",
    "\n",
    "Возможно, рейтинг формируется после определенного количества оценок. Слишком малое количество людей поставили оценку, поэтому возникают пропуски. Пропуски заполним значением 0.0, которое будет обозначать отсутсвие рейтинга.\n",
    "\n",
    "- genres\n",
    "<br>\n",
    "\n",
    "У некоторых проектов может быть неопределенный жанр или нельзя было выделить определенный. Также, может быть ошибка при заполнении. Заполним пропуски значением \"не указан\"\n",
    "\n",
    "- box_office\n",
    "<br>\n",
    "\n",
    "Не все фильмы выходят в широкий прокат, некоторые могли провалиться в прокате и не собрать значительную сумму. Также, фильмы могут быть достсточно старыми и нет информации о сборах.\n",
    "<br>\n",
    "**Остальные пропуски оставим без изменений без изменений**"
   ]
  },
  {
   "cell_type": "markdown",
   "metadata": {},
   "source": [
    "### Заполним пропуски в ratings на 0.0"
   ]
  },
  {
   "cell_type": "code",
   "execution_count": 20,
   "metadata": {},
   "outputs": [],
   "source": [
    "data['ratings'] = data['ratings'].fillna(0.0)"
   ]
  },
  {
   "cell_type": "markdown",
   "metadata": {},
   "source": [
    "### Заполним пропуски в genres на \"не указан\""
   ]
  },
  {
   "cell_type": "code",
   "execution_count": 21,
   "metadata": {},
   "outputs": [],
   "source": [
    "data['genres'] = data['genres'].fillna('не указан')"
   ]
  },
  {
   "cell_type": "markdown",
   "metadata": {},
   "source": [
    "### Проверим уникальные значения в age_restriction и сократим их запись"
   ]
  },
  {
   "cell_type": "code",
   "execution_count": 22,
   "metadata": {},
   "outputs": [
    {
     "data": {
      "text/plain": [
       "array(['«18+» - запрещено для детей', '«6+» - для детей старше 6 лет',\n",
       "       '«12+» - для детей старше 12 лет',\n",
       "       '«16+» - для детей старше 16 лет',\n",
       "       '«0+» - для любой зрительской аудитории'], dtype=object)"
      ]
     },
     "execution_count": 22,
     "metadata": {},
     "output_type": "execute_result"
    }
   ],
   "source": [
    "# Выведем уникальные записи\n",
    "data['age_restriction'].unique()"
   ]
  },
  {
   "cell_type": "code",
   "execution_count": 23,
   "metadata": {},
   "outputs": [
    {
     "data": {
      "text/plain": [
       "array(['18+', '6+', '12+', '16+', '0+'], dtype=object)"
      ]
     },
     "execution_count": 23,
     "metadata": {},
     "output_type": "execute_result"
    }
   ],
   "source": [
    "# Сократим записи\n",
    "age_shorten = {\n",
    "    '«18+» - запрещено для детей': '18+',\n",
    "    '«12+» - для детей старше 12 лет': '12+',\n",
    "    '«16+» - для детей старше 16 лет': '16+',\n",
    "    '«6+» - для детей старше 6 лет': '6+',\n",
    "    '«0+» - для любой зрительской аудитории': '0+'\n",
    "}\n",
    "\n",
    "data.replace({'age_restriction': age_shorten}, inplace=True)\n",
    "data['age_restriction'].unique()"
   ]
  },
  {
   "cell_type": "markdown",
   "metadata": {
    "id": "4c6k1t9ygFyQ"
   },
   "source": [
    "## Изучение дубликатов в датафрейме"
   ]
  },
  {
   "cell_type": "markdown",
   "metadata": {
    "id": "aKck8RIdgFyQ"
   },
   "source": [
    "### Проверим количество явных дубликатов"
   ]
  },
  {
   "cell_type": "code",
   "execution_count": 24,
   "metadata": {},
   "outputs": [
    {
     "data": {
      "text/plain": [
       "0"
      ]
     },
     "execution_count": 24,
     "metadata": {},
     "output_type": "execute_result"
    }
   ],
   "source": [
    "data.duplicated().sum()"
   ]
  },
  {
   "cell_type": "markdown",
   "metadata": {},
   "source": [
    "Явных дубликатов нет"
   ]
  },
  {
   "cell_type": "markdown",
   "metadata": {},
   "source": [
    "### Проверим неявные дубликаты в title"
   ]
  },
  {
   "cell_type": "code",
   "execution_count": 25,
   "metadata": {},
   "outputs": [
    {
     "data": {
      "text/plain": [
       "714"
      ]
     },
     "execution_count": 25,
     "metadata": {},
     "output_type": "execute_result"
    }
   ],
   "source": [
    "data['title'].duplicated().sum()"
   ]
  },
  {
   "cell_type": "markdown",
   "metadata": {},
   "source": [
    "Названия фильмов могут повторяться и один фильм мог быть в прокате несколько раз."
   ]
  },
  {
   "cell_type": "markdown",
   "metadata": {},
   "source": [
    "### Проверим неявные дубликаты в pu_number"
   ]
  },
  {
   "cell_type": "code",
   "execution_count": 26,
   "metadata": {},
   "outputs": [
    {
     "data": {
      "text/html": [
       "<div>\n",
       "<style scoped>\n",
       "    .dataframe tbody tr th:only-of-type {\n",
       "        vertical-align: middle;\n",
       "    }\n",
       "\n",
       "    .dataframe tbody tr th {\n",
       "        vertical-align: top;\n",
       "    }\n",
       "\n",
       "    .dataframe thead th {\n",
       "        text-align: right;\n",
       "    }\n",
       "</style>\n",
       "<table border=\"1\" class=\"dataframe\">\n",
       "  <thead>\n",
       "    <tr style=\"text-align: right;\">\n",
       "      <th></th>\n",
       "      <th>title</th>\n",
       "      <th>pu_number</th>\n",
       "      <th>show_start_date</th>\n",
       "      <th>type</th>\n",
       "      <th>film_studio</th>\n",
       "      <th>production_country</th>\n",
       "      <th>director</th>\n",
       "      <th>producer</th>\n",
       "      <th>age_restriction</th>\n",
       "      <th>refundable_support</th>\n",
       "      <th>nonrefundable_support</th>\n",
       "      <th>budget</th>\n",
       "      <th>financing_source</th>\n",
       "      <th>ratings</th>\n",
       "      <th>genres</th>\n",
       "      <th>box_office</th>\n",
       "    </tr>\n",
       "  </thead>\n",
       "  <tbody>\n",
       "    <tr>\n",
       "      <th>4638</th>\n",
       "      <td>Иоанна - женщина на папском престоле /По роман...</td>\n",
       "      <td>221154310</td>\n",
       "      <td>2010-12-17</td>\n",
       "      <td>Художественный</td>\n",
       "      <td>Константин Фильм, А Эр Ди Дегето Фильм, Дюне ...</td>\n",
       "      <td>Германия - Великобритания - Италия - Испания</td>\n",
       "      <td>Зенке Вортманн</td>\n",
       "      <td>Оливер Бербен, Дорис Д.Хайнце, Фарук Элтан</td>\n",
       "      <td>16+</td>\n",
       "      <td>NaN</td>\n",
       "      <td>NaN</td>\n",
       "      <td>NaN</td>\n",
       "      <td>NaN</td>\n",
       "      <td>7.6</td>\n",
       "      <td>драма,мелодрама,история</td>\n",
       "      <td>NaN</td>\n",
       "    </tr>\n",
       "    <tr>\n",
       "      <th>5067</th>\n",
       "      <td>Анализируй то!</td>\n",
       "      <td>221054410</td>\n",
       "      <td>2010-05-25</td>\n",
       "      <td>Художественный</td>\n",
       "      <td>Уорнер Бразерс, Виллидж Роадшоу Пикчерз, Эн-Пи...</td>\n",
       "      <td>США</td>\n",
       "      <td>Гарольд Реймис</td>\n",
       "      <td>Джейн Розенталь, Паул Уэйнстейн</td>\n",
       "      <td>12+</td>\n",
       "      <td>NaN</td>\n",
       "      <td>NaN</td>\n",
       "      <td>NaN</td>\n",
       "      <td>NaN</td>\n",
       "      <td>6.8</td>\n",
       "      <td>комедия,криминал</td>\n",
       "      <td>NaN</td>\n",
       "    </tr>\n",
       "  </tbody>\n",
       "</table>\n",
       "</div>"
      ],
      "text/plain": [
       "                                                  title  pu_number  \\\n",
       "4638  Иоанна - женщина на папском престоле /По роман...  221154310   \n",
       "5067                                     Анализируй то!  221054410   \n",
       "\n",
       "     show_start_date            type  \\\n",
       "4638      2010-12-17  Художественный   \n",
       "5067      2010-05-25  Художественный   \n",
       "\n",
       "                                            film_studio  \\\n",
       "4638   Константин Фильм, А Эр Ди Дегето Фильм, Дюне ...   \n",
       "5067  Уорнер Бразерс, Виллидж Роадшоу Пикчерз, Эн-Пи...   \n",
       "\n",
       "                                production_country        director  \\\n",
       "4638  Германия - Великобритания - Италия - Испания  Зенке Вортманн   \n",
       "5067                                           США  Гарольд Реймис   \n",
       "\n",
       "                                        producer age_restriction  \\\n",
       "4638  Оливер Бербен, Дорис Д.Хайнце, Фарук Элтан             16+   \n",
       "5067             Джейн Розенталь, Паул Уэйнстейн             12+   \n",
       "\n",
       "      refundable_support  nonrefundable_support  budget financing_source  \\\n",
       "4638                 NaN                    NaN     NaN              NaN   \n",
       "5067                 NaN                    NaN     NaN              NaN   \n",
       "\n",
       "      ratings                   genres  box_office  \n",
       "4638      7.6  драма,мелодрама,история         NaN  \n",
       "5067      6.8         комедия,криминал         NaN  "
      ]
     },
     "execution_count": 26,
     "metadata": {},
     "output_type": "execute_result"
    }
   ],
   "source": [
    "data[data['pu_number'].duplicated()]"
   ]
  },
  {
   "cell_type": "markdown",
   "metadata": {},
   "source": [
    "У фильмов с прокатными удоствоверениями  221154310 и 221054410 есть дубликаты. Выведем их."
   ]
  },
  {
   "cell_type": "code",
   "execution_count": 27,
   "metadata": {},
   "outputs": [
    {
     "data": {
      "text/html": [
       "<div>\n",
       "<style scoped>\n",
       "    .dataframe tbody tr th:only-of-type {\n",
       "        vertical-align: middle;\n",
       "    }\n",
       "\n",
       "    .dataframe tbody tr th {\n",
       "        vertical-align: top;\n",
       "    }\n",
       "\n",
       "    .dataframe thead th {\n",
       "        text-align: right;\n",
       "    }\n",
       "</style>\n",
       "<table border=\"1\" class=\"dataframe\">\n",
       "  <thead>\n",
       "    <tr style=\"text-align: right;\">\n",
       "      <th></th>\n",
       "      <th>title</th>\n",
       "      <th>pu_number</th>\n",
       "      <th>show_start_date</th>\n",
       "      <th>type</th>\n",
       "      <th>film_studio</th>\n",
       "      <th>production_country</th>\n",
       "      <th>director</th>\n",
       "      <th>producer</th>\n",
       "      <th>age_restriction</th>\n",
       "      <th>refundable_support</th>\n",
       "      <th>nonrefundable_support</th>\n",
       "      <th>budget</th>\n",
       "      <th>financing_source</th>\n",
       "      <th>ratings</th>\n",
       "      <th>genres</th>\n",
       "      <th>box_office</th>\n",
       "    </tr>\n",
       "  </thead>\n",
       "  <tbody>\n",
       "    <tr>\n",
       "      <th>4637</th>\n",
       "      <td>Как жениться и остаться холостым</td>\n",
       "      <td>221154310</td>\n",
       "      <td>2010-12-17</td>\n",
       "      <td>Художественный</td>\n",
       "      <td>Ше Вам, Скрипт Ассосье, Тэ Фэ 1 Фильм Продюксь...</td>\n",
       "      <td>Франция</td>\n",
       "      <td>Эрик Лартиго</td>\n",
       "      <td>Амандин Било, Алан Шаба</td>\n",
       "      <td>16+</td>\n",
       "      <td>NaN</td>\n",
       "      <td>NaN</td>\n",
       "      <td>NaN</td>\n",
       "      <td>NaN</td>\n",
       "      <td>7.0</td>\n",
       "      <td>мелодрама,комедия</td>\n",
       "      <td>NaN</td>\n",
       "    </tr>\n",
       "    <tr>\n",
       "      <th>4638</th>\n",
       "      <td>Иоанна - женщина на папском престоле /По роман...</td>\n",
       "      <td>221154310</td>\n",
       "      <td>2010-12-17</td>\n",
       "      <td>Художественный</td>\n",
       "      <td>Константин Фильм, А Эр Ди Дегето Фильм, Дюне ...</td>\n",
       "      <td>Германия - Великобритания - Италия - Испания</td>\n",
       "      <td>Зенке Вортманн</td>\n",
       "      <td>Оливер Бербен, Дорис Д.Хайнце, Фарук Элтан</td>\n",
       "      <td>16+</td>\n",
       "      <td>NaN</td>\n",
       "      <td>NaN</td>\n",
       "      <td>NaN</td>\n",
       "      <td>NaN</td>\n",
       "      <td>7.6</td>\n",
       "      <td>драма,мелодрама,история</td>\n",
       "      <td>NaN</td>\n",
       "    </tr>\n",
       "    <tr>\n",
       "      <th>5066</th>\n",
       "      <td>Анализируй это!</td>\n",
       "      <td>221054410</td>\n",
       "      <td>2010-05-25</td>\n",
       "      <td>Художественный</td>\n",
       "      <td>Уорнер Бразерс, Вилладж Роудшоу Филмз ЛТД</td>\n",
       "      <td>США-Австралия</td>\n",
       "      <td>ХЭрольд Рэмис</td>\n",
       "      <td>Джейн Розенталь, Пола Уейнстейн</td>\n",
       "      <td>16+</td>\n",
       "      <td>NaN</td>\n",
       "      <td>NaN</td>\n",
       "      <td>NaN</td>\n",
       "      <td>NaN</td>\n",
       "      <td>7.4</td>\n",
       "      <td>комедия,криминал</td>\n",
       "      <td>NaN</td>\n",
       "    </tr>\n",
       "    <tr>\n",
       "      <th>5067</th>\n",
       "      <td>Анализируй то!</td>\n",
       "      <td>221054410</td>\n",
       "      <td>2010-05-25</td>\n",
       "      <td>Художественный</td>\n",
       "      <td>Уорнер Бразерс, Виллидж Роадшоу Пикчерз, Эн-Пи...</td>\n",
       "      <td>США</td>\n",
       "      <td>Гарольд Реймис</td>\n",
       "      <td>Джейн Розенталь, Паул Уэйнстейн</td>\n",
       "      <td>12+</td>\n",
       "      <td>NaN</td>\n",
       "      <td>NaN</td>\n",
       "      <td>NaN</td>\n",
       "      <td>NaN</td>\n",
       "      <td>6.8</td>\n",
       "      <td>комедия,криминал</td>\n",
       "      <td>NaN</td>\n",
       "    </tr>\n",
       "  </tbody>\n",
       "</table>\n",
       "</div>"
      ],
      "text/plain": [
       "                                                  title  pu_number  \\\n",
       "4637                   Как жениться и остаться холостым  221154310   \n",
       "4638  Иоанна - женщина на папском престоле /По роман...  221154310   \n",
       "5066                                    Анализируй это!  221054410   \n",
       "5067                                     Анализируй то!  221054410   \n",
       "\n",
       "     show_start_date            type  \\\n",
       "4637      2010-12-17  Художественный   \n",
       "4638      2010-12-17  Художественный   \n",
       "5066      2010-05-25  Художественный   \n",
       "5067      2010-05-25  Художественный   \n",
       "\n",
       "                                            film_studio  \\\n",
       "4637  Ше Вам, Скрипт Ассосье, Тэ Фэ 1 Фильм Продюксь...   \n",
       "4638   Константин Фильм, А Эр Ди Дегето Фильм, Дюне ...   \n",
       "5066          Уорнер Бразерс, Вилладж Роудшоу Филмз ЛТД   \n",
       "5067  Уорнер Бразерс, Виллидж Роадшоу Пикчерз, Эн-Пи...   \n",
       "\n",
       "                                production_country        director  \\\n",
       "4637                                       Франция    Эрик Лартиго   \n",
       "4638  Германия - Великобритания - Италия - Испания  Зенке Вортманн   \n",
       "5066                                 США-Австралия   ХЭрольд Рэмис   \n",
       "5067                                           США  Гарольд Реймис   \n",
       "\n",
       "                                        producer age_restriction  \\\n",
       "4637                     Амандин Било, Алан Шаба             16+   \n",
       "4638  Оливер Бербен, Дорис Д.Хайнце, Фарук Элтан             16+   \n",
       "5066             Джейн Розенталь, Пола Уейнстейн             16+   \n",
       "5067             Джейн Розенталь, Паул Уэйнстейн             12+   \n",
       "\n",
       "      refundable_support  nonrefundable_support  budget financing_source  \\\n",
       "4637                 NaN                    NaN     NaN              NaN   \n",
       "4638                 NaN                    NaN     NaN              NaN   \n",
       "5066                 NaN                    NaN     NaN              NaN   \n",
       "5067                 NaN                    NaN     NaN              NaN   \n",
       "\n",
       "      ratings                   genres  box_office  \n",
       "4637      7.0        мелодрама,комедия         NaN  \n",
       "4638      7.6  драма,мелодрама,история         NaN  \n",
       "5066      7.4         комедия,криминал         NaN  \n",
       "5067      6.8         комедия,криминал         NaN  "
      ]
     },
     "execution_count": 27,
     "metadata": {},
     "output_type": "execute_result"
    }
   ],
   "source": [
    "data[(data['pu_number'] == 221154310) | (data['pu_number'] == 221054410)]"
   ]
  },
  {
   "cell_type": "markdown",
   "metadata": {},
   "source": [
    "Одинакового прокатного удостоверения у двух разных фильмов быть не может, т.к. оно уникально. Удалим эти записи. "
   ]
  },
  {
   "cell_type": "code",
   "execution_count": 28,
   "metadata": {},
   "outputs": [
    {
     "data": {
      "text/plain": [
       "0"
      ]
     },
     "execution_count": 28,
     "metadata": {},
     "output_type": "execute_result"
    }
   ],
   "source": [
    "# Удалим дубликаты\n",
    "data = data.drop(index=[4637, 4638, 5066, 5067])\n",
    "data['pu_number'].duplicated().sum()"
   ]
  },
  {
   "cell_type": "markdown",
   "metadata": {
    "id": "52fOPrEBgFyQ"
   },
   "source": [
    "## Изучение категориальных значений"
   ]
  },
  {
   "cell_type": "markdown",
   "metadata": {},
   "source": [
    "### Проверим неявные дубликаты в type"
   ]
  },
  {
   "cell_type": "code",
   "execution_count": 29,
   "metadata": {},
   "outputs": [
    {
     "data": {
      "text/plain": [
       "array(['Художественный', 'Анимационный', 'Прочие', 'Документальный',\n",
       "       'Научно-популярный', ' Художественный', ' Анимационный',\n",
       "       'Музыкально-развлекательный'], dtype=object)"
      ]
     },
     "execution_count": 29,
     "metadata": {},
     "output_type": "execute_result"
    }
   ],
   "source": [
    "data['type'].unique()"
   ]
  },
  {
   "cell_type": "markdown",
   "metadata": {},
   "source": [
    "В некоторых значениях есть лишний пробел строкой."
   ]
  },
  {
   "cell_type": "markdown",
   "metadata": {},
   "source": [
    "### Удаление лишнего пробела в значениях столбца type"
   ]
  },
  {
   "cell_type": "code",
   "execution_count": 30,
   "metadata": {},
   "outputs": [
    {
     "data": {
      "text/plain": [
       "array(['Художественный', 'Анимационный', 'Прочие', 'Документальный',\n",
       "       'Научно-популярный', 'Музыкально-развлекательный'], dtype=object)"
      ]
     },
     "execution_count": 30,
     "metadata": {},
     "output_type": "execute_result"
    }
   ],
   "source": [
    "data['type'] = data['type'].str.strip()\n",
    "data['type'].unique()"
   ]
  },
  {
   "cell_type": "markdown",
   "metadata": {},
   "source": [
    "### Проверка значений в title"
   ]
  },
  {
   "cell_type": "code",
   "execution_count": 31,
   "metadata": {},
   "outputs": [
    {
     "data": {
      "text/plain": [
       "[' Я ПРЕПОД',\n",
       " '\"SOS\" над тайгой',\n",
       " '\"V\" значит вендетта',\n",
       " '\"АРТиШОК\" анимационный альманах авторских фильмов',\n",
       " '\"Бежин луг\" Сергея Эйзенштейна',\n",
       " '\"Державная\" Размышления 100 лет спустя',\n",
       " '\"Зеленое яблоко\" анимационный альманах выпуск № 7',\n",
       " '\"Машины песенки\". Серия \"Опять Новый Год!\"',\n",
       " '\"Море\"',\n",
       " '\"Сезон дождей\", \"Диета Матроскина\", \"Шарик хочет телефон\" из анимационного сериала \"Простоквашино\"',\n",
       " '\"Старый\" Новый год',\n",
       " '\"Уорнер Бразерс Пикчерз\" и \"Леджендари Пикчерз\": Тихоокеанский рубеж',\n",
       " '\"Фееринки\". Серия \"Фантик спешит на помощь\"',\n",
       " '\"Хороший день\", \"Бог из машины/Deus EX\", \"Голод\", \"Психотроника\", \"Темная ночь\"',\n",
       " '\"Чудовище из Простоквашино\", \"Ген героя\", \"Ненастоящий детектив\", \"Мама и Тама\", \"Как бы не стало зимы\" из анимационного сериала \"Простоквашино\"',\n",
       " '#ВСЁ_ИСПРАВИТЬ!?!',\n",
       " '#Москва-Руаян',\n",
       " '#ЯВОЛОНТЕР Истории неравнодушных',\n",
       " '(Не)жданный принц',\n",
       " '(Не)идеальный мужчина',\n",
       " '... в стиле JAZZ',\n",
       " '... и я там был',\n",
       " '... имени Сергея Герасимова',\n",
       " '007 Координаты Скайфолл',\n",
       " '007: Спектр',\n",
       " '1+1',\n",
       " '1+1. Нарушая правила',\n",
       " '1+1: Голливудская история',\n",
       " '10 000 км.: Любовь на расстоянии',\n",
       " '10 000 лет до н.э.',\n",
       " '10 лет спустя',\n",
       " '10 лет спустя.',\n",
       " '10 мгновений судьбы',\n",
       " '100 вещей и ничего лишнего',\n",
       " '100 лет Чувашской автономии',\n",
       " '100 лет дизайна',\n",
       " '100 миллионов евро',\n",
       " '1001 рецепт влюбленного кулинара',\n",
       " '11 минут',\n",
       " '11-11-11',\n",
       " '118 секунд, до... и после',\n",
       " '12 лет рабства',\n",
       " '12 мелодий любви',\n",
       " '12 месяцев',\n",
       " '12 месяцев. Новая сказка',\n",
       " '120/80',\n",
       " '127 часов',\n",
       " '128 ударов сердца в минуту',\n",
       " '13 грехов',\n",
       " '13 убийц',\n",
       " '13 часов: Тайные солдаты Бенгази',\n",
       " '13-й район: Кирпичные особняки',\n",
       " '13.',\n",
       " '14+',\n",
       " '1408 /По рассказу Стивена Кинга/',\n",
       " '1812: Уланская баллада',\n",
       " '1915',\n",
       " '1937. Время смерти (\"Судоходное кладбище\", \"Трагедия праздника\")',\n",
       " '2 + 2',\n",
       " '2 спальни, 1 ванная',\n",
       " '2+1',\n",
       " '20 000 дней на Земле',\n",
       " '2001 год: Космическая одиссея',\n",
       " '2012',\n",
       " '2016: Конец ночи',\n",
       " '20:17',\n",
       " '21 и больше',\n",
       " '21 и больше (в переводе Гоблина)',\n",
       " '21 мост',\n",
       " '22 мили',\n",
       " '22 минуты',\n",
       " '22 пули: Бессмертный',\n",
       " '22 ярда',\n",
       " '24 снега',\n",
       " '24 часа на жизнь',\n",
       " '28 Панфиловцев',\n",
       " '28 спален',\n",
       " '2:22 (2017)',\n",
       " '2рас: Легенда',\n",
       " '3 дня с Роми Шнайдер',\n",
       " '3 идиота',\n",
       " '3 сердца',\n",
       " '3 счастливых поросёнка',\n",
       " '30 безумных желаний',\n",
       " '30 свиданий',\n",
       " '300 спартанцев /По роману-комиксу Фрэнка Миллера и Линн Варли/',\n",
       " '300 спартанцев: Расцвет империи /По произведению Фрэнка Миллера \"Ксеркс\"/',\n",
       " '300 спартанцев: Расцвет империи /По произведению Фрэнка Миллера \"Ксеркс\"/ (на английском языке)',\n",
       " '300 спартанцев: Расцвет империи /По произведению Фрэнка Миллера \"Ксеркс\"/.',\n",
       " '302 БИС',\n",
       " '31: Праздник смерти',\n",
       " '321-я Сибирская, фильм первый \"Братья\"',\n",
       " '34 - й скорый',\n",
       " '36, Набережная Орфевр',\n",
       " '38-я параллель',\n",
       " '4 ДНЯ В МАЕ',\n",
       " '4.3.2.1.',\n",
       " '44 котёнка',\n",
       " '45 лет',\n",
       " '47 ронинов',\n",
       " '4:44. Последний день на Земле',\n",
       " '5 000 раз вокруг света',\n",
       " '5-я волна',\n",
       " '50 весенних дней',\n",
       " '50 первых поцелуев',\n",
       " '500 дней лета',\n",
       " '6 дней ',\n",
       " '695',\n",
       " '7 главных желаний',\n",
       " '7 дней и ночей с Мэрилин',\n",
       " '7 социопатов',\n",
       " '7 ящиков',\n",
       " '7-ой гном 3D',\n",
       " '72 метра (3 серии)',\n",
       " '72 часа',\n",
       " '8 1/2 (Восемь с половиной)',\n",
       " '8 лучших свиданий',\n",
       " '8 новых свиданий',\n",
       " '8 первых свиданий',\n",
       " '8 подруг Оушена',\n",
       " '9 месяцев строгого режима',\n",
       " '9/11',\n",
       " '901 километр',\n",
       " '999',\n",
       " 'All inclusive или Все Включено',\n",
       " 'Angry Birds 2 в кино',\n",
       " 'Angry Birds в кино',\n",
       " 'Aroused: Откровения лучших порномоделей',\n",
       " 'BEEF: РУССКИЙ ХИП-ХОП',\n",
       " 'BEST OF shnit 2017',\n",
       " 'BTS: Открой свою душу. Фильм',\n",
       " 'Best Erotic Shorts. Альманах',\n",
       " 'Best Of Shnit 2015. Лучшее Шнит 2015',\n",
       " 'Bjork. Biophilia Live',\n",
       " 'Blood-C: Последний темный',\n",
       " 'Bon Jovi. The Circle Tour',\n",
       " 'Cirque du Soleil: Сказочный мир в 3D',\n",
       " 'CitizenFour. Правда Сноудена',\n",
       " 'Coldplay: A Head Full Of Dreams',\n",
       " 'DED_005',\n",
       " 'Def Leppard. Viva Hysteria',\n",
       " 'Die erste liebe (Первая любовь)',\n",
       " 'Dream Theatre. Live At Luna Park',\n",
       " 'Duran Duran. Unstaged',\n",
       " 'Elton John. The Million Dollar Piano',\n",
       " 'Everybody In The Place: Рейв как забастовка',\n",
       " 'Fair play (Честная игра)',\n",
       " 'Ford против Ferrari',\n",
       " 'G.I.Joe: Бросок кобры 2',\n",
       " 'Generation П',\n",
       " 'George Michael: Live In London',\n",
       " 'Gimme Danger. История Игги и The Stooges',\n",
       " \"Guns N'Roses. 2012 Tour\",\n",
       " 'Italian Best Shorts 3: Итальянские фантазии (Лучшие итальянские короткометражки 3: Итальянские фантазии)',\n",
       " 'Italian best shorts 2: Любовь в Вечном городе (Лучшие итальянские короткометражки - 2: Любовь в Вечном городе',\n",
       " 'KISS Rocks Vegas',\n",
       " 'Kinematic Shorts: Lucly Seven. Программа короткометражного кино',\n",
       " 'Kinematic Shorts: Spring. Shorts. Fun. Программа короткометражного кино',\n",
       " 'Kingsman: Золотое кольцо',\n",
       " 'Kingsman: Секретная служба',\n",
       " 'LIAF-2014. Программа Лондонского международного анимационного фестиваля',\n",
       " 'Led Zeppelin. Celebration Day',\n",
       " 'Lil Peep: всё для всех',\n",
       " 'MAMMA MIA! 2',\n",
       " 'Magnetisme animal/Магнетизм',\n",
       " 'Metallica: Сквозь невозможное',\n",
       " 'Muse. Live at Rome',\n",
       " 'My Little Pony в кино',\n",
       " 'Mylene Farmer. Timeless 2013 the Movie',\n",
       " 'Need for Speed: Жажда скорости',\n",
       " 'No comment (Нет комментариев)',\n",
       " 'One Direction: Where We Are',\n",
       " 'One Direction: Это мы',\n",
       " 'Oscar Shorts - 2014. Фильмы',\n",
       " 'Oscar Shorts - Анимация',\n",
       " 'Oscar Shorts - Фильмы',\n",
       " 'P.S. Я люблю тебя /По одноименному произведению Сесилии Ахерн/',\n",
       " 'PRO КИНО',\n",
       " 'Paul McCartney. Rockshow',\n",
       " 'Prada и чувства',\n",
       " 'Pro любовь',\n",
       " 'Queen. Live in Bohemia',\n",
       " 'Queen. Live in Budapest 1986',\n",
       " 'Queen. Rock Montreal',\n",
       " 'SHNIT SHORTS 2019. Анимационная программа',\n",
       " 'SHNIT SHORTS 2019. Игровое кино',\n",
       " 'SLOVE. Прямо в сердце',\n",
       " 'SOS, ДЕД МОРОЗ ИЛИ ВСЁ СБУДЕТСЯ!',\n",
       " 'SaLsa Belly Dance - часть 1 и 2',\n",
       " 'Sex Doll / Влюбленные одиночки',\n",
       " 'Stars in Shorts',\n",
       " 'Starперцы',\n",
       " 'SuperАлиби',\n",
       " 'SuperЗять',\n",
       " 'Superнянь',\n",
       " 'Superнянь 2',\n",
       " \"The Chemical Brothers - Don't Think (Не думай)\",\n",
       " \"The Doors - Live At the Bowl'68. Концерт\",\n",
       " \"The Doors. When You' re Strange\",\n",
       " \"The Prodigy - World's On Fire (Продиджи. Миры в огне). Фильм-концерт\",\n",
       " 'Tomb Raider: Лара Крофт',\n",
       " 'Turbo (Турбо)',\n",
       " 'U2 3D.',\n",
       " 'UglyDolls. Куклы с характером',\n",
       " 'Update/Delete (Апдейт/Делит)',\n",
       " 'Va-Банк',\n",
       " 'WINX Club 3D: Волшебное приключение',\n",
       " 'WTF! Какого черта?',\n",
       " 'Weekend  (Уик-энд)',\n",
       " 'Weekend  (Уик-энд).',\n",
       " 'Whisky с молоком',\n",
       " 'Winx Club: Спасаем животных!',\n",
       " 'Winx Club: Спасаем океан',\n",
       " 'Yesterday (Вчера)',\n",
       " 'Zолушка',\n",
       " 'Zомбилэнд: Контрольный выстрел',\n",
       " 'g (джи)',\n",
       " 'Ёлки',\n",
       " 'Ёлки - 2',\n",
       " 'Ёлки 1914',\n",
       " 'Ёлки 3',\n",
       " 'Ёлки 5',\n",
       " 'Ёлки Новые',\n",
       " 'Ёлки Последние',\n",
       " 'А был ли Каротин?',\n",
       " 'А вот и она',\n",
       " 'А если это любовь?',\n",
       " 'А зори здесь тихие..._',\n",
       " 'А мама лучше! (рабочее название \"Вся прелесть любви\")',\n",
       " 'А.Адан. Жизель. Хореография Матса Эка',\n",
       " 'А.К.А',\n",
       " 'А.С.Пушкин \"Сказка о Царе Салтане\"',\n",
       " 'АБ ОВО',\n",
       " 'АНАТОМИЯ ИЗМЕНЫ',\n",
       " 'АРИФМЕТИКА СВОБОДЫ',\n",
       " 'АРМЕН и Я',\n",
       " 'АТАКА ТИТАНОВ. ФИЛЬМ ПЕРВЫЙ. ЖЕСТОКИЙ МИР',\n",
       " 'АТОМНЫЙ ИВАН',\n",
       " 'Абатуар. Лабиринт страха',\n",
       " 'Аббатство Даунтон',\n",
       " 'Абсолютная власть',\n",
       " 'Аванпост',\n",
       " 'Авантюристы.',\n",
       " 'Аварийное состояние',\n",
       " 'Авария - дочь мента',\n",
       " 'Аватар. Специальная версия',\n",
       " 'Аватар_',\n",
       " 'Август /По пьесе Трэйси Леттс/',\n",
       " 'Август. Восьмого',\n",
       " 'Автобан',\n",
       " 'Автобиография лжеца 3D',\n",
       " 'Автомобиль, скрипка и собака Клякса',\n",
       " 'Автостопом по Галактике',\n",
       " 'Агасфер',\n",
       " 'Агент 044: Операция Гегард',\n",
       " 'Агент 117: Миссия в Рио',\n",
       " 'Агент Джонни Инглиш 2: Перезагрузка',\n",
       " 'Агент Джонни Инглиш 3.0',\n",
       " 'Агент Джонни Инглиш: Перезагрузка',\n",
       " 'Агент Мамбо',\n",
       " 'Агент Эмерсон',\n",
       " 'Агент под прикрытием',\n",
       " 'Агенты А.Н.К.Л',\n",
       " 'Агитатор',\n",
       " 'Агора',\n",
       " 'Агорафобия',\n",
       " 'Адвокат Дьявола /По роману Эндрю Нейдермана/',\n",
       " 'Аджами',\n",
       " 'Адмирал Ушаков',\n",
       " 'Адмиралъ',\n",
       " 'Адольф Адан. Жизель /По мотивам легенды, пересказанной Генрихом Гейне/. Постановка Royal Opera House',\n",
       " 'Адольф Адан. Жизель в 3D. Постановка Мариинского театра. Хореография Жана Коралли, Жюля Перро, Мариуса Петипа',\n",
       " 'Адский бункер: Черное Солнце',\n",
       " 'Адъютант его превосходительства',\n",
       " 'Адъютант его превосходительства.',\n",
       " 'Азартные игры',\n",
       " 'Азбука смерти',\n",
       " 'Азор (Azor)',\n",
       " 'Аисты',\n",
       " 'Ай Вэйвэй: Никогда не извиняйся',\n",
       " 'Айболит - 66',\n",
       " 'Айка',\n",
       " 'Айрис',\n",
       " 'Айсылу. Фильм',\n",
       " 'Академия вампиров',\n",
       " 'Аквамен',\n",
       " 'Акварель',\n",
       " 'Аквариум.',\n",
       " 'Акрам Хан: Родом из Карри Хауса',\n",
       " 'Аксель',\n",
       " 'Акт убийства',\n",
       " 'Акулы',\n",
       " 'Акулы 3D',\n",
       " 'Акция',\n",
       " 'Аладдин',\n",
       " 'Албазинские скаски',\n",
       " 'Алекс и Эмма',\n",
       " 'Александр Буйнов \"Юбилейный концерт в Кремле. LIVE.\"',\n",
       " 'Александр Калягин и Et Cetera',\n",
       " 'Александр Невский (восстановленная версия)',\n",
       " 'Александр и ужасный, кошмарный, нехороший, очень плохой день',\n",
       " 'Алешкина любовь',\n",
       " 'Али, рули!',\n",
       " 'Алиби',\n",
       " 'Алиса в Зазеркалье (2016)',\n",
       " 'Алиса в стране чудес /По книгам Льюиса Кэрролла \"Алиса в стране чудес\" и \"Алиса в Зазеркалье\"/',\n",
       " 'Алиса в стране чудес /По одноименному произведению Льюиса Кэрола/',\n",
       " 'Алиса знает, что делать! Зеленая месть',\n",
       " 'Алиса знает, что делать! Серии \"Подмена растронаса\", \"Старики-разбойники\"',\n",
       " 'Алиса знает, что делать! Серии \"Энергия прошлого\", \"Устаревшие модели\", \"Долой креатив!\"',\n",
       " 'Алиса знает, что делать! Серия \"Гуманитарная помощь\"',\n",
       " 'Алиса знает, что делать! Серия \"Зеленая месть\"',\n",
       " 'Алита: Боевой ангел',\n",
       " 'Алла Пугачёва. Тот самый концерт',\n",
       " 'Алмазы для Марии',\n",
       " 'Алоис Небель и его призраки',\n",
       " 'Алые паруса',\n",
       " 'Альберт ГОГУАДЗЕ. ПЭРИ-ПЭРТАН',\n",
       " 'Альдабра: Путешествие по таинственному острову',\n",
       " 'Альфа',\n",
       " 'Альфа и Омега',\n",
       " 'АльфаГо',\n",
       " 'Амазония: Инструкция по выживанию',\n",
       " 'Амаль',\n",
       " 'Амальгама',\n",
       " 'Амбивалентность',\n",
       " 'Амели',\n",
       " 'Амелия',\n",
       " 'Америка',\n",
       " 'Американец (по роману Мартина Бута \"Очень скрытный джентльмен\")',\n",
       " 'Американская дочь',\n",
       " 'Американская пастораль',\n",
       " 'Американский грайдхаус',\n",
       " 'Американский пирог: Все в сборе',\n",
       " 'Амилькаре Понкьелли. Джоконда /По пьесе Виктора Гюго \"Анджело, тиран Падуанский\"/. Постановка Парижской национальной оперы',\n",
       " 'Амун',\n",
       " 'Амундсен',\n",
       " 'Анаболики. Реальная история',\n",
       " 'Анализируй это!',\n",
       " 'Ананас',\n",
       " 'Анархисты',\n",
       " 'Анархия в Жирмунае',\n",
       " 'Анатолий Крупнов. Он был',\n",
       " 'Анатомия любви /По произведению Скотта Спенсера/',\n",
       " 'Ангел',\n",
       " 'Ангел _',\n",
       " 'Ангел мой',\n",
       " 'Ангел-хранитель.',\n",
       " 'Ангел-хранитель._',\n",
       " 'Ангелы Революции',\n",
       " 'Ангелы Чарли',\n",
       " 'Ангельское личико',\n",
       " 'Андердог',\n",
       " 'Андре Рьё. Концерт в Маастрихте',\n",
       " 'Андреа Бочелли: Любовь в Портофино',\n",
       " 'Андрей Рублев.',\n",
       " 'Андроид',\n",
       " 'Анжелика, маркиза ангелов',\n",
       " 'Аниматор',\n",
       " 'Анимационный альманах \"Ладушки\" (ф. \"Дрип-Дроп\")',\n",
       " 'Анимационный альманах \"Ладушки\" (ф. \"Ладушки\")',\n",
       " 'Анимационный альманах \"Ладушки\" (ф. \"Про бабу, которая хотела улететь\")',\n",
       " 'Анимационный сериал \"Котяткины истории-2\"',\n",
       " 'Анимационный сериал \"Лунтик и его друзья\" (490-502 серии)',\n",
       " 'Анимационный фильм \"Динозавр Рики\", серия \"Пылесос\"',\n",
       " 'Анимационный фильм \"Динозавр Рики\", серия \"Ремонт\"',\n",
       " 'Анимационный фильм \"Динозавр Рики\", серия \"Спорт\"',\n",
       " 'Анимационный фильм \"Динозавр Рики\", серия \"Темные силы\"',\n",
       " 'Анимационный фильм \"Малышарики 3\", серия \"Брызгалки\"',\n",
       " 'Анимационный фильм \"Малышарики 3\", серия \"Дом для рыбки\"',\n",
       " 'Анимационный фильм \"Малышарики 3\", серия \"Нужная вещь\"',\n",
       " 'Анимационный фильм \"Малышарики 3\", серия \"Подарок\"',\n",
       " 'Анимационный фильм \"Малышарики 3\", серия \"Слон\"',\n",
       " 'Анимационный фильм \"Пинкод. Гуманитарные технологии 3\", серия \"Собратья по разуму. Часть 3\"',\n",
       " 'Анимационный фильм \"Пинкод. Гуманитарные технологии\", серии \"Бортовой дневник 4\", \"Игры с памятью\"',\n",
       " 'Анимационный фильм \"Сказки полуночи\"',\n",
       " 'Анимационный фильм \"Смешарики 7\", серия \"Красная книга\"',\n",
       " 'Анимационный фильм \"Смешарики 7\", серия \"Слишком фигурное катание\"',\n",
       " 'Анимационный фильм \"Смешарики. Начало\"',\n",
       " 'Анимационный фильм \"Смешарики. Спорт 2\", серия \"Эксклюзивное интервью/Таланты и поклонница\"',\n",
       " 'Анимированная жизнь',\n",
       " 'Анина: История самого необычного наказания /По произведению Сергио Лопеса Суареса/',\n",
       " 'Анкор, ещё анкор!',\n",
       " 'Анна',\n",
       " 'Анна Каренина /По одноименному роману Л.Н.Толстого/.',\n",
       " 'Анна Каренина. Интимный дневник',\n",
       " 'Анна Каренина. История Вронского',\n",
       " 'Анна Каренина. Мюзикл',\n",
       " 'Анна Павлова',\n",
       " 'Аннушка',\n",
       " 'Аномалия',\n",
       " 'Аномия',\n",
       " 'Анон',\n",
       " 'Аноним',\n",
       " 'Анонимные романтики',\n",
       " 'Антиганг',\n",
       " 'Антикиллер - 2.',\n",
       " 'Антон Чехов',\n",
       " 'Антон Чехов и Исаак Левитан: двойной портрет в интерьере эпохи',\n",
       " 'Антропоид',\n",
       " 'Антураж',\n",
       " 'Апартаменты 1303 3D',\n",
       " 'Апгрейд',\n",
       " 'Апокалипсис сегодня. Расширенная версия',\n",
       " 'Аполлон 18',\n",
       " 'Аполлон-11',\n",
       " 'Апостасия',\n",
       " 'Апостол Камчатки',\n",
       " 'Апофеоз',\n",
       " 'Аптекарь.',\n",
       " 'Арахисовый сокол',\n",
       " 'Арбузные корки',\n",
       " 'Арвентур. Тайна морского пейзажа',\n",
       " 'Аргентина',\n",
       " 'Арена смелых',\n",
       " 'Арестант no name',\n",
       " 'Арестуйте меня',\n",
       " 'Ариран',\n",
       " 'Ариэтти из страны лилипутов',\n",
       " 'Арктика 3D',\n",
       " 'Арло: говорящий поросенок',\n",
       " 'Армагеддец',\n",
       " 'Армия машин',\n",
       " 'Арриго Бойто. Мефистофель /По произведению Гёте/. Постановка оперного театра Сан-Франциско',\n",
       " 'Артемизия',\n",
       " 'Артист.',\n",
       " 'Артур Сеймур Салливан. Микадо. Постановка Sydney Opera House',\n",
       " 'Артур Чилингаров. Монологи',\n",
       " 'Артур и война двух миров',\n",
       " 'Аршалуйс',\n",
       " 'Асса',\n",
       " 'Астерикс и Обеликс в Британии 3D',\n",
       " 'Астерикс и тайное зелье',\n",
       " 'Астерикс: Земля Богов',\n",
       " 'Астрал',\n",
       " 'Астрал 3',\n",
       " 'Астрал 4: Последний ключ ',\n",
       " 'Астрал на улице Арлетт',\n",
       " 'Астрал. Глава 2',\n",
       " 'Астрал. Глава вторая',\n",
       " 'Астрал: Новое измерение',\n",
       " 'Ася_',\n",
       " 'Атака на Перл-Харбор',\n",
       " 'Атака пауков',\n",
       " 'Атака титанов. Фильм второй: Конец света',\n",
       " 'Атаман_',\n",
       " 'Атлантида',\n",
       " 'Атлантида: Затерянный мир',\n",
       " 'Атлантида: затерянный мир',\n",
       " 'Атлантика',\n",
       " 'Аттестат зрелости',\n",
       " 'Аустерлиц (2016)',\n",
       " 'Аутло/Outlaw',\n",
       " 'Афганский алфавит',\n",
       " 'Афера доктора Нока',\n",
       " 'Афера по-американски',\n",
       " 'Афера по-английски',\n",
       " 'Афера под прикрытием',\n",
       " 'Аферисты поневоле',\n",
       " 'Афтершок',\n",
       " 'Аэлита, не приставай к мужчинам',\n",
       " 'Аэронавты',\n",
       " 'Аэросмит. Рок для восходящего солнца',\n",
       " 'Аэротачки',\n",
       " 'БЕЛАЯ МАМА/WHITE МАМА',\n",
       " 'БЕЛЫЙ ЯГЕЛЬ',\n",
       " 'БЕРЦЫ',\n",
       " 'БИРМИНГЕМСКИЙ ОРНАМЕНТ',\n",
       " 'БИРМИНГЕМСКИЙ ОРНАМЕНТ. Часть 2',\n",
       " 'БЛИЖЕ, ЧЕМ КАЖЕТСЯ.',\n",
       " 'БОГАТЫРЯТА',\n",
       " 'БОЛЕРО17',\n",
       " 'БОЛЬШОЙ',\n",
       " 'БОРИС ГОДУНОВ',\n",
       " 'БУНКЕР-42. КАПСУЛА ВРЕМЕНИ',\n",
       " 'БЫК',\n",
       " 'Баария',\n",
       " 'Баба Яга',\n",
       " 'Бабадук',\n",
       " 'Бабай',\n",
       " 'Бабич',\n",
       " 'Бабло',\n",
       " 'Бабоньки',\n",
       " 'Бабочки',\n",
       " 'Бабочки (2016)',\n",
       " 'Бабушка легкого поведения',\n",
       " 'Бабушка лёгкого поведения 2',\n",
       " 'Бабье царство_',\n",
       " 'Баги',\n",
       " 'Багровая мята',\n",
       " 'Багровый пик',\n",
       " 'БайБайМэн',\n",
       " 'Байгал',\n",
       " 'Байкал - Сердце мира 3D',\n",
       " 'Байкал. Магия воды',\n",
       " 'Байкеры-3',\n",
       " 'Байконур. Падение \"Сатаны\"',\n",
       " 'Бал (2016)',\n",
       " 'Балбесы /По книге \"Вселенная Баллинга и Баха\"/',\n",
       " 'Балерина',\n",
       " 'Балет сегодня',\n",
       " 'Балканский рубеж',\n",
       " 'Балкон Европы',\n",
       " 'Баллада о доблестном рыцаре Айвенго',\n",
       " 'Баллистика: Экс против Сивер.',\n",
       " 'Бальные танцы',\n",
       " 'Бамблби',\n",
       " 'Банда Котиков',\n",
       " 'Банда Ольсена: рок-звезды зажигают',\n",
       " 'Бандитки.',\n",
       " 'Бандиты',\n",
       " 'Банды Индостана',\n",
       " 'Банкомат',\n",
       " 'Банщик Президента, или Пасечники Вселенной',\n",
       " 'Бар \"Гадкий койот\"',\n",
       " 'Барашек Шон.',\n",
       " 'Барбара.',\n",
       " 'Бармен.',\n",
       " 'Бархатный сезон',\n",
       " 'Баския: Взрыв реальности',\n",
       " 'Басни И.А.Крылова',\n",
       " 'Бассейн',\n",
       " 'Батальонъ',\n",
       " 'Бахубали: Рождение легенды',\n",
       " 'Бачата на 33-м километре',\n",
       " 'Бег иноходца',\n",
       " 'Беги без оглядки',\n",
       " 'Беги.',\n",
       " 'Беглец (2015)',\n",
       " 'Беглецы',\n",
       " 'Беглецы -',\n",
       " 'Бегство рогатых викингов или пять дней из джизни Джонни Воробьёва',\n",
       " 'Бегущая от реальности',\n",
       " 'Бегущий в лабиринте /По произведению Джеймса Дашнера/',\n",
       " 'Бегущий в лабиринте: Испытание огнем /По произведению Джеймса Дашнера/',\n",
       " 'Бегущий в лабиринте: Лекарство от смерти',\n",
       " 'Бегущий по лезвию 2049',\n",
       " 'Бедная богатая девочка',\n",
       " 'Бедуин',\n",
       " 'Без вины виноватые',\n",
       " 'Без границ',\n",
       " 'Без грома пушек',\n",
       " 'Без истерики!',\n",
       " 'Без компромиссов_',\n",
       " 'Без меня',\n",
       " 'Без мужчин',\n",
       " 'Без права на ошибку .',\n",
       " 'Без свидетелей',\n",
       " 'Без солнца',\n",
       " 'Без срока давности.',\n",
       " 'Без тормозов (2016)',\n",
       " 'Без ума от Тиффани',\n",
       " 'Безбашенные',\n",
       " 'Безбрачная неделя',\n",
       " 'Безопасность не гарантируется',\n",
       " 'Безответная любовь_',\n",
       " 'Безотцовщина',\n",
       " 'Безумная свадьба',\n",
       " 'Безумное свидание',\n",
       " 'Безумные преподы',\n",
       " 'Безумные соседи',\n",
       " 'Безумный Макс 2: Воин дороги',\n",
       " 'Безумный Макс: Дорога ярости',\n",
       " 'Безумцы',\n",
       " 'Безупречная жизнь',\n",
       " 'Белая белая ночь',\n",
       " 'Белая графиня',\n",
       " 'Белая лента',\n",
       " 'Белая мгла /По комиксу Грега Рукка и Стива Либера/',\n",
       " 'Белка и Стрелка. Звездные собаки',\n",
       " 'Белка и Стрелка. Лунные приключения',\n",
       " 'Белка и Стрелка. Тайны космоса (1-5 серии)',\n",
       " 'Белки в деле',\n",
       " 'Белль и Себастьян',\n",
       " 'Белль и Себастьян: Приключения продолжаются',\n",
       " 'Белль и Себастьян: друзья навек',\n",
       " 'Белое вино из Баббудойу',\n",
       " 'Белоснежка (Snow White; Blancanieves)',\n",
       " 'Белоснежка и Охотник 2',\n",
       " 'Белоснежка и охотник',\n",
       " 'Белоснежка. Сказка для взрослых',\n",
       " 'Белоснежка: Месть гномов',\n",
       " 'Белые ночи (2017)',\n",
       " 'Белые ночи почтальона Алексея Тряпицына',\n",
       " 'Белые ночи.',\n",
       " 'Белый Параллелепипед',\n",
       " 'Белый Тигр',\n",
       " 'Белый бог',\n",
       " 'Белый лебедь',\n",
       " 'Белый парень Рик',\n",
       " 'Белый песок',\n",
       " 'Бельканто',\n",
       " 'Бемоль',\n",
       " 'Бен-Гур (2016)',\n",
       " 'Бенджамин Бриттен. Питер Граймс /По поэме Джорджа Крэбба \"Городок\"/. Постановка English National Opera',\n",
       " 'Беовульф',\n",
       " 'Бергдорф Гудман: Больше века на вершине модного Олимпа',\n",
       " 'Бергман',\n",
       " 'Берег.',\n",
       " 'Берегись автомобиля (цветная версия)',\n",
       " 'Берегите мужчин!',\n",
       " 'Березовский - это кто?',\n",
       " 'Беременный',\n",
       " 'Берлин, я люблю тебя',\n",
       " 'Берлинале шортс: Чудо; Майк; Темная комната; Три камня для Жана Жене; Титьки; Любовные игры; Оптический звук.',\n",
       " 'Берлинский синдром',\n",
       " 'Берлинский фейсконтрольщик',\n",
       " 'Бернини',\n",
       " 'Берсерк: Золотой век. Фильм I: бехерит Властителя',\n",
       " 'Берсерк: Золотой век. Фильм II: Битва за Долдрей',\n",
       " 'Берсерк: Золотой век. Фильм III: Сошествие',\n",
       " 'Беспредел (Outrage; Autoreiji)',\n",
       " 'Беспредел _',\n",
       " 'Бесславные придурки',\n",
       " 'Бесславные ублюдки',\n",
       " 'Бессмертный гарнизон',\n",
       " 'Бессонная ночь',\n",
       " 'Бестолковая защита',\n",
       " 'Бесшабашное ограбление',\n",
       " 'Бесы.',\n",
       " 'Бешеное золото',\n",
       " 'Бешеные деньги.',\n",
       " 'Бибинур',\n",
       " 'Библиотекарь.',\n",
       " 'Бивень',\n",
       " 'Бизнесмены',\n",
       " 'Билет на Вегас',\n",
       " 'Битва',\n",
       " 'Битва в пути',\n",
       " 'Битва за Землю',\n",
       " 'Битва за Москву',\n",
       " 'Битва за Севастополь',\n",
       " 'Битва полов',\n",
       " 'Битва с экстрасенсами',\n",
       " 'Битва титанов.',\n",
       " 'Битва у Красной скалы',\n",
       " 'Бладрейн',\n",
       " 'Бладфест',\n",
       " 'Блеф .',\n",
       " 'Ближе, чем кажется',\n",
       " 'Ближе, чем кажется (2017)',\n",
       " 'Близкий враг',\n",
       " 'Близнецы',\n",
       " 'Близнецы-убийцы',\n",
       " 'Близнецы_',\n",
       " 'Блокада. День 901-й',\n",
       " 'Блокада. Искупление',\n",
       " 'Блокбастер',\n",
       " 'Блокбастер 3D',\n",
       " 'Блондинка в эфире',\n",
       " 'Блондинка и блондинка',\n",
       " 'Блондинка и разбойницы',\n",
       " 'Блуждание ягнят',\n",
       " 'Блэйд - 2',\n",
       " 'Блэйд. Троица',\n",
       " 'Блэйд: Троица',\n",
       " 'Блэки летит на Луну',\n",
       " 'Боб Марли',\n",
       " 'Бобби Фишер против всего мира',\n",
       " 'Бобр добр (серии: \"Соседи\", \"Пришельцы\", \"Поход\", \"Батут\", \"Зависть погубила\", \"Горки\", \"Симулянт\", \"Вой в лесу\", \"На испуг\", \"Подмена\", \"Ку-ку\", \"Помощники\", \"Клад\")',\n",
       " 'Бобро поржаловать!',\n",
       " 'Бобёр',\n",
       " 'Богатырша',\n",
       " 'Богемская рапсодия',\n",
       " 'Боги Египта',\n",
       " 'Богиня',\n",
       " 'Боевая кукла',\n",
       " 'Боевой конь',\n",
       " 'Боец',\n",
       " 'Боже мой!',\n",
       " 'Боже, благослови Америку',\n",
       " 'Боже, храни мой каблук',\n",
       " 'Божественная любовь',\n",
       " 'Бои без правил',\n",
       " 'Бой',\n",
       " 'Бой без правил',\n",
       " 'Бой после победы',\n",
       " 'Бой с тенью-3: последний раунд',\n",
       " 'Бойся своих желаний',\n",
       " 'Бойфренд из будущего',\n",
       " 'Бойцовая воля',\n",
       " 'Бойцовский клуб',\n",
       " 'Болевой порог',\n",
       " 'Болливуд: величайшая история любви',\n",
       " 'Болотные солдаты',\n",
       " 'Болт и Блип спешат на помощь',\n",
       " 'Боль и слава',\n",
       " 'Большая Ржака',\n",
       " 'Большая афера',\n",
       " 'Большая афера в маленьком городе',\n",
       " 'Большая вечеринка',\n",
       " 'Большая игра',\n",
       " 'Большая игра / Big Game',\n",
       " 'Большая поэзия',\n",
       " 'Большая свадьба',\n",
       " 'Больше - Меньше',\n",
       " 'Больше чем секс',\n",
       " 'Больше, чем друг',\n",
       " 'Больше, чем любовь \"Любимая женщина режиссера Тодоровского\"',\n",
       " 'Больше, чем любовь.',\n",
       " 'Больше, чем любовь_',\n",
       " 'Большие \"мамочки\": сын как отец',\n",
       " 'Большие глаза',\n",
       " 'Большие надежды /По роману Чарльза Диккенса/',\n",
       " 'Большое путешествие',\n",
       " 'Большое путешествие вглубь океанов 3D: Возвращение',\n",
       " 'Большой Вавилон',\n",
       " 'Большой Лебовски.',\n",
       " 'Большой Фитиль',\n",
       " 'Большой аттракцион',\n",
       " 'Большой белый танец',\n",
       " 'Большой всплеск',\n",
       " 'Большой злой лис и другие сказки',\n",
       " 'Большой и добрый великан',\n",
       " 'Большой и маленький',\n",
       " 'Большой кошачий побег',\n",
       " 'Большой собачий побег',\n",
       " 'Большой солдат',\n",
       " 'Бомж с дробовиком',\n",
       " 'Бомж.',\n",
       " 'Борг\\\\Макинрой',\n",
       " 'Борец и клоун',\n",
       " 'Борис Годунов',\n",
       " 'Борцу не больно',\n",
       " 'Босиком по городу',\n",
       " 'Босиком по мостовой',\n",
       " 'Босс-Молокосос',\n",
       " 'Брак за решеткой',\n",
       " 'Брандо без купюр',\n",
       " 'Братва из джунглей',\n",
       " 'Братец медвежонок /По одноименному произведению Лорны Кемерун/',\n",
       " 'Братство',\n",
       " 'Братц',\n",
       " 'Братья      .',\n",
       " 'Братья Гримм',\n",
       " 'Братья Карамазовы',\n",
       " 'Братья Медведи: Тайна трёх миров',\n",
       " 'Братья Систерс',\n",
       " 'Братья Ч',\n",
       " 'Братья из Гримсби',\n",
       " 'Бременские разбойники',\n",
       " 'Брестская крепость.',\n",
       " 'Бригада. Наследник',\n",
       " 'Бриджит Джонс 3',\n",
       " 'Брови',\n",
       " 'Бросок кобры',\n",
       " 'Бруклин',\n",
       " 'Брюс Ли: Рождение Дракона',\n",
       " 'Бугай',\n",
       " 'Буги-вуги.',\n",
       " 'Буду помнить',\n",
       " 'Будущее.',\n",
       " 'Будь что будет',\n",
       " 'Будьте моим мужем',\n",
       " 'Букашки 2',\n",
       " 'Букашки 3D',\n",
       " 'Букашки. Приключение в Долине Муравьев',\n",
       " 'Буквоежка',\n",
       " 'Букшоп',\n",
       " 'Бульвар страха',\n",
       " 'Бумажные города /По произведению Джона Грина/',\n",
       " 'Бункер_',\n",
       " 'Бунт ушастых',\n",
       " 'Бунтари без стыда',\n",
       " 'Бунюэль в лабиринте черепах',\n",
       " 'Бурлеск',\n",
       " 'Буря /По одноименной пьесе У.Шекспира/',\n",
       " 'Было. Есть. Будет',\n",
       " 'Быстрее, чем кролики',\n",
       " 'Быть Астрид Линдгрен',\n",
       " 'Быть Харви Вайнштейном',\n",
       " 'Быть или не быть_',\n",
       " 'Бьютифул',\n",
       " 'Бэйбэрикээн',\n",
       " 'Бэст Сай-Фай (Best Sci-Fi)',\n",
       " 'Бэтмен против Супермена: На заре справедливости',\n",
       " 'Бэтмэн и Робин /По мотивам комиксов Боба Кейна/',\n",
       " 'Бэтмэн: Начало',\n",
       " 'Бёрдмэн',\n",
       " 'В Кейптаунском порту...',\n",
       " 'В России идет снег',\n",
       " 'В Сочи всегда солнечно',\n",
       " 'В активном поиске (2016)',\n",
       " 'В белом плену',\n",
       " 'В гостях у Элис',\n",
       " 'В двух шагах от Славы.',\n",
       " 'В доме',\n",
       " 'В доме отца',\n",
       " 'В другой стране',\n",
       " 'В квадрате 45',\n",
       " 'В краю крови и меда',\n",
       " 'В маленьком городе...',\n",
       " 'В метре друг от друга',\n",
       " 'В небо... за мечтой',\n",
       " 'В объятиях лжи',\n",
       " 'В одной упряжке.',\n",
       " 'В одну сторону (2006)',\n",
       " 'В ожидании Шарлотты Корде',\n",
       " 'В ожидании молнии',\n",
       " 'В ожидании моря',\n",
       " 'В окружении',\n",
       " 'В первый раз.',\n",
       " 'В плену города грёз',\n",
       " 'В погоне за ветром',\n",
       " 'В погоне за счастьем .',\n",
       " 'В поисках Дори.     Песочник',\n",
       " 'В поисках Евы',\n",
       " 'В поисках Истины',\n",
       " 'В поисках Немо.',\n",
       " 'В поисках Немо_',\n",
       " 'В поисках йети',\n",
       " 'В поисках света',\n",
       " 'В постели с Викторией',\n",
       " 'В ритме сердца',\n",
       " 'В сердце моря',\n",
       " 'В следующий раз я буду стрелять в сердце /По роману Ивана Стефановича \"Убийца вне подозрений\"/',\n",
       " 'В спорте только девушки',\n",
       " 'В стране без женщин',\n",
       " 'В субботу',\n",
       " 'В тихом омуте',\n",
       " 'В тумане /По одноименной повести Василя Быкова/',\n",
       " 'В фокусе',\n",
       " 'В центре внимания',\n",
       " 'В четверг и больше никогда',\n",
       " 'В шесть часов вечера после войны',\n",
       " 'ВЕЗУХА! (11)',\n",
       " 'ВЕРКА-ФУЭТЕ',\n",
       " 'ВЕСУРИ',\n",
       " 'ВИЙ 3D',\n",
       " 'ВМаяковский',\n",
       " 'ВОДЯНАЯ',\n",
       " 'ВОИН.com',\n",
       " 'ВОСХОД ЗАКАТ',\n",
       " 'ВОСЬМЕРКА',\n",
       " 'ВРОНГ',\n",
       " 'ВСЕ И СРАЗУ',\n",
       " 'ВСТАВАЙ И БЕЙСЯ',\n",
       " 'ВСЯ НАША НАДЕЖДА...',\n",
       " 'ВЫЖИТЬ И ПОБЕДИТЬ',\n",
       " 'ВЫХОД',\n",
       " 'ВЫШЕ НА ЭТАЖ',\n",
       " 'Вавилон',\n",
       " 'Вайолет Эвергарден: вечность и призрак пера',\n",
       " 'Вакансия',\n",
       " 'Вакантна жизнь шеф-повара',\n",
       " 'Валентин и Валентина',\n",
       " 'Валентина',\n",
       " 'Валериан и город тысячи планет',\n",
       " 'Вальгалла: Рагнарек',\n",
       " 'Вальс для Моники',\n",
       " 'Вам и не снилось',\n",
       " 'Вампирский засос',\n",
       " 'Вампирша против Франкенштейнш',\n",
       " 'Ван Гог. На пороге вечности',\n",
       " 'Ван Гог. С любовью, Винсент',\n",
       " 'Ван Гог: Золото и лазурь',\n",
       " 'Ван Гоги',\n",
       " 'Ванька Тепляшин',\n",
       " 'Варда глазами Аньес',\n",
       " 'Варенье из сакуры.',\n",
       " 'Варкрафт',\n",
       " 'Вас ожидает гражданка Никанорова',\n",
       " 'Василиса',\n",
       " 'Васса',\n",
       " 'Вася',\n",
       " 'Ватерлоо',\n",
       " 'Ватиканские записи',\n",
       " 'Ваш репетитор',\n",
       " 'Ваша честь',\n",
       " 'Вверх',\n",
       " 'Вдали от обезумевшей толпы /По одноименному произведению Томаса Харди/',\n",
       " 'Вдвоем на льдине.',\n",
       " 'Вдовы',\n",
       " 'Вдохновенный свидетель Истины',\n",
       " 'Вдребезги_',\n",
       " 'Ведьма',\n",
       " 'Ведьма .',\n",
       " 'Ведьма войны',\n",
       " 'Ведьма из Блэр: Новая глава',\n",
       " 'Ведьмин ключ',\n",
       " 'Ведьмина гора',\n",
       " 'Ведьмы',\n",
       " 'Ведьмы из Сугаррамурди',\n",
       " 'Везучая.',\n",
       " 'Везучий случай',\n",
       " 'Век Адалин',\n",
       " 'Великая красота',\n",
       " 'Великая мистификация хип-хопа',\n",
       " 'Великая стена',\n",
       " 'Великие битвы России',\n",
       " 'Великий Гэтсби /По одноименному роману Фрэнсиса Скотта Фицджеральда/',\n",
       " 'Великий Северный Путь',\n",
       " 'Великий воин Албании Скандербег',\n",
       " 'Великий диктатор',\n",
       " 'Великий мастер',\n",
       " 'Великий уравнитель',\n",
       " 'Великий уравнитель 2',\n",
       " 'Великолепная',\n",
       " 'Великолепная афера /По роману Эрика Гарсии/',\n",
       " 'Великолепная семерка (2016)',\n",
       " 'Величайший кутюрье',\n",
       " 'Величайший шоумен',\n",
       " 'Велкам Хом',\n",
       " 'Велотачки',\n",
       " 'Вельзевул',\n",
       " 'Венера в мехах',\n",
       " 'Венецианские львы',\n",
       " 'Венецианский детектив',\n",
       " 'Венеция зовет',\n",
       " 'Веном',\n",
       " 'Вера (2016)',\n",
       " 'Верность',\n",
       " 'Вернуть Бена',\n",
       " 'Вероника решает умереть',\n",
       " 'Вероника решает умереть (2009)',\n",
       " 'Вертолёты',\n",
       " 'Вес воды',\n",
       " 'Веселые каникулы',\n",
       " 'Весенние надежды',\n",
       " 'Весна',\n",
       " 'Вествуд: панк, икона, активист',\n",
       " 'Весь Этот Джем',\n",
       " 'Весь этот мир',\n",
       " 'Весёлая карусель №49',\n",
       " 'Весёлая ферма',\n",
       " 'Весёлые ребята ;)',\n",
       " 'Ветер крепчает',\n",
       " 'Ветреная река',\n",
       " 'Вечер с Беверли Лафф Линн',\n",
       " 'Вечеринка',\n",
       " 'Вечеринка .',\n",
       " 'Вечерний лабиринт',\n",
       " 'Вечерняя школа',\n",
       " 'Вечная жизнь Александра Христофорова',\n",
       " 'Вечно молодой/ Все будет рок-н-ролл',\n",
       " 'Вечное возвращение.',\n",
       " 'Вечность (2016)',\n",
       " 'Вечный зов.',\n",
       " 'Вечный холод',\n",
       " 'Взломать блогеров',\n",
       " 'Взорвать Гитлера',\n",
       " 'Взрослая дочь или тест на ...',\n",
       " 'Взрослые дети.',\n",
       " 'Взрослые игры',\n",
       " 'Взрывная блондинка',\n",
       " 'Видели ночь',\n",
       " 'Виджай и Я',\n",
       " 'Видно будет',\n",
       " 'Видок: Охотник на призраков',\n",
       " 'Вижу лишь тебя',\n",
       " 'Византия',\n",
       " 'Визит',\n",
       " 'Визит (2015)',\n",
       " 'Викинг .',\n",
       " 'Викинг 18+',\n",
       " 'Викинги',\n",
       " 'Викинги. Британский музей',\n",
       " 'Виктор',\n",
       " 'Виктор Франкенштейн',\n",
       " 'Виктория и Абдул',\n",
       " 'Виктория: История любви /По роману Кнута Гамсуна/',\n",
       " 'Виктория_',\n",
       " 'Вилли и крутые тачки',\n",
       " 'Виноваты звезды /По произведению Д.Грина/',\n",
       " 'Винченцо Беллини. Норма /По произведению Александра Суме \"Норма или Детоубийство\"/. Постановка Театро Комунале (Болонья)',\n",
       " 'Винченцо Беллини. Пуритане. Постановка Театро Комунале (Болонья)',\n",
       " 'Винчестер. Дом, который построили призраки',\n",
       " 'Виолет и Дейзи',\n",
       " 'Вирус (2016)',\n",
       " 'Вирус любви',\n",
       " 'Виселица',\n",
       " 'Високосный год',\n",
       " 'Вита и Вирджиния',\n",
       " 'Витя Глушаков - друг апачей',\n",
       " 'Вишенка на новогоднем торте',\n",
       " 'Вкус Америки',\n",
       " 'Вкус Средиземного моря',\n",
       " 'Вкус жизни',\n",
       " 'Владение 18',\n",
       " 'Владимир Маканин. Цена личного голоса',\n",
       " 'Владыка времени',\n",
       " 'Властелин колец: Братство кольца /По произведению Джона Рональда Руэла Толкиена \"Властелин колец: Хранители\"/',\n",
       " 'Властелин колец: Возвращение короля /По произведению Джона Рональда Руэла Толкиена \"Властелин колец: Возвращение государя\"/',\n",
       " 'Властелин колец: Две крепости /По произведению Джона Рональда Руэла Толкиена \"Властелин колец: Две твердыни\"/',\n",
       " 'Властелин любви',\n",
       " 'Властелин разметки',\n",
       " 'Властелин танца 3D',\n",
       " 'Власть',\n",
       " 'Власть убеждений',\n",
       " 'Влечение .',\n",
       " 'Влюбленные_',\n",
       " 'Влюбленный скорпион /По роману Карлоса Бардема/',\n",
       " 'Вне Игры (серии 1-12)',\n",
       " 'Вне времени (2014)',\n",
       " 'Вне поля зрения /По роману Элмора Леонарда/',\n",
       " 'Вне/себя',\n",
       " 'Внеклассные занятия в 3D (Монстры из бездны; Язык насекомых; Как устроена клетка; Путешествие к солнцу)',\n",
       " 'Внимание, черепаха!',\n",
       " 'Внутри Льюина Дэвиса',\n",
       " 'Во власти стихии',\n",
       " ...]"
      ]
     },
     "execution_count": 31,
     "metadata": {},
     "output_type": "execute_result"
    }
   ],
   "source": [
    "sorted(data['title'].unique())"
   ]
  },
  {
   "cell_type": "markdown",
   "metadata": {},
   "source": [
    "Просмотрев часть данных стобца title видно, что некоторые названия написаны с лишними специальными символами и пробелами. Необходимо привести названия к общему формату. Удалим лишние специальные символы и пробелы в строках."
   ]
  },
  {
   "cell_type": "markdown",
   "metadata": {},
   "source": [
    "### Приводим названия фильмов к общему формату"
   ]
  },
  {
   "cell_type": "code",
   "execution_count": 32,
   "metadata": {},
   "outputs": [],
   "source": [
    "# Функция для очистки названий\n",
    "def clean_title(title):\n",
    "    # Убираем точки в начале строки\n",
    "    title = re.sub(r'^\\.+', '', title)\n",
    "\n",
    "    # Убираем точки в конце строки\n",
    "    title = re.sub(r'\\.+$', '', title)\n",
    "\n",
    "    # Убираем символы \"-\" и \"_\" в конце строки\n",
    "    title = re.sub(r'[-_]+$', '', title)\n",
    "\n",
    "    # Убираем лишние пробелы по краям и между словами\n",
    "    title = ' '.join(title.split())\n",
    "\n",
    "    return title\n",
    "\n",
    "# Применяем очистку\n",
    "data['title'] = data['title'].apply(clean_title)"
   ]
  },
  {
   "cell_type": "markdown",
   "metadata": {},
   "source": [
    "### Приводим значения в столбцах film_studio, production_country, director, producer, genres к общему формату"
   ]
  },
  {
   "cell_type": "code",
   "execution_count": 33,
   "metadata": {},
   "outputs": [],
   "source": [
    "# Уберем лишние пробелы и спец-символы\n",
    "params = ['film_studio', 'production_country', 'director', 'producer', 'genres']\n",
    "\n",
    "for param in params:\n",
    "    data[param] = data[param].str.strip(\"\"\" .,_-\"\"\")"
   ]
  },
  {
   "cell_type": "markdown",
   "metadata": {
    "id": "PnXKIVdFgFyR"
   },
   "source": [
    "### Промежуточный вывод"
   ]
  },
  {
   "cell_type": "markdown",
   "metadata": {},
   "source": [
    "Общая проблема категориальных данных была в лишних пробелах. Также, мы привели к общему формату написание фильмов, студий, страны производства, продюссеров, режисеров и жанров, удалив лишние специальные символы."
   ]
  },
  {
   "cell_type": "markdown",
   "metadata": {},
   "source": [
    "## Проверка количественных значений"
   ]
  },
  {
   "cell_type": "markdown",
   "metadata": {},
   "source": [
    "### Изменим вывод в box_office, budget, refundable_support, nonrefundable_support для удобства, разделив значения на 1000000"
   ]
  },
  {
   "cell_type": "code",
   "execution_count": 34,
   "metadata": {},
   "outputs": [
    {
     "name": "stdout",
     "output_type": "stream",
     "text": [
      "<class 'pandas.core.frame.DataFrame'>\n",
      "Int64Index: 7481 entries, 0 to 7484\n",
      "Data columns (total 4 columns):\n",
      " #   Column                 Non-Null Count  Dtype  \n",
      "---  ------                 --------------  -----  \n",
      " 0   box_office             3158 non-null   float64\n",
      " 1   budget                 332 non-null    float64\n",
      " 2   refundable_support     332 non-null    float64\n",
      " 3   nonrefundable_support  332 non-null    float64\n",
      "dtypes: float64(4)\n",
      "memory usage: 292.2 KB\n"
     ]
    }
   ],
   "source": [
    "# Преобразуем указанные столбцы к формату целых чисел\n",
    "columns_to_convert = ['box_office', 'budget', 'refundable_support', 'nonrefundable_support']\n",
    "\n",
    "for col in columns_to_convert:\n",
    "    # Преобразуем в миллионы, оставляя числовой формат\n",
    "    data[col] = data[col] / 1e6\n",
    "# Проверяем изменения\n",
    "data[columns_to_convert].info()"
   ]
  },
  {
   "cell_type": "markdown",
   "metadata": {},
   "source": [
    "### Проверим, превышает ли объем средств государственной поддержки общий бюджет фильма"
   ]
  },
  {
   "cell_type": "code",
   "execution_count": 35,
   "metadata": {
    "id": "YbzClBxagFyS"
   },
   "outputs": [
    {
     "data": {
      "text/html": [
       "<div>\n",
       "<style scoped>\n",
       "    .dataframe tbody tr th:only-of-type {\n",
       "        vertical-align: middle;\n",
       "    }\n",
       "\n",
       "    .dataframe tbody tr th {\n",
       "        vertical-align: top;\n",
       "    }\n",
       "\n",
       "    .dataframe thead th {\n",
       "        text-align: right;\n",
       "    }\n",
       "</style>\n",
       "<table border=\"1\" class=\"dataframe\">\n",
       "  <thead>\n",
       "    <tr style=\"text-align: right;\">\n",
       "      <th></th>\n",
       "      <th>title</th>\n",
       "      <th>pu_number</th>\n",
       "      <th>show_start_date</th>\n",
       "      <th>type</th>\n",
       "      <th>film_studio</th>\n",
       "      <th>production_country</th>\n",
       "      <th>director</th>\n",
       "      <th>producer</th>\n",
       "      <th>age_restriction</th>\n",
       "      <th>refundable_support</th>\n",
       "      <th>nonrefundable_support</th>\n",
       "      <th>budget</th>\n",
       "      <th>financing_source</th>\n",
       "      <th>ratings</th>\n",
       "      <th>genres</th>\n",
       "      <th>box_office</th>\n",
       "    </tr>\n",
       "  </thead>\n",
       "  <tbody>\n",
       "    <tr>\n",
       "      <th>2052</th>\n",
       "      <td>14+</td>\n",
       "      <td>111023614</td>\n",
       "      <td>2014-12-19</td>\n",
       "      <td>Художественный</td>\n",
       "      <td>ООО Киностудия  \"Сентябрь\"</td>\n",
       "      <td>Россия</td>\n",
       "      <td>А.Зайцев</td>\n",
       "      <td>О.Гранина, А.Зайцев</td>\n",
       "      <td>16+</td>\n",
       "      <td>0.0</td>\n",
       "      <td>23.000000</td>\n",
       "      <td>0.0</td>\n",
       "      <td>Министерство культуры, Фонд кино</td>\n",
       "      <td>6.6</td>\n",
       "      <td>мелодрама</td>\n",
       "      <td>10.234016</td>\n",
       "    </tr>\n",
       "    <tr>\n",
       "      <th>2057</th>\n",
       "      <td>Дуxless 2</td>\n",
       "      <td>111000415</td>\n",
       "      <td>2015-01-26</td>\n",
       "      <td>Художественный</td>\n",
       "      <td>ООО \"Киностудия \"Слово\", ООО \"Арт Пикчерс Студия\"</td>\n",
       "      <td>Россия</td>\n",
       "      <td>Р.Прыгунов</td>\n",
       "      <td>П.Ануров, Ф.Бондарчук, Д.Рудовский</td>\n",
       "      <td>16+</td>\n",
       "      <td>0.0</td>\n",
       "      <td>75.000000</td>\n",
       "      <td>0.0</td>\n",
       "      <td>Фонд кино</td>\n",
       "      <td>6.6</td>\n",
       "      <td>драма</td>\n",
       "      <td>446.163511</td>\n",
       "    </tr>\n",
       "    <tr>\n",
       "      <th>2471</th>\n",
       "      <td>Воин (2015)</td>\n",
       "      <td>111017315</td>\n",
       "      <td>2015-09-28</td>\n",
       "      <td>Художественный</td>\n",
       "      <td>ООО \"Форпост Продакшн\", ООО \"Арт Пикчерс Студия\"</td>\n",
       "      <td>Россия</td>\n",
       "      <td>А.Андрианов</td>\n",
       "      <td>ООО \"Арт Пикчерс Студия\"</td>\n",
       "      <td>12+</td>\n",
       "      <td>10.0</td>\n",
       "      <td>70.000000</td>\n",
       "      <td>0.0</td>\n",
       "      <td>Фонд кино</td>\n",
       "      <td>7.8</td>\n",
       "      <td>боевик,драма,криминал</td>\n",
       "      <td>196.572438</td>\n",
       "    </tr>\n",
       "    <tr>\n",
       "      <th>2531</th>\n",
       "      <td>Бармен</td>\n",
       "      <td>111009615</td>\n",
       "      <td>2015-05-26</td>\n",
       "      <td>Художественный</td>\n",
       "      <td>АО \"ВайТ Медиа\", ООО \"Арт Пикчерс Студия\"</td>\n",
       "      <td>Россия</td>\n",
       "      <td>Д.Штурманова</td>\n",
       "      <td>Т.Вайнштейн</td>\n",
       "      <td>16+</td>\n",
       "      <td>20.0</td>\n",
       "      <td>0.000000</td>\n",
       "      <td>0.0</td>\n",
       "      <td>Фонд кино</td>\n",
       "      <td>6.2</td>\n",
       "      <td>комедия,фэнтези</td>\n",
       "      <td>67.418975</td>\n",
       "    </tr>\n",
       "    <tr>\n",
       "      <th>2614</th>\n",
       "      <td>Савва. Сердце воина</td>\n",
       "      <td>114001715</td>\n",
       "      <td>2015-07-21</td>\n",
       "      <td>Анимационный</td>\n",
       "      <td>ООО \"Глюкоза Продакшн\", ООО \"Арт Пикчерс Студия\"</td>\n",
       "      <td>Россия</td>\n",
       "      <td>М.Фадеев</td>\n",
       "      <td>А.Чистяков</td>\n",
       "      <td>6+</td>\n",
       "      <td>60.0</td>\n",
       "      <td>100.000000</td>\n",
       "      <td>0.0</td>\n",
       "      <td>Фонд кино</td>\n",
       "      <td>4.6</td>\n",
       "      <td>мультфильм,приключения,фэнтези</td>\n",
       "      <td>184.487551</td>\n",
       "    </tr>\n",
       "    <tr>\n",
       "      <th>2683</th>\n",
       "      <td>Тряпичный союз</td>\n",
       "      <td>111010215</td>\n",
       "      <td>2015-06-08</td>\n",
       "      <td>Художественный</td>\n",
       "      <td>ООО \"Кинокомпания \"КОКТЕБЕЛЬ\"</td>\n",
       "      <td>Россия</td>\n",
       "      <td>М.Местецкий</td>\n",
       "      <td>Р.Борисевич, А.Кушаев</td>\n",
       "      <td>18+</td>\n",
       "      <td>0.0</td>\n",
       "      <td>59.000000</td>\n",
       "      <td>0.0</td>\n",
       "      <td>Фонд кино</td>\n",
       "      <td>6.3</td>\n",
       "      <td>комедия,драма</td>\n",
       "      <td>1.957739</td>\n",
       "    </tr>\n",
       "    <tr>\n",
       "      <th>2787</th>\n",
       "      <td>Срочно выйду замуж</td>\n",
       "      <td>111017115</td>\n",
       "      <td>2015-09-30</td>\n",
       "      <td>Художественный</td>\n",
       "      <td>АО \"ВайТ Медиа\", ООО \"Арт Пикчерс Студия\"</td>\n",
       "      <td>Россия</td>\n",
       "      <td>С Чекалов</td>\n",
       "      <td>Ф.Бондарчук, Т.Вайнштейн, Д.Рудовский</td>\n",
       "      <td>16+</td>\n",
       "      <td>0.0</td>\n",
       "      <td>35.000000</td>\n",
       "      <td>0.0</td>\n",
       "      <td>Фонд кино</td>\n",
       "      <td>5.1</td>\n",
       "      <td>комедия,мелодрама</td>\n",
       "      <td>72.937783</td>\n",
       "    </tr>\n",
       "    <tr>\n",
       "      <th>2873</th>\n",
       "      <td>Помню - не помню!</td>\n",
       "      <td>111004916</td>\n",
       "      <td>2016-03-01</td>\n",
       "      <td>Художественный</td>\n",
       "      <td>ООО \"КиноФирма\"</td>\n",
       "      <td>Россия</td>\n",
       "      <td>В.Ровенский</td>\n",
       "      <td>ООО \"КиноФирма\"</td>\n",
       "      <td>12+</td>\n",
       "      <td>0.0</td>\n",
       "      <td>6.000000</td>\n",
       "      <td>0.0</td>\n",
       "      <td>Министерство культуры</td>\n",
       "      <td>4.3</td>\n",
       "      <td>комедия</td>\n",
       "      <td>15.362931</td>\n",
       "    </tr>\n",
       "    <tr>\n",
       "      <th>3046</th>\n",
       "      <td>Любовь с ограничениями</td>\n",
       "      <td>111008216</td>\n",
       "      <td>2016-04-29</td>\n",
       "      <td>Художественный</td>\n",
       "      <td>АО \"ВайТ Медиа\", ООО \"Арт Пикчерс Студия\"</td>\n",
       "      <td>Россия</td>\n",
       "      <td>Д.Тюрин</td>\n",
       "      <td>Ф.Бондарчук, Т.Вайнштейн, Д.Рудовский</td>\n",
       "      <td>16+</td>\n",
       "      <td>19.0</td>\n",
       "      <td>51.000000</td>\n",
       "      <td>0.0</td>\n",
       "      <td>Фонд кино</td>\n",
       "      <td>6.3</td>\n",
       "      <td>комедия,мелодрама</td>\n",
       "      <td>70.299052</td>\n",
       "    </tr>\n",
       "    <tr>\n",
       "      <th>3564</th>\n",
       "      <td>Притяжение (2016)</td>\n",
       "      <td>111018116</td>\n",
       "      <td>2016-12-16</td>\n",
       "      <td>Художественный</td>\n",
       "      <td>ООО \"Водород 2011\",  ООО \"Арт Пикчерс Студия\"</td>\n",
       "      <td>Россия</td>\n",
       "      <td>Ф.Бондарчук</td>\n",
       "      <td>ООО \"Арт Пикчерс Студия\"</td>\n",
       "      <td>12+</td>\n",
       "      <td>0.0</td>\n",
       "      <td>250.000000</td>\n",
       "      <td>0.0</td>\n",
       "      <td>Фонд кино</td>\n",
       "      <td>5.6</td>\n",
       "      <td>фантастика</td>\n",
       "      <td>1038.321489</td>\n",
       "    </tr>\n",
       "    <tr>\n",
       "      <th>3674</th>\n",
       "      <td>Чудо-юдо</td>\n",
       "      <td>114001817</td>\n",
       "      <td>2017-06-27</td>\n",
       "      <td>Анимационный</td>\n",
       "      <td>ООО \"КиноФирма\"</td>\n",
       "      <td>Россия</td>\n",
       "      <td>А.Лукичев</td>\n",
       "      <td>ООО \"КиноФирма\"</td>\n",
       "      <td>6+</td>\n",
       "      <td>20.0</td>\n",
       "      <td>20.000000</td>\n",
       "      <td>0.0</td>\n",
       "      <td>Фонд кино</td>\n",
       "      <td>5.2</td>\n",
       "      <td>мультфильм,фэнтези,семейный</td>\n",
       "      <td>55.108015</td>\n",
       "    </tr>\n",
       "    <tr>\n",
       "      <th>3738</th>\n",
       "      <td>Мифы</td>\n",
       "      <td>111004317</td>\n",
       "      <td>2017-06-07</td>\n",
       "      <td>Художественный</td>\n",
       "      <td>ООО \"ХАЙПФИЛМ\", ООО \"Арт Пикчерс Студия\"</td>\n",
       "      <td>Россия</td>\n",
       "      <td>А.Молочников</td>\n",
       "      <td>Ф.Бондарчук, Д.Рудовский, И.Стюарт, М.Османн, ...</td>\n",
       "      <td>16+</td>\n",
       "      <td>25.0</td>\n",
       "      <td>20.000000</td>\n",
       "      <td>0.0</td>\n",
       "      <td>Фонд кино</td>\n",
       "      <td>4.8</td>\n",
       "      <td>комедия</td>\n",
       "      <td>50.451949</td>\n",
       "    </tr>\n",
       "    <tr>\n",
       "      <th>5672</th>\n",
       "      <td>Селфи</td>\n",
       "      <td>111012117</td>\n",
       "      <td>2018-02-01</td>\n",
       "      <td>Художественный</td>\n",
       "      <td>ООО \"Киностудия \"Слово\", ООО \"Арт Пикчерс Студия\"</td>\n",
       "      <td>Россия</td>\n",
       "      <td>Н.Хомерики</td>\n",
       "      <td>П.Ануров, Ф.Бондарчук, Д.Рудовский</td>\n",
       "      <td>16+</td>\n",
       "      <td>20.0</td>\n",
       "      <td>40.000000</td>\n",
       "      <td>0.0</td>\n",
       "      <td>Фонд кино</td>\n",
       "      <td>5.8</td>\n",
       "      <td>триллер,драма</td>\n",
       "      <td>225.196400</td>\n",
       "    </tr>\n",
       "    <tr>\n",
       "      <th>5805</th>\n",
       "      <td>Два хвоста</td>\n",
       "      <td>114001018</td>\n",
       "      <td>2018-05-31</td>\n",
       "      <td>Анимационный</td>\n",
       "      <td>ООО \"ЛИЦЕНЗИОННЫЕ БРЕНДЫ\"</td>\n",
       "      <td>Россия</td>\n",
       "      <td>В.Ровенский, Н.Лопато, В.Азеев</td>\n",
       "      <td>ООО \"ЛИЦЕНЗИОННЫЕ БРЕНДЫ\"</td>\n",
       "      <td>6+</td>\n",
       "      <td>10.0</td>\n",
       "      <td>60.000000</td>\n",
       "      <td>0.0</td>\n",
       "      <td>Фонд кино</td>\n",
       "      <td>5.0</td>\n",
       "      <td>мультфильм,детский</td>\n",
       "      <td>106.514301</td>\n",
       "    </tr>\n",
       "    <tr>\n",
       "      <th>6007</th>\n",
       "      <td>Принцесса и дракон</td>\n",
       "      <td>114003018</td>\n",
       "      <td>2018-08-23</td>\n",
       "      <td>Анимационный</td>\n",
       "      <td>ООО \"ЛИЦЕНЗИОННЫЕ БРЕНДЫ\"</td>\n",
       "      <td>Россия</td>\n",
       "      <td>М.Нефедова</td>\n",
       "      <td>ООО \"ЛИЦЕНЗИОННЫЕ БРЕНДЫ\"</td>\n",
       "      <td>6+</td>\n",
       "      <td>40.0</td>\n",
       "      <td>40.000000</td>\n",
       "      <td>0.0</td>\n",
       "      <td>Фонд кино</td>\n",
       "      <td>5.2</td>\n",
       "      <td>мультфильм,фэнтези,детский</td>\n",
       "      <td>83.366329</td>\n",
       "    </tr>\n",
       "    <tr>\n",
       "      <th>6322</th>\n",
       "      <td>Баба Яга</td>\n",
       "      <td>114006518</td>\n",
       "      <td>2018-11-08</td>\n",
       "      <td>Анимационный</td>\n",
       "      <td>ООО \"Арт Пикчерс Студия\"</td>\n",
       "      <td>Россия</td>\n",
       "      <td>В.Саков</td>\n",
       "      <td>ООО \"Арт Пикчерс Студия\", ООО \"КРИЭЙТИВ АНИМЭЙ...</td>\n",
       "      <td>6+</td>\n",
       "      <td>0.0</td>\n",
       "      <td>138.969465</td>\n",
       "      <td>0.0</td>\n",
       "      <td>Фонд кино</td>\n",
       "      <td>0.0</td>\n",
       "      <td>не указан</td>\n",
       "      <td>1.334699</td>\n",
       "    </tr>\n",
       "    <tr>\n",
       "      <th>6822</th>\n",
       "      <td>Большое путешествие</td>\n",
       "      <td>114002419</td>\n",
       "      <td>2019-04-20</td>\n",
       "      <td>Анимационный</td>\n",
       "      <td>ООО \"ЛИЦЕНЗИОННЫЕ БРЕНДЫ\"</td>\n",
       "      <td>Россия</td>\n",
       "      <td>Н.Лопато, В.Ровенский</td>\n",
       "      <td>ООО \"ЛИЦЕНЗИОННЫЕ БРЕНДЫ\"</td>\n",
       "      <td>6+</td>\n",
       "      <td>60.0</td>\n",
       "      <td>120.000000</td>\n",
       "      <td>0.0</td>\n",
       "      <td>Фонд кино</td>\n",
       "      <td>6.2</td>\n",
       "      <td>мультфильм,комедия,приключения</td>\n",
       "      <td>147.606827</td>\n",
       "    </tr>\n",
       "  </tbody>\n",
       "</table>\n",
       "</div>"
      ],
      "text/plain": [
       "                       title  pu_number show_start_date            type  \\\n",
       "2052                     14+  111023614      2014-12-19  Художественный   \n",
       "2057               Дуxless 2  111000415      2015-01-26  Художественный   \n",
       "2471             Воин (2015)  111017315      2015-09-28  Художественный   \n",
       "2531                  Бармен  111009615      2015-05-26  Художественный   \n",
       "2614     Савва. Сердце воина  114001715      2015-07-21    Анимационный   \n",
       "2683          Тряпичный союз  111010215      2015-06-08  Художественный   \n",
       "2787      Срочно выйду замуж  111017115      2015-09-30  Художественный   \n",
       "2873       Помню - не помню!  111004916      2016-03-01  Художественный   \n",
       "3046  Любовь с ограничениями  111008216      2016-04-29  Художественный   \n",
       "3564       Притяжение (2016)  111018116      2016-12-16  Художественный   \n",
       "3674                Чудо-юдо  114001817      2017-06-27    Анимационный   \n",
       "3738                    Мифы  111004317      2017-06-07  Художественный   \n",
       "5672                   Селфи  111012117      2018-02-01  Художественный   \n",
       "5805              Два хвоста  114001018      2018-05-31    Анимационный   \n",
       "6007      Принцесса и дракон  114003018      2018-08-23    Анимационный   \n",
       "6322                Баба Яга  114006518      2018-11-08    Анимационный   \n",
       "6822     Большое путешествие  114002419      2019-04-20    Анимационный   \n",
       "\n",
       "                                            film_studio production_country  \\\n",
       "2052                         ООО Киностудия  \"Сентябрь\"             Россия   \n",
       "2057  ООО \"Киностудия \"Слово\", ООО \"Арт Пикчерс Студия\"             Россия   \n",
       "2471   ООО \"Форпост Продакшн\", ООО \"Арт Пикчерс Студия\"             Россия   \n",
       "2531          АО \"ВайТ Медиа\", ООО \"Арт Пикчерс Студия\"             Россия   \n",
       "2614   ООО \"Глюкоза Продакшн\", ООО \"Арт Пикчерс Студия\"             Россия   \n",
       "2683                      ООО \"Кинокомпания \"КОКТЕБЕЛЬ\"             Россия   \n",
       "2787          АО \"ВайТ Медиа\", ООО \"Арт Пикчерс Студия\"             Россия   \n",
       "2873                                    ООО \"КиноФирма\"             Россия   \n",
       "3046          АО \"ВайТ Медиа\", ООО \"Арт Пикчерс Студия\"             Россия   \n",
       "3564      ООО \"Водород 2011\",  ООО \"Арт Пикчерс Студия\"             Россия   \n",
       "3674                                    ООО \"КиноФирма\"             Россия   \n",
       "3738           ООО \"ХАЙПФИЛМ\", ООО \"Арт Пикчерс Студия\"             Россия   \n",
       "5672  ООО \"Киностудия \"Слово\", ООО \"Арт Пикчерс Студия\"             Россия   \n",
       "5805                          ООО \"ЛИЦЕНЗИОННЫЕ БРЕНДЫ\"             Россия   \n",
       "6007                          ООО \"ЛИЦЕНЗИОННЫЕ БРЕНДЫ\"             Россия   \n",
       "6322                           ООО \"Арт Пикчерс Студия\"             Россия   \n",
       "6822                          ООО \"ЛИЦЕНЗИОННЫЕ БРЕНДЫ\"             Россия   \n",
       "\n",
       "                            director  \\\n",
       "2052                        А.Зайцев   \n",
       "2057                      Р.Прыгунов   \n",
       "2471                     А.Андрианов   \n",
       "2531                    Д.Штурманова   \n",
       "2614                        М.Фадеев   \n",
       "2683                     М.Местецкий   \n",
       "2787                       С Чекалов   \n",
       "2873                     В.Ровенский   \n",
       "3046                         Д.Тюрин   \n",
       "3564                     Ф.Бондарчук   \n",
       "3674                       А.Лукичев   \n",
       "3738                    А.Молочников   \n",
       "5672                      Н.Хомерики   \n",
       "5805  В.Ровенский, Н.Лопато, В.Азеев   \n",
       "6007                      М.Нефедова   \n",
       "6322                         В.Саков   \n",
       "6822           Н.Лопато, В.Ровенский   \n",
       "\n",
       "                                               producer age_restriction  \\\n",
       "2052                                О.Гранина, А.Зайцев             16+   \n",
       "2057                 П.Ануров, Ф.Бондарчук, Д.Рудовский             16+   \n",
       "2471                           ООО \"Арт Пикчерс Студия\"             12+   \n",
       "2531                                        Т.Вайнштейн             16+   \n",
       "2614                                         А.Чистяков              6+   \n",
       "2683                              Р.Борисевич, А.Кушаев             18+   \n",
       "2787              Ф.Бондарчук, Т.Вайнштейн, Д.Рудовский             16+   \n",
       "2873                                    ООО \"КиноФирма\"             12+   \n",
       "3046              Ф.Бондарчук, Т.Вайнштейн, Д.Рудовский             16+   \n",
       "3564                           ООО \"Арт Пикчерс Студия\"             12+   \n",
       "3674                                    ООО \"КиноФирма\"              6+   \n",
       "3738  Ф.Бондарчук, Д.Рудовский, И.Стюарт, М.Османн, ...             16+   \n",
       "5672                 П.Ануров, Ф.Бондарчук, Д.Рудовский             16+   \n",
       "5805                          ООО \"ЛИЦЕНЗИОННЫЕ БРЕНДЫ\"              6+   \n",
       "6007                          ООО \"ЛИЦЕНЗИОННЫЕ БРЕНДЫ\"              6+   \n",
       "6322  ООО \"Арт Пикчерс Студия\", ООО \"КРИЭЙТИВ АНИМЭЙ...              6+   \n",
       "6822                          ООО \"ЛИЦЕНЗИОННЫЕ БРЕНДЫ\"              6+   \n",
       "\n",
       "      refundable_support  nonrefundable_support  budget  \\\n",
       "2052                 0.0              23.000000     0.0   \n",
       "2057                 0.0              75.000000     0.0   \n",
       "2471                10.0              70.000000     0.0   \n",
       "2531                20.0               0.000000     0.0   \n",
       "2614                60.0             100.000000     0.0   \n",
       "2683                 0.0              59.000000     0.0   \n",
       "2787                 0.0              35.000000     0.0   \n",
       "2873                 0.0               6.000000     0.0   \n",
       "3046                19.0              51.000000     0.0   \n",
       "3564                 0.0             250.000000     0.0   \n",
       "3674                20.0              20.000000     0.0   \n",
       "3738                25.0              20.000000     0.0   \n",
       "5672                20.0              40.000000     0.0   \n",
       "5805                10.0              60.000000     0.0   \n",
       "6007                40.0              40.000000     0.0   \n",
       "6322                 0.0             138.969465     0.0   \n",
       "6822                60.0             120.000000     0.0   \n",
       "\n",
       "                      financing_source  ratings  \\\n",
       "2052  Министерство культуры, Фонд кино      6.6   \n",
       "2057                         Фонд кино      6.6   \n",
       "2471                         Фонд кино      7.8   \n",
       "2531                         Фонд кино      6.2   \n",
       "2614                         Фонд кино      4.6   \n",
       "2683                         Фонд кино      6.3   \n",
       "2787                         Фонд кино      5.1   \n",
       "2873             Министерство культуры      4.3   \n",
       "3046                         Фонд кино      6.3   \n",
       "3564                         Фонд кино      5.6   \n",
       "3674                         Фонд кино      5.2   \n",
       "3738                         Фонд кино      4.8   \n",
       "5672                         Фонд кино      5.8   \n",
       "5805                         Фонд кино      5.0   \n",
       "6007                         Фонд кино      5.2   \n",
       "6322                         Фонд кино      0.0   \n",
       "6822                         Фонд кино      6.2   \n",
       "\n",
       "                              genres   box_office  \n",
       "2052                       мелодрама    10.234016  \n",
       "2057                           драма   446.163511  \n",
       "2471           боевик,драма,криминал   196.572438  \n",
       "2531                 комедия,фэнтези    67.418975  \n",
       "2614  мультфильм,приключения,фэнтези   184.487551  \n",
       "2683                   комедия,драма     1.957739  \n",
       "2787               комедия,мелодрама    72.937783  \n",
       "2873                         комедия    15.362931  \n",
       "3046               комедия,мелодрама    70.299052  \n",
       "3564                      фантастика  1038.321489  \n",
       "3674     мультфильм,фэнтези,семейный    55.108015  \n",
       "3738                         комедия    50.451949  \n",
       "5672                   триллер,драма   225.196400  \n",
       "5805              мультфильм,детский   106.514301  \n",
       "6007      мультфильм,фэнтези,детский    83.366329  \n",
       "6322                       не указан     1.334699  \n",
       "6822  мультфильм,комедия,приключения   147.606827  "
      ]
     },
     "execution_count": 35,
     "metadata": {},
     "output_type": "execute_result"
    }
   ],
   "source": [
    "# Выведем, где сумма поддержки больше бюджета\n",
    "data[(data['refundable_support'] + data['nonrefundable_support']) > data['budget']]"
   ]
  },
  {
   "cell_type": "markdown",
   "metadata": {},
   "source": [
    "Бюджет фильма складывается из заработных плат членов съемочной группы (включая гонорары актеров и автора сценария) + стоимость аренды или покупки съемочного оборудования + оплата пользования локациями и/или постройка декораций + пост-продакшн (обработка звука и изображения после съемок) + деньги на прокат фильма.\n",
    "Бюджет может дать государство (или несколько) или какая-либо коммерческая структура, а может быть и все сразу. Соответственно, бюджет фильма не может быть меньше государственной поддержки. У нас есть 17 строк, где общий бюджет фильма указан 0. Установим в них значение суммы поддержки от государства."
   ]
  },
  {
   "cell_type": "markdown",
   "metadata": {},
   "source": [
    "### Заменим нулевые значения в budget на сумму refundable_support и nonrefundable_support"
   ]
  },
  {
   "cell_type": "code",
   "execution_count": 36,
   "metadata": {},
   "outputs": [],
   "source": [
    "data.loc[data['budget'] == 0, 'budget'] = \\\n",
    "data['refundable_support'] + data['nonrefundable_support']"
   ]
  },
  {
   "cell_type": "markdown",
   "metadata": {},
   "source": [
    "### Промежуточный вывод"
   ]
  },
  {
   "cell_type": "markdown",
   "metadata": {},
   "source": [
    "Исследовав количественные значения мы обнаружили, что у 17 фильмов не указан общий бюджет фильма, при этом они получали господдержку. Мы заполнили значение суммой возвратных и невозвратных средств, чтобы не удалять эти строки. Также, разделили количественные значения на 1000000."
   ]
  },
  {
   "cell_type": "markdown",
   "metadata": {
    "id": "Eu6oWp2CgFyS"
   },
   "source": [
    "# Добавление новых столбцов"
   ]
  },
  {
   "cell_type": "markdown",
   "metadata": {},
   "source": [
    "## Добавим столбец с годом проекта"
   ]
  },
  {
   "cell_type": "code",
   "execution_count": 37,
   "metadata": {
    "id": "I-yd1DkWgFyT"
   },
   "outputs": [],
   "source": [
    "data['year'] = pd.to_datetime(data['show_start_date']).dt.year"
   ]
  },
  {
   "cell_type": "markdown",
   "metadata": {},
   "source": [
    "## Добавим столбцы с главным режисером и основным жанром фильма"
   ]
  },
  {
   "cell_type": "code",
   "execution_count": 38,
   "metadata": {
    "id": "LSbRZKbMgFyU"
   },
   "outputs": [],
   "source": [
    "def extract_first(value):\n",
    "    \"\"\"\n",
    "    Функция для извлечения первого значения из строки \n",
    "    \"\"\"\n",
    "    # Берём первое значение, разделённое запятой (или другим разделителем)\n",
    "    return value.split(',')[0].strip()\n",
    "\n",
    "# Создаём новые столбцы с первым режиссёром и основным жанром\n",
    "data['main_director'] = data['director'].apply(extract_first)\n",
    "data['main_genre'] = data['genres'].apply(extract_first)\n"
   ]
  },
  {
   "cell_type": "markdown",
   "metadata": {},
   "source": [
    "## Добавим столбец с долей государственного бюджета от общего"
   ]
  },
  {
   "cell_type": "code",
   "execution_count": 39,
   "metadata": {
    "id": "LV6qFuZLgFyV"
   },
   "outputs": [],
   "source": [
    "data['budget_share'] = round(((data['refundable_support'] + data['nonrefundable_support']) / data['budget']).astype(float), 2)"
   ]
  },
  {
   "cell_type": "markdown",
   "metadata": {},
   "source": [
    "## Добавим столбец с главной страной производства"
   ]
  },
  {
   "cell_type": "code",
   "execution_count": 40,
   "metadata": {},
   "outputs": [],
   "source": [
    "# Функция для получения главной страны производства\n",
    "def get_primary_country(country_string):\n",
    "    # Используем регулярное выражение для разделения по запятой и дефису\n",
    "    countries = re.split(r'[,\\-]', country_string)  \n",
    "    countries = [country.strip() for country in countries if country]  \n",
    "    \n",
    "    # Возвращаем первую страну из списка\n",
    "    return countries[0] if countries else None\n",
    "\n",
    "# Применяем эту функцию ко всем значениям в столбце production_country\n",
    "data['primary_production_country'] = data['production_country'].apply(lambda x: get_primary_country(str(x)))"
   ]
  },
  {
   "cell_type": "markdown",
   "metadata": {},
   "source": [
    "# Вывод"
   ]
  },
  {
   "cell_type": "markdown",
   "metadata": {},
   "source": [
    "На этапе предобработки данных было выполненно:\n",
    "1. Привели именование столбцов к общей стилистике\n",
    "2. Изменили типы данных в столбцах на корректные:\n",
    "   - Преобразовали show_start_date в datetime и оставили только дату\n",
    "   - Преобразовали процентную шкалу в ratings в десятибальную и перевили в тип float\n",
    "Рейтинг был получен из разных источников со своей системой оценки. Необходимо было привести к общему формату.\n",
    "3. Изучили пропуски:\n",
    "   - Проверили количество пропусков в каждом столбце\n",
    "   - Заполнили там, где это было необходимо\n",
    "Пропуски могли возникнуть во время загрузки или выгрузки данных.\n",
    "4. Обработали неявные дубликаты:\n",
    "   - В pu_number было выявленно 2 дубликата и удалены.\n",
    "5. Изучили категориальные значения и привели их единому формату:\n",
    "   - в категориальных данных были удалены лишние пробелы в начале строки и удалены лишние спецсимволы\n",
    "6. Изучили количественные значения:\n",
    "   - Разделили количественные значения на 1000000 для удобства.\n",
    "   - заменили нулевые значения в общем бюджете фильма\n",
    "7. Добавили новые столбцы:\n",
    "   - год выхода в прокат\n",
    "   - главный режисер\n",
    "   - главный продюссер\n",
    "   - доля гос. бюджета от общего\n",
    "   - главная страна производства\n",
    "\n"
   ]
  },
  {
   "cell_type": "markdown",
   "metadata": {
    "id": "6t4EukPLgFyV"
   },
   "source": [
    "# Исследовательский анализ данных\n"
   ]
  },
  {
   "cell_type": "markdown",
   "metadata": {},
   "source": [
    "## Построим гистограмму количества вышедших в прокат фильмов Российского и зарубежного производства"
   ]
  },
  {
   "cell_type": "code",
   "execution_count": 41,
   "metadata": {},
   "outputs": [
    {
     "data": {
      "image/png": "[encoded data removed]",
      "text/plain": [
       "<Figure size 720x432 with 1 Axes>"
      ]
     },
     "metadata": {},
     "output_type": "display_data"
    }
   ],
   "source": [
    "# Создаем маски для фильмов, произведенных в России и зарубежных фильмов\n",
    "russian_films = data[data['primary_production_country'] == 'Россия']\n",
    "foreign_films = data[data['primary_production_country'] != 'Россия']\n",
    "\n",
    "# Строим гистограмму для всех фильмов\n",
    "plt.figure(figsize=(10, 6))\n",
    "\n",
    "# Гистограмма для фильмов, произведенных в России\n",
    "plt.hist(russian_films['year'].dropna(), bins=range(int(data['year'].min()), int(data['year'].max()) + 1), edgecolor='black', alpha=0.6, label='Российские фильмы', color='orange')\n",
    "\n",
    "# Гистограмма для зарубежных фильмов\n",
    "plt.hist(foreign_films['year'].dropna(), bins=range(int(data['year'].min()), int(data['year'].max()) + 1), edgecolor='black', alpha=0.6, label='Зарубежные фильмы', color='red')\n",
    "\n",
    "# Добавляем заголовок, подписи и легенду\n",
    "plt.title('Количество фильмов, выпущенных в прокат')\n",
    "plt.xlabel('Год')\n",
    "plt.ylabel('Количество фильмов')\n",
    "plt.grid(True)\n",
    "plt.legend()\n",
    "\n",
    "plt.show()"
   ]
  },
  {
   "cell_type": "markdown",
   "metadata": {},
   "source": [
    "С 2018 года заметен резкий рост Российских произведений вышедших в прокат."
   ]
  },
  {
   "cell_type": "code",
   "execution_count": 42,
   "metadata": {
    "id": "ABeV47y7gFyW"
   },
   "outputs": [
    {
     "data": {
      "image/png": "[encoded data removed]",
      "text/plain": [
       "<Figure size 720x432 with 1 Axes>"
      ]
     },
     "metadata": {},
     "output_type": "display_data"
    },
    {
     "name": "stdout",
     "output_type": "stream",
     "text": [
      "Доля фильмов с информацией о прокате по годам:\n",
      "year\n",
      "2010    0.107034\n",
      "2011    0.175241\n",
      "2012    0.215852\n",
      "2013    0.292063\n",
      "2014    0.346154\n",
      "2015    0.659574\n",
      "2016    0.643032\n",
      "2017    0.706931\n",
      "2018    0.533109\n",
      "2019    0.569892\n",
      "dtype: float64\n"
     ]
    }
   ],
   "source": [
    "# Считаем количество фильмов по годам\n",
    "films_by_year = data.groupby('year').size()\n",
    "\n",
    "# Считаем количество фильмов с информацией о прокате\n",
    "films_with_box_office = data[data['box_office'].notna()].groupby('year').size()\n",
    "\n",
    "# Рассчитываем долю фильмов с информацией о прокате по годам\n",
    "share_with_box_office = films_with_box_office / films_by_year\n",
    "\n",
    "# Визуализируем данные\n",
    "plt.figure(figsize=(10, 6))\n",
    "plt.plot(share_with_box_office.index, share_with_box_office.values, marker='o', color='b', label='Доля фильмов с информацией о прокате')\n",
    "plt.title('Доля фильмов с информацией о прокате по годам')\n",
    "plt.xlabel('Год')\n",
    "plt.ylabel('Доля фильмов с информацией о прокате')\n",
    "plt.grid(True)\n",
    "plt.legend()\n",
    "plt.show()\n",
    "\n",
    "# Выводим статистику по годам\n",
    "print(f\"Доля фильмов с информацией о прокате по годам:\")\n",
    "print(share_with_box_office)"
   ]
  },
  {
   "cell_type": "markdown",
   "metadata": {},
   "source": [
    "Видно, что доля фильмов с информацией о прокате растет. Период времени с 2015 года по 2019 может указывать о более полном представлении данных. В 2018 году заметно падение доли в сравнении с 2017 годом. Это может быть связано с выходом большого количества картин, которые не выходили в кинотеатре, а были доступны бесплатно в онлайн кинотеатрах. "
   ]
  },
  {
   "cell_type": "markdown",
   "metadata": {},
   "source": [
    "## Построим гистограмму суммы сборов по годам"
   ]
  },
  {
   "cell_type": "code",
   "execution_count": 43,
   "metadata": {
    "id": "tfEhofYvgFyX"
   },
   "outputs": [
    {
     "data": {
      "image/png": "[encoded data removed]",
      "text/plain": [
       "<Figure size 864x432 with 1 Axes>"
      ]
     },
     "metadata": {},
     "output_type": "display_data"
    },
    {
     "data": {
      "text/html": [
       "<div>\n",
       "<style scoped>\n",
       "    .dataframe tbody tr th:only-of-type {\n",
       "        vertical-align: middle;\n",
       "    }\n",
       "\n",
       "    .dataframe tbody tr th {\n",
       "        vertical-align: top;\n",
       "    }\n",
       "\n",
       "    .dataframe thead th {\n",
       "        text-align: right;\n",
       "    }\n",
       "</style>\n",
       "<table border=\"1\" class=\"dataframe\">\n",
       "  <thead>\n",
       "    <tr style=\"text-align: right;\">\n",
       "      <th></th>\n",
       "      <th>year</th>\n",
       "      <th>total_box_office</th>\n",
       "      <th>film_count</th>\n",
       "    </tr>\n",
       "  </thead>\n",
       "  <tbody>\n",
       "    <tr>\n",
       "      <th>0</th>\n",
       "      <td>2010</td>\n",
       "      <td>2.428654</td>\n",
       "      <td>105</td>\n",
       "    </tr>\n",
       "    <tr>\n",
       "      <th>1</th>\n",
       "      <td>2011</td>\n",
       "      <td>14.102765</td>\n",
       "      <td>109</td>\n",
       "    </tr>\n",
       "    <tr>\n",
       "      <th>2</th>\n",
       "      <td>2012</td>\n",
       "      <td>6.955423</td>\n",
       "      <td>128</td>\n",
       "    </tr>\n",
       "    <tr>\n",
       "      <th>3</th>\n",
       "      <td>2013</td>\n",
       "      <td>29.799706</td>\n",
       "      <td>184</td>\n",
       "    </tr>\n",
       "    <tr>\n",
       "      <th>4</th>\n",
       "      <td>2014</td>\n",
       "      <td>7444.951859</td>\n",
       "      <td>279</td>\n",
       "    </tr>\n",
       "    <tr>\n",
       "      <th>5</th>\n",
       "      <td>2015</td>\n",
       "      <td>39497.365196</td>\n",
       "      <td>465</td>\n",
       "    </tr>\n",
       "    <tr>\n",
       "      <th>6</th>\n",
       "      <td>2016</td>\n",
       "      <td>47866.299742</td>\n",
       "      <td>526</td>\n",
       "    </tr>\n",
       "    <tr>\n",
       "      <th>7</th>\n",
       "      <td>2017</td>\n",
       "      <td>48563.707218</td>\n",
       "      <td>357</td>\n",
       "    </tr>\n",
       "    <tr>\n",
       "      <th>8</th>\n",
       "      <td>2018</td>\n",
       "      <td>49668.403134</td>\n",
       "      <td>475</td>\n",
       "    </tr>\n",
       "    <tr>\n",
       "      <th>9</th>\n",
       "      <td>2019</td>\n",
       "      <td>48425.708780</td>\n",
       "      <td>530</td>\n",
       "    </tr>\n",
       "  </tbody>\n",
       "</table>\n",
       "</div>"
      ],
      "text/plain": [
       "   year  total_box_office  film_count\n",
       "0  2010          2.428654         105\n",
       "1  2011         14.102765         109\n",
       "2  2012          6.955423         128\n",
       "3  2013         29.799706         184\n",
       "4  2014       7444.951859         279\n",
       "5  2015      39497.365196         465\n",
       "6  2016      47866.299742         526\n",
       "7  2017      48563.707218         357\n",
       "8  2018      49668.403134         475\n",
       "9  2019      48425.708780         530"
      ]
     },
     "execution_count": 43,
     "metadata": {},
     "output_type": "execute_result"
    }
   ],
   "source": [
    "# Создаем сводную таблицу\n",
    "years_dynamic = data.pivot_table(index='year', values='box_office', aggfunc=['sum', 'count'])\n",
    "\n",
    "# Преобразуем столбцы к обычному DataFrame\n",
    "years_dynamic.columns = ['total_box_office', 'film_count']\n",
    "years_dynamic = years_dynamic.reset_index()\n",
    "\n",
    "# Построим гистограмму суммы сборов по годам\n",
    "plt.figure(figsize=(12, 6))\n",
    "plt.bar(years_dynamic['year'], years_dynamic['total_box_office'], color='purple', edgecolor='black')\n",
    "plt.title('Сумма сборов по годам')\n",
    "plt.xlabel('Год')\n",
    "plt.ylabel('Сумма сборов (лог-шкала)')\n",
    "\n",
    "# Используем логарифмическую шкалу\n",
    "plt.yscale('log')\n",
    "\n",
    "plt.grid(axis='y', linestyle='--', linewidth=0.5)\n",
    "plt.show()\n",
    "\n",
    "years_dynamic"
   ]
  },
  {
   "cell_type": "markdown",
   "metadata": {},
   "source": [
    "Минмальная сумма сборов была в 2010 году и составила 2,428,654 руб, а максимальная в 2018 и составила 49,668,403,134 руб. Для более полного анализа проверим динамику кассовых сбором относительно количества вышедших фильмов."
   ]
  },
  {
   "cell_type": "markdown",
   "metadata": {},
   "source": [
    "##  Построим гистограмму динамики кассовых сборов и количества фильмов по годам"
   ]
  },
  {
   "cell_type": "code",
   "execution_count": 44,
   "metadata": {},
   "outputs": [
    {
     "data": {
      "image/png": "[encoded data removed]",
      "text/plain": [
       "<Figure size 792x288 with 2 Axes>"
      ]
     },
     "metadata": {},
     "output_type": "display_data"
    }
   ],
   "source": [
    "# Преобразуем столбцы в 1D массив\n",
    "total_box_office = years_dynamic['total_box_office'].to_numpy() / 1e6\n",
    "film_count = years_dynamic['film_count'].to_numpy()\n",
    "years = years_dynamic['year']\n",
    "\n",
    "# Создаем график\n",
    "fig, ax1 = plt.subplots(figsize=(11, 4))\n",
    "\n",
    "# Настройка первой оси (Общие сборы)\n",
    "ax1.grid()\n",
    "ax1.set_xlabel('Год')\n",
    "ax1.set_ylabel('Общие сборы', color='green')\n",
    "ax1.plot(years, total_box_office, linestyle='-', marker='o', color='green')\n",
    "ax1.tick_params(axis='y', labelcolor='green')\n",
    "\n",
    "ax1.set_yscale('log')\n",
    "\n",
    "# Вторая ось (Количество фильмов)\n",
    "ax2 = ax1.twinx()\n",
    "ax2.set_ylabel('Количество фильмов', color='red')\n",
    "ax2.plot(years, film_count, linestyle='--', marker='o', color='red')\n",
    "ax2.tick_params(axis='y', labelcolor='red')\n",
    "\n",
    "plt.title('Динамика кассовых сборов и количества фильмов по годам', fontweight=\"bold\")\n",
    "plt.show()"
   ]
  },
  {
   "cell_type": "markdown",
   "metadata": {},
   "source": [
    "С 2014 года заметен резкий скачок по кассовым сборам. Это может быть связано с изменениеми в сборе статистики и улучшением точности данных в связи с развитием интернет ресурсов. Также, в 2017 году мы видим, что кассовые сборы относительно вышедших фильмов, заметно выше, в сравнении с другими годами."
   ]
  },
  {
   "cell_type": "markdown",
   "metadata": {
    "id": "G-7qS-N-gFyY"
   },
   "source": [
    "- С помощью сводной таблицы посчитайте среднюю и медианную сумму сборов для каждого года."
   ]
  },
  {
   "cell_type": "markdown",
   "metadata": {},
   "source": [
    "## Посчитаем среднюю и медианную сумму сборов для каждого года"
   ]
  },
  {
   "cell_type": "code",
   "execution_count": 45,
   "metadata": {
    "id": "jmp-rgg9gFyY"
   },
   "outputs": [
    {
     "data": {
      "text/html": [
       "<div>\n",
       "<style scoped>\n",
       "    .dataframe tbody tr th:only-of-type {\n",
       "        vertical-align: middle;\n",
       "    }\n",
       "\n",
       "    .dataframe tbody tr th {\n",
       "        vertical-align: top;\n",
       "    }\n",
       "\n",
       "    .dataframe thead tr th {\n",
       "        text-align: left;\n",
       "    }\n",
       "\n",
       "    .dataframe thead tr:last-of-type th {\n",
       "        text-align: right;\n",
       "    }\n",
       "</style>\n",
       "<table border=\"1\" class=\"dataframe\">\n",
       "  <thead>\n",
       "    <tr>\n",
       "      <th></th>\n",
       "      <th>mean</th>\n",
       "      <th>median</th>\n",
       "    </tr>\n",
       "    <tr>\n",
       "      <th></th>\n",
       "      <th>box_office</th>\n",
       "      <th>box_office</th>\n",
       "    </tr>\n",
       "    <tr>\n",
       "      <th>year</th>\n",
       "      <th></th>\n",
       "      <th></th>\n",
       "    </tr>\n",
       "  </thead>\n",
       "  <tbody>\n",
       "    <tr>\n",
       "      <th>2010</th>\n",
       "      <td>0.023130</td>\n",
       "      <td>0.001700</td>\n",
       "    </tr>\n",
       "    <tr>\n",
       "      <th>2011</th>\n",
       "      <td>0.129383</td>\n",
       "      <td>0.003000</td>\n",
       "    </tr>\n",
       "    <tr>\n",
       "      <th>2012</th>\n",
       "      <td>0.054339</td>\n",
       "      <td>0.005660</td>\n",
       "    </tr>\n",
       "    <tr>\n",
       "      <th>2013</th>\n",
       "      <td>0.161955</td>\n",
       "      <td>0.003523</td>\n",
       "    </tr>\n",
       "    <tr>\n",
       "      <th>2014</th>\n",
       "      <td>26.684415</td>\n",
       "      <td>0.018160</td>\n",
       "    </tr>\n",
       "    <tr>\n",
       "      <th>2015</th>\n",
       "      <td>84.940570</td>\n",
       "      <td>4.920933</td>\n",
       "    </tr>\n",
       "    <tr>\n",
       "      <th>2016</th>\n",
       "      <td>91.000570</td>\n",
       "      <td>3.846679</td>\n",
       "    </tr>\n",
       "    <tr>\n",
       "      <th>2017</th>\n",
       "      <td>136.032793</td>\n",
       "      <td>9.968340</td>\n",
       "    </tr>\n",
       "    <tr>\n",
       "      <th>2018</th>\n",
       "      <td>104.565059</td>\n",
       "      <td>8.891102</td>\n",
       "    </tr>\n",
       "    <tr>\n",
       "      <th>2019</th>\n",
       "      <td>91.369262</td>\n",
       "      <td>4.627798</td>\n",
       "    </tr>\n",
       "  </tbody>\n",
       "</table>\n",
       "</div>"
      ],
      "text/plain": [
       "            mean     median\n",
       "      box_office box_office\n",
       "year                       \n",
       "2010    0.023130   0.001700\n",
       "2011    0.129383   0.003000\n",
       "2012    0.054339   0.005660\n",
       "2013    0.161955   0.003523\n",
       "2014   26.684415   0.018160\n",
       "2015   84.940570   4.920933\n",
       "2016   91.000570   3.846679\n",
       "2017  136.032793   9.968340\n",
       "2018  104.565059   8.891102\n",
       "2019   91.369262   4.627798"
      ]
     },
     "execution_count": 45,
     "metadata": {},
     "output_type": "execute_result"
    },
    {
     "data": {
      "image/png": "[encoded data removed]",
      "text/plain": [
       "<Figure size 792x432 with 1 Axes>"
      ]
     },
     "metadata": {},
     "output_type": "display_data"
    }
   ],
   "source": [
    "# Считаем среднюю сумму и медину кассовых сборов\n",
    "years_box_office = data.pivot_table(index='year', values='box_office', aggfunc=['mean', 'median'])\n",
    "# Строим гистограмму\n",
    "years_box_office.plot(kind='bar', figsize=(11, 6))\n",
    "plt.grid(True)\n",
    "plt.xlabel(\"Год\")\n",
    "plt.ylabel(\"Средняя сумма кассовых сборов, млн. руб.\")\n",
    "plt.title(\"Динамика кассовых сборов по годам\");\n",
    "plt.legend();\n",
    "years_box_office"
   ]
  },
  {
   "cell_type": "markdown",
   "metadata": {},
   "source": [
    "Видно, что среднее значение кассовых сборов значительно увеличилось с 2010 по 2019 год. Резкий рост наблюдается с 2014 года, что может быть связано с развитием индустрии, улучшением условий проката, появления новых технологий (например IMAX). При этом, на протяжении всего периода, медиана остается значительно низкой относительно среднего, что указывает на большие различия в доходах между фильмами. "
   ]
  },
  {
   "cell_type": "markdown",
   "metadata": {
    "id": "Ok89WFwJgFyZ"
   },
   "source": [
    "- Определите, влияет ли возрастное ограничение аудитории («6+», «12+», «16+», «18+» и т. д.) на сборы фильма в прокате в период с 2015 по 2019 год? Фильмы с каким возрастным ограничением собрали больше всего денег в прокате? Меняется ли картина в зависимости от года? Если да, предположите, с чем это может быть связано."
   ]
  },
  {
   "cell_type": "code",
   "execution_count": 46,
   "metadata": {},
   "outputs": [
    {
     "data": {
      "image/png": "[encoded data removed]",
      "text/plain": [
       "<Figure size 864x432 with 1 Axes>"
      ]
     },
     "metadata": {},
     "output_type": "display_data"
    },
    {
     "data": {
      "image/png": "[encoded data removed]",
      "text/plain": [
       "<Figure size 864x432 with 1 Axes>"
      ]
     },
     "metadata": {},
     "output_type": "display_data"
    }
   ],
   "source": [
    "# Группируем по возрастным ограничениям и вычисляем суммарные или средние сборы\n",
    "data_since_2015 = data[data['year'] > 2014]\n",
    "age_restriction_stats = data_since_2015.groupby(['age_restriction', 'year'])['box_office'].sum().unstack().T\n",
    "\n",
    "# График для суммарных сборов по возрастным категориям в разные годы\n",
    "plt.figure(figsize=(12, 6))\n",
    "for age_group in age_restriction_stats.columns:\n",
    "    plt.plot(age_restriction_stats.index, age_restriction_stats[age_group], label=age_group, marker='o')\n",
    "\n",
    "plt.title('Динамика кассовых сборов по возрастным ограничениям (2015-2019)', fontsize=14)\n",
    "plt.xlabel('Год', fontsize=12)\n",
    "plt.ylabel('Сумма сборов (в миллионах)', fontsize=12)\n",
    "plt.legend(title='Возрастное ограничение')\n",
    "plt.grid(True)\n",
    "plt.show()\n",
    "\n",
    "# 2. График для суммы сборов по возрастным категориям за весь период\n",
    "avg_age_restriction_stats = data_since_2015.groupby('age_restriction')['box_office'].sum()\n",
    "\n",
    "# График для средних сборов по возрастным ограничениям\n",
    "plt.figure(figsize=(12, 6))\n",
    "avg_age_restriction_stats.plot(kind='bar', color='skyblue', edgecolor='black')\n",
    "plt.title('Сумма сборов по возрастным ограничениям (2015-2019)', fontsize=14)\n",
    "plt.xlabel('Возрастное ограничение', fontsize=12)\n",
    "plt.ylabel('Сумма сборов (в миллионах)', fontsize=12)\n",
    "plt.grid(axis='y', linestyle='--', linewidth=0.5)\n",
    "plt.show()"
   ]
  },
  {
   "cell_type": "markdown",
   "metadata": {},
   "source": [
    "Менее популярными оказались картины с ограничением 0+, так как они ограничены по количеству фильмов. 6+ категория принесла значительные сборы, поскольку фильмы для детей и семейного просмотра всегда востребованы. 12+ и 16+ - наиболее прибыльные возрастные категории с самыми высокими сборами, что может свидетельствовать о том, что фильмы для более зрелой и молодежной аудитории получают наибольшее внимание и являются коммерчески успешными. 18+ -  у фильмов с таким возрастным ограничением более ограниченная аудитория, что снижает общий сбор."
   ]
  },
  {
   "cell_type": "markdown",
   "metadata": {},
   "source": [
    "В период с 2016 - 2018 год видно, что картины с возрастным ограничением 16+ принесли больше всего денег. Это может быть связано с выходом фильмов по мотивам комиксов, которые очень популярны у этой категории зрителей."
   ]
  },
  {
   "cell_type": "markdown",
   "metadata": {},
   "source": [
    "# Вывод"
   ]
  },
  {
   "cell_type": "markdown",
   "metadata": {},
   "source": [
    "Проведя исследовательский анализ данных мы выяснили:\n",
    "1. С 2018 года заметен резкий рост Российских произведений вышедших в прокат.\n",
    "2. Максимальную и минимальную сумму сборов по годам.\n",
    "3. Увидели динамику кассовых сборов и количества фильмов по годам.\n",
    "4. Посчитали медианную и среднюю долю сборов за каждый год.\n",
    "5. Определили, влияет ли возрастное ограничение аудитории («6+», «12+», «16+», «18+» и т. д.) на сборы фильма в прокате в период с 2015 по 2019 год.\n",
    "\n",
    "На основе анализа данных о российском кинопрокате с 2010 по 2019 год можно сделать следующие выводы:\n",
    "\n",
    "1. Рост количества фильмов и кассовых сборов: С 2014 года наблюдается резкий рост кассовых сборов, что может быть связано с улучшением методов сбора статистики, развитием интернет-ресурсов и общим ростом индустрии кино. Максимальные сборы были зафиксированы в 2018 году (49,668,403,134 руб), что свидетельствует о значительном увеличении популярности и коммерческой успешности российских фильмов.\n",
    "\n",
    "2. Изменения в доле фильмов, выходящих в прокат: В 2018 году заметно падение доли фильмов, вышедших в кинотеатрах, по сравнению с 2017 годом. Это может быть связано с увеличением числа фильмов, доступных бесплатно в онлайн-кинотеатрах, что изменило структуру потребления кинопродукции.\n",
    "\n",
    "3. Возрастные категории и коммерческая успешность: Наиболее прибыльными оказались фильмы с возрастными ограничениями 12+ и 16+, что указывает на высокий спрос среди молодежной и зрелой аудитории. Фильмы с ограничением 6+ также показали значительные сборы, благодаря популярности семейного и детского кино. В то же время фильмы с ограничением 18+ имеют более узкую аудиторию, что снижает их коммерческую привлекательность.\n",
    "\n",
    "4. Различия в доходах между фильмами: На протяжении всего анализируемого периода медиана кассовых сборов остается значительно ниже среднего значения, что свидетельствует о большом разрыве в доходах между наиболее успешными и менее популярными фильмами. Это подчеркивает неравномерность распределения коммерческого успеха в индустрии.\n",
    "\n",
    "5. Влияние технологий и жанров: Рост кассовых сборов с 2014 года может быть связан не только с улучшением условий проката, но и с внедрением новых технологий, таких как IMAX, а также с популярностью определенных жанров (например, фильмов по мотивам комиксов), которые привлекают широкую аудиторию.\n",
    "\n",
    "Российская киноиндустрия с 2010 по 2019 год демонстрирует значительный рост, как в количестве выпускаемых фильмов, так и в кассовых сборах. Однако успех распределяется неравномерно: наиболее коммерчески успешными оказываются фильмы для молодежной и зрелой аудитории (12+ и 16+), а также семейные фильмы (6+). Развитие технологий и изменение потребительских привычек (переход к онлайн-просмотру) также оказывают существенное влияние на индустрию."
   ]
  },
  {
   "cell_type": "markdown",
   "metadata": {
    "id": "W9QKpjUdgFyb"
   },
   "source": [
    "# Исследуем фильмы, которые получили государственную поддержку"
   ]
  },
  {
   "cell_type": "markdown",
   "metadata": {},
   "source": [
    "## Общий анализ государственной поддержки"
   ]
  },
  {
   "cell_type": "markdown",
   "metadata": {},
   "source": [
    "### Отберем фильмы с государственной поддержкой"
   ]
  },
  {
   "cell_type": "code",
   "execution_count": 47,
   "metadata": {},
   "outputs": [],
   "source": [
    "supported_movies = data[(data['refundable_support'] > 0) | (data['nonrefundable_support'] > 0)].copy()"
   ]
  },
  {
   "cell_type": "markdown",
   "metadata": {},
   "source": [
    "### Посчитаем общую сумму государственной поддержки"
   ]
  },
  {
   "cell_type": "code",
   "execution_count": 48,
   "metadata": {},
   "outputs": [
    {
     "data": {
      "text/plain": [
       "20200.688312"
      ]
     },
     "execution_count": 48,
     "metadata": {},
     "output_type": "execute_result"
    }
   ],
   "source": [
    "# Создадим столбец total_support, в котором будет сумма возвратных и безвозратных средств\n",
    "supported_movies.loc[:, 'total_support'] = supported_movies['refundable_support'] + supported_movies['nonrefundable_support']\n",
    "\n",
    "# Посчитаем суммарные расходы государства на поддержку кино\n",
    "total_support_sum = supported_movies['total_support'].sum()\n",
    "total_support_sum"
   ]
  },
  {
   "cell_type": "markdown",
   "metadata": {},
   "source": [
    "Общая сумма государственной поддержки с 2010 года по 2019 год составила более 20 млрд рублей."
   ]
  },
  {
   "cell_type": "markdown",
   "metadata": {},
   "source": [
    "### Посчитаем долю фильмов с господдержкой от всех фильмов выпущенных Россией"
   ]
  },
  {
   "cell_type": "code",
   "execution_count": 49,
   "metadata": {},
   "outputs": [
    {
     "data": {
      "image/png": "[encoded data removed]",
      "text/plain": [
       "<Figure size 504x504 with 1 Axes>"
      ]
     },
     "metadata": {},
     "output_type": "display_data"
    }
   ],
   "source": [
    "# Фильтруем только фильмы, произведенные в России\n",
    "russian_movies = data[data['primary_production_country'] == 'Россия'].copy()\n",
    "russian_movies.loc[:, 'total_support'] = russian_movies['refundable_support'] + russian_movies['nonrefundable_support']\n",
    "\n",
    "# Определяем количество фильмов с господдержкой и без\n",
    "count_supported = russian_movies[russian_movies['total_support'] > 0].shape[0]\n",
    "count_not_supported = russian_movies[russian_movies['total_support'].isna()].shape[0]\n",
    "\n",
    "# Данные для диаграммы\n",
    "labels = ['С господдержкой', 'Без господдержки']\n",
    "sizes = [count_supported, count_not_supported]\n",
    "colors = ['lightblue', 'orange']\n",
    "\n",
    "# Строим круговую диаграмму\n",
    "plt.figure(figsize=(7, 7))\n",
    "plt.pie(sizes, labels=labels, autopct='%1.1f%%', colors=colors, startangle=140, wedgeprops={'edgecolor': 'black'})\n",
    "\n",
    "# Заголовок\n",
    "plt.title('Доля фильмов с господдержкой среди всех фильмов, выпущенных в России')\n",
    "\n",
    "# Показываем график\n",
    "plt.show()"
   ]
  },
  {
   "cell_type": "markdown",
   "metadata": {},
   "source": [
    "Среди всех фильмов выпущенных Россией, только 17.4% получили господдержку."
   ]
  },
  {
   "cell_type": "markdown",
   "metadata": {},
   "source": [
    "### Динамика финансирования по годам"
   ]
  },
  {
   "cell_type": "code",
   "execution_count": 50,
   "metadata": {},
   "outputs": [
    {
     "data": {
      "image/png": "[encoded data removed]",
      "text/plain": [
       "<Figure size 720x360 with 1 Axes>"
      ]
     },
     "metadata": {},
     "output_type": "display_data"
    }
   ],
   "source": [
    "support_by_year = supported_movies.pivot_table(index='year', values='total_support', aggfunc='sum')\n",
    "\n",
    "plt.figure(figsize=(10, 5))\n",
    "plt.plot(support_by_year, marker='o', color='blue', linestyle='-')\n",
    "plt.xlabel('Год')\n",
    "plt.ylabel('Сумма господдержки (млн)')\n",
    "plt.title('Динамика господдержки кино по годам')\n",
    "plt.grid(True)\n",
    "plt.show()"
   ]
  },
  {
   "cell_type": "markdown",
   "metadata": {},
   "source": [
    "Данные о государственной поддержке имеются с 2013 года. На графике видно, что больше всего средств было выделено в 2019 году. Как раз с 2018 года был рост Российских фильмов вышедших в прокат."
   ]
  },
  {
   "cell_type": "markdown",
   "metadata": {},
   "source": [
    "### Топ-10 фильмов по размеру господдержки"
   ]
  },
  {
   "cell_type": "code",
   "execution_count": 51,
   "metadata": {},
   "outputs": [
    {
     "data": {
      "text/html": [
       "<div>\n",
       "<style scoped>\n",
       "    .dataframe tbody tr th:only-of-type {\n",
       "        vertical-align: middle;\n",
       "    }\n",
       "\n",
       "    .dataframe tbody tr th {\n",
       "        vertical-align: top;\n",
       "    }\n",
       "\n",
       "    .dataframe thead th {\n",
       "        text-align: right;\n",
       "    }\n",
       "</style>\n",
       "<table border=\"1\" class=\"dataframe\">\n",
       "  <thead>\n",
       "    <tr style=\"text-align: right;\">\n",
       "      <th></th>\n",
       "      <th>title</th>\n",
       "      <th>year</th>\n",
       "      <th>total_support</th>\n",
       "      <th>box_office</th>\n",
       "    </tr>\n",
       "  </thead>\n",
       "  <tbody>\n",
       "    <tr>\n",
       "      <th>7473</th>\n",
       "      <td>Вторжение</td>\n",
       "      <td>2019</td>\n",
       "      <td>500.000000</td>\n",
       "      <td>NaN</td>\n",
       "    </tr>\n",
       "    <tr>\n",
       "      <th>7463</th>\n",
       "      <td>Союз спасения</td>\n",
       "      <td>2019</td>\n",
       "      <td>500.000000</td>\n",
       "      <td>717.703186</td>\n",
       "    </tr>\n",
       "    <tr>\n",
       "      <th>3350</th>\n",
       "      <td>Дуэлянт</td>\n",
       "      <td>2016</td>\n",
       "      <td>450.000000</td>\n",
       "      <td>364.285140</td>\n",
       "    </tr>\n",
       "    <tr>\n",
       "      <th>2919</th>\n",
       "      <td>Экипаж</td>\n",
       "      <td>2016</td>\n",
       "      <td>442.104482</td>\n",
       "      <td>1402.255390</td>\n",
       "    </tr>\n",
       "    <tr>\n",
       "      <th>5652</th>\n",
       "      <td>Движение вверх</td>\n",
       "      <td>2017</td>\n",
       "      <td>400.000000</td>\n",
       "      <td>2779.686144</td>\n",
       "    </tr>\n",
       "    <tr>\n",
       "      <th>5568</th>\n",
       "      <td>Легенда о Коловрате</td>\n",
       "      <td>2017</td>\n",
       "      <td>350.000000</td>\n",
       "      <td>590.405065</td>\n",
       "    </tr>\n",
       "    <tr>\n",
       "      <th>3452</th>\n",
       "      <td>Ледокол</td>\n",
       "      <td>2016</td>\n",
       "      <td>300.000000</td>\n",
       "      <td>337.069663</td>\n",
       "    </tr>\n",
       "    <tr>\n",
       "      <th>5436</th>\n",
       "      <td>Матильда</td>\n",
       "      <td>2017</td>\n",
       "      <td>300.000000</td>\n",
       "      <td>511.775548</td>\n",
       "    </tr>\n",
       "    <tr>\n",
       "      <th>6886</th>\n",
       "      <td>Девятая</td>\n",
       "      <td>2019</td>\n",
       "      <td>300.000000</td>\n",
       "      <td>55.876887</td>\n",
       "    </tr>\n",
       "    <tr>\n",
       "      <th>7113</th>\n",
       "      <td>Тайна Печати Дракона</td>\n",
       "      <td>2019</td>\n",
       "      <td>270.000000</td>\n",
       "      <td>333.597060</td>\n",
       "    </tr>\n",
       "  </tbody>\n",
       "</table>\n",
       "</div>"
      ],
      "text/plain": [
       "                     title  year  total_support   box_office\n",
       "7473             Вторжение  2019     500.000000          NaN\n",
       "7463         Союз спасения  2019     500.000000   717.703186\n",
       "3350               Дуэлянт  2016     450.000000   364.285140\n",
       "2919                Экипаж  2016     442.104482  1402.255390\n",
       "5652        Движение вверх  2017     400.000000  2779.686144\n",
       "5568   Легенда о Коловрате  2017     350.000000   590.405065\n",
       "3452               Ледокол  2016     300.000000   337.069663\n",
       "5436              Матильда  2017     300.000000   511.775548\n",
       "6886               Девятая  2019     300.000000    55.876887\n",
       "7113  Тайна Печати Дракона  2019     270.000000   333.597060"
      ]
     },
     "execution_count": 51,
     "metadata": {},
     "output_type": "execute_result"
    }
   ],
   "source": [
    "# Выведем топ-10 фильмов, которые получили наибольшее финансирование\n",
    "supported_movies[['title', 'year', 'total_support', 'box_office']].sort_values('total_support', ascending=False).head(10)"
   ]
  },
  {
   "cell_type": "markdown",
   "metadata": {},
   "source": [
    "## Окупаемость фильмов, получивших господдержку "
   ]
  },
  {
   "cell_type": "code",
   "execution_count": 52,
   "metadata": {},
   "outputs": [
    {
     "name": "stdout",
     "output_type": "stream",
     "text": [
      "Средний ROI поддержанных фильмов: 0.85\n",
      "Медианный ROI поддержанных фильмов: 0.18\n",
      "Доля поддержанных фильмов, которые окупились: 25.60%\n"
     ]
    },
    {
     "data": {
      "image/png": "[encoded data removed]",
      "text/plain": [
       "<Figure size 720x360 with 1 Axes>"
      ]
     },
     "metadata": {},
     "output_type": "display_data"
    }
   ],
   "source": [
    "# Добавляем столбец с ROI (окупаемость)\n",
    "supported_movies['ROI'] = supported_movies['box_office'] / supported_movies['budget']\n",
    "\n",
    "# Убираем NaN, если бюджет был 0\n",
    "supported_movies = supported_movies.replace(np.nan).dropna(subset=['ROI'])\n",
    "\n",
    "# Средняя и медианная окупаемость\n",
    "mean_roi = supported_movies['ROI'].mean()\n",
    "median_roi = supported_movies['ROI'].median()\n",
    "\n",
    "print(f'Средний ROI поддержанных фильмов: {mean_roi:.2f}')\n",
    "print(f'Медианный ROI поддержанных фильмов: {median_roi:.2f}')\n",
    "\n",
    "# Доля окупившихся фильмов\n",
    "profitable_percent = (supported_movies['ROI'] > 1).mean() * 100\n",
    "print(f'Доля поддержанных фильмов, которые окупились: {profitable_percent:.2f}%')\n",
    "\n",
    "# График ROI по годам\n",
    "plt.figure(figsize=(10, 5))\n",
    "sns.boxplot(x=supported_movies['year'], y=supported_movies['ROI'])\n",
    "plt.ylim(0, 10)  # Ограничим ось Y для наглядности (можно изменить)\n",
    "plt.title('Распределение ROI поддержанных фильмов по годам')\n",
    "plt.xlabel('Год')\n",
    "plt.ylabel('Коэффициент окупаемости (ROI)')\n",
    "plt.xticks(rotation=45)\n",
    "plt.show()"
   ]
  },
  {
   "cell_type": "markdown",
   "metadata": {},
   "source": [
    "Средний ROI ниже 1. Это означает, что в среднем фильмы с господдержкой не окупаются. Медианный ROI указывает, что большинство фильмов имеют очень низкую окупаемость. Только 25.6% фильмов окупились, большинство фильмов - убыточные. Выбросы на графике указывают, что были редкие успешные проекты. Особенно много их было в 2015, 2016 и 2018 годах."
   ]
  },
  {
   "cell_type": "markdown",
   "metadata": {},
   "source": [
    "## Рейтинг фильмов с господдержкой"
   ]
  },
  {
   "cell_type": "code",
   "execution_count": 53,
   "metadata": {},
   "outputs": [
    {
     "name": "stdout",
     "output_type": "stream",
     "text": [
      "Средний рейтинг поддержанных фильмов: 6.02\n",
      "Медианный рейтинг поддержанных фильмов: 6.20\n"
     ]
    },
    {
     "data": {
      "image/png": "[encoded data removed]",
      "text/plain": [
       "<Figure size 720x360 with 1 Axes>"
      ]
     },
     "metadata": {},
     "output_type": "display_data"
    }
   ],
   "source": [
    "# Удалим фильмы с оценкой 0.0, чтобы они не исказили анализ\n",
    "supported_movies = supported_movies[supported_movies['ratings'] > 0]\n",
    "\n",
    "# Средний и медианный рейтинг поддержанных фильмов\n",
    "mean_rating_supported = supported_movies['ratings'].mean()\n",
    "median_rating_supported = supported_movies['ratings'].median()\n",
    "\n",
    "print(f'Средний рейтинг поддержанных фильмов: {mean_rating_supported:.2f}')\n",
    "print(f'Медианный рейтинг поддержанных фильмов: {median_rating_supported:.2f}')\n",
    "\n",
    "# Построим гистограмму распределения рейтингов\n",
    "plt.figure(figsize=(10, 5))\n",
    "sns.histplot(supported_movies['ratings'], bins=20, color='blue', label='Поддержанные фильмы')\n",
    "plt.axvline(mean_rating_supported, color='red', linestyle='dashed', label='Средний рейтинг')\n",
    "plt.axvline(median_rating_supported, color='black', linestyle='dashed', label='Медианный рейтинг')\n",
    "plt.legend()\n",
    "plt.title('Распределение рейтингов поддержанных фильмов')\n",
    "plt.xlabel('Рейтинг')\n",
    "plt.ylabel('Количество фильмов')\n",
    "plt.show()\n"
   ]
  },
  {
   "cell_type": "markdown",
   "metadata": {},
   "source": [
    "Большинство фильмов получили оценки ниже 6.1, зрители оценивают эти фильмы как не очень качественные. "
   ]
  },
  {
   "cell_type": "markdown",
   "metadata": {},
   "source": [
    "## Распределение по жанрам фильмов с господдержкой"
   ]
  },
  {
   "cell_type": "code",
   "execution_count": 54,
   "metadata": {},
   "outputs": [
    {
     "data": {
      "image/png": "[encoded data removed]",
      "text/plain": [
       "<Figure size 864x432 with 1 Axes>"
      ]
     },
     "metadata": {},
     "output_type": "display_data"
    }
   ],
   "source": [
    "# Подсчитываем количество уникальных значений в столбце main_genre\n",
    "genre_counts = supported_movies['main_genre'].value_counts()\n",
    "\n",
    "# Преобразуем в DataFrame для удобства\n",
    "genre_df = genre_counts.reset_index()\n",
    "genre_df.columns = ['genre', 'count']\n",
    "\n",
    "# Построим гистограмму\n",
    "plt.figure(figsize=(12, 6))\n",
    "plt.bar(genre_df['genre'], genre_df['count'], color='purple', edgecolor='black')\n",
    "plt.title('Распределение основных жанров фильмов с господдержкой')\n",
    "plt.xlabel('Жанры')\n",
    "plt.ylabel('Количество фильмов')\n",
    "plt.xticks(rotation=90)\n",
    "plt.grid(True)\n",
    "plt.show()"
   ]
  },
  {
   "cell_type": "markdown",
   "metadata": {},
   "source": [
    "Самое большое количество фильмов получивших государственную поддержку имеют основные жанры \"Драма\" и \"Комедия\""
   ]
  },
  {
   "cell_type": "code",
   "execution_count": 55,
   "metadata": {},
   "outputs": [
    {
     "data": {
      "image/png": "[encoded data removed]",
      "text/plain": [
       "<Figure size 864x432 with 1 Axes>"
      ]
     },
     "metadata": {},
     "output_type": "display_data"
    }
   ],
   "source": [
    "# Создаем столбец, который показывает, окупился ли фильм (roi > 1)\n",
    "supported_movies['is_profitable'] = supported_movies['ROI'] > 1\n",
    "\n",
    "# Группируем данные по жанрам и подсчитываем количество окупившихся и не окупившихся фильмов\n",
    "profitability_by_genre = supported_movies.groupby(['main_genre', 'is_profitable']).size().unstack(fill_value=0)\n",
    "\n",
    "# Построим гистограмму\n",
    "profitability_by_genre.plot(kind='bar', stacked=True, figsize=(12, 6), color=['red', 'green'], edgecolor='black')\n",
    "\n",
    "# Настроим график\n",
    "plt.title('Распределение окупившихся и не окупившихся фильмов по жанрам')\n",
    "plt.xlabel('Жанр')\n",
    "plt.ylabel('Количество фильмов')\n",
    "plt.xticks(rotation=90)\n",
    "plt.legend(['Не окупились', 'Окупились'])\n",
    "plt.grid(True)\n",
    "\n",
    "# Отображаем график\n",
    "plt.show()"
   ]
  },
  {
   "cell_type": "markdown",
   "metadata": {},
   "source": [
    "По графику видно, что наиболее окупаемые фильмы - это комедии и семейные. Данные жанры имеют более широкую целевую аудиторию."
   ]
  },
  {
   "cell_type": "markdown",
   "metadata": {},
   "source": [
    "Исследовав фильмы, которые получили господдержку, мы узнали:\n",
    "1. Общая сумма государственной поддержки с 2010 года по 2019 год составила более 20 млрд рублей.\n",
    "2. Среди всех фильмов выпущенных Россией, только 17.4% получили господдержку.\n",
    "3. Больше всего средств было выделено в 2019 году, а активное финансирование началось с 2015 года.\n",
    "4. В среднем, фильмы с господдержкой не окупаются. Только 25.6% принесли какую-то прибыль или вышли в 0, большинство фильмов - убыточные. Были редкие успешные проекты, большая часть пришлась на 2015, 2016 и 2018 года.\n",
    "5. Большинство фильмов получили оценки ниже 6.1, зрители оценивают эти фильмы как не очень качественные.\n",
    "6. Самое большое количество фильмов получивших государственную поддержку имеют основные жанры \"Драма\" и \"Комедия\"\n",
    "7. Наиболее окупаемые фильмы - это комедии и семейные. Данные жанры имеют более широкую целевую аудиторию."
   ]
  },
  {
   "cell_type": "markdown",
   "metadata": {},
   "source": [
    "# Общий вывод по исследованию российского кинопроката и господдержки фильмов (2010–2019)"
   ]
  },
  {
   "cell_type": "markdown",
   "metadata": {},
   "source": [
    "1. Развитие индустрии кинопроката в России\n",
    "\n",
    "За период с 2010 по 2019 год российская киноиндустрия демонстрировала значительный рост. Количество фильмов, выходящих в прокат, увеличивалось, а кассовые сборы показывали стабильную положительную динамику, особенно после 2014 года. В 2018 году был зафиксирован рекорд по кассовым сборам (более 49 млрд рублей). Такой рост может быть обусловлен:\n",
    "\n",
    " • Улучшением условий показа фильмов (новые технологии IMAX, 3D и расширение кинотеатральных сетей)\n",
    " • Ростом популярности отечественного кино среди зрителей\n",
    "\n",
    "Однако в 2018 году было замечено снижение доли фильмов, вышедших в прокат, что может быть связано с ростом популярности онлайн-кинотеатров и изменением потребительских привычек зрителей.\n",
    "\n",
    "2. Влияние возрастного рейтинга на коммерческую успешность\n",
    "\n",
    "Наиболее прибыльными оказались фильмы с рейтингами 12+ и 16+ – именно они собрали наибольшую кассу. Это объясняется их ориентированностью на молодежную аудиторию, которая составляет значительную часть кинозрителей. Также успешными были семейные фильмы (6+), благодаря широкой аудитории (родители с детьми).\n",
    "Фильмы с рейтингом 18+ оказались менее прибыльными, что связано с ограниченной целевой аудиторией.\n",
    "\n",
    "3. Несоразмерность в кассовых сборах\n",
    "\n",
    "Было выявлено, что среднее значение кассовых сборов значительно выше медианного, что говорит о большом разрыве между блокбастерами и менее популярными фильмами. Это подтверждает тренд на неравномерное распределение коммерческого успеха: небольшое количество успешных фильмов собирает основные кассовые сборы, в то время как большинство проектов остаются малозаметными.\n",
    "\n",
    "4. Государственная поддержка кино\n",
    "\n",
    "Исследование фильмов с господдержкой показало, что:\n",
    "\n",
    " • Общий объем финансирования с 2010 по 2019 год составил более 20 млрд рублей.\n",
    " • Только 17.4% российских фильмов получили финансовую поддержку от государства.\n",
    " • С 2015 года началось активное финансирование кинопроизводства, а пик поддержки пришелся на 2019 год.\n",
    " • Большинство фильмов с господдержкой не окупаются:\n",
    " • Только 25.6% смогли принести прибыль или выйти в ноль,\n",
    " • Остальные оказались убыточными.\n",
    " • Однако были отдельные успешные проекты, большинство из которых вышли в 2015, 2016 и 2018 годах.\n",
    "\n",
    "5. Качество поддержанных государством фильмов\n",
    "\n",
    "Зрительские оценки фильмов с господдержкой оказались невысокими:\n",
    "\n",
    " • Средний рейтинг – 5.73,\n",
    " • Медианный рейтинг – 6.10.\n",
    "Большая часть фильмов получила оценки ниже 6.0, что говорит о недостаточном уровне качества или низкой популярности у зрителей. Это может быть связано с тем, что часть поддержанных фильмов создавалась не с коммерческими целями, а для выполнения социального или культурного заказа.\n",
    "\n",
    "6. Жанровые предпочтения и окупаемость\n",
    "\n",
    " • Чаще всего господдержку получали драмы и комедии.\n",
    " • Самые окупаемые жанры – комедии и семейные фильмы. Это логично, так как они имеют более широкую аудиторию и привлекают зрителей разного возраста.\n",
    " • Драмы, несмотря на большое количество финансируемых проектов, часто оказываются менее коммерчески успешными.\n",
    "\n",
    "Заключение\n",
    "\n",
    "Российская киноиндустрия за 2010–2019 годы продемонстрировала рост кассовых сборов и увеличивающееся число фильмов в прокате, особенно после 2014 года. Однако рынок остается неравномерным: небольшое число успешных фильмов собирает основные доходы, в то время как большинство проектов остается в тени.\n",
    "\n",
    "Фильмы с государственным финансированием составляют небольшую долю от общего числа российских фильмов, но значительная часть из них оказывается убыточной. При этом самые окупаемые проекты – это комедии и семейные фильмы, что подтверждает высокую коммерческую привлекательность этих жанров.\n",
    "\n",
    "В дальнейшем стоит оптимизировать распределение государственной поддержки, делая акцент на качественные сценарии, режиссуру и продуманную маркетинговую стратегию, а также учитывать коммерческий потенциал жанра."
   ]
  },
  {
   "cell_type": "code",
   "execution_count": null,
   "metadata": {},
   "outputs": [],
   "source": []
  }
 ],
 "metadata": {
  "ExecuteTimeLog": [
   {
    "duration": 537,
    "start_time": "2021-07-07T10:12:08.634Z"
   },
   {
    "duration": 206,
    "start_time": "2021-07-07T10:12:30.191Z"
   },
   {
    "duration": 227,
    "start_time": "2021-07-07T10:12:33.078Z"
   },
   {
    "duration": 153,
    "start_time": "2021-07-07T10:13:42.146Z"
   },
   {
    "duration": 233,
    "start_time": "2021-07-07T10:30:09.252Z"
   },
   {
    "duration": 19,
    "start_time": "2021-07-07T10:30:15.577Z"
   },
   {
    "duration": 18,
    "start_time": "2021-07-07T10:30:57.348Z"
   },
   {
    "duration": 19,
    "start_time": "2021-07-07T10:31:17.452Z"
   },
   {
    "duration": 21,
    "start_time": "2021-07-07T10:31:32.227Z"
   },
   {
    "duration": 27,
    "start_time": "2021-07-07T10:32:06.588Z"
   },
   {
    "duration": 23,
    "start_time": "2021-07-07T10:32:43.645Z"
   },
   {
    "duration": 24,
    "start_time": "2021-07-07T10:33:06.948Z"
   },
   {
    "duration": 7,
    "start_time": "2021-07-07T10:33:28.558Z"
   },
   {
    "duration": 23,
    "start_time": "2021-07-07T10:33:43.761Z"
   },
   {
    "duration": 28,
    "start_time": "2021-07-07T10:34:13.466Z"
   },
   {
    "duration": 23,
    "start_time": "2021-07-07T10:35:56.187Z"
   },
   {
    "duration": 6,
    "start_time": "2021-07-07T10:36:48.182Z"
   },
   {
    "duration": 14,
    "start_time": "2021-07-07T10:37:49.641Z"
   },
   {
    "duration": 6,
    "start_time": "2021-07-07T10:38:06.694Z"
   },
   {
    "duration": 6,
    "start_time": "2021-07-07T10:38:13.493Z"
   },
   {
    "duration": 19,
    "start_time": "2021-07-07T10:38:44.056Z"
   },
   {
    "duration": 186,
    "start_time": "2021-07-07T10:48:35.618Z"
   },
   {
    "duration": 24,
    "start_time": "2021-07-07T10:48:51.498Z"
   },
   {
    "duration": 20,
    "start_time": "2021-07-07T10:48:59.415Z"
   },
   {
    "duration": 20,
    "start_time": "2021-07-07T10:53:02.195Z"
   },
   {
    "duration": 188,
    "start_time": "2021-07-07T10:54:40.486Z"
   },
   {
    "duration": 115,
    "start_time": "2021-07-07T10:54:52.552Z"
   },
   {
    "duration": 214,
    "start_time": "2021-07-07T10:54:56.354Z"
   },
   {
    "duration": 47,
    "start_time": "2021-07-07T10:54:58.282Z"
   },
   {
    "duration": 217,
    "start_time": "2021-07-07T10:59:16.075Z"
   },
   {
    "duration": 51,
    "start_time": "2021-07-07T10:59:16.243Z"
   },
   {
    "duration": 578,
    "start_time": "2021-07-07T10:59:18.774Z"
   },
   {
    "duration": 161,
    "start_time": "2021-07-07T10:59:21.238Z"
   },
   {
    "duration": 59,
    "start_time": "2021-07-07T10:59:21.453Z"
   },
   {
    "duration": 3,
    "start_time": "2021-07-07T11:02:10.786Z"
   },
   {
    "duration": 13,
    "start_time": "2021-07-07T11:07:07.722Z"
   },
   {
    "duration": 26,
    "start_time": "2021-07-07T11:07:17.958Z"
   },
   {
    "duration": 22,
    "start_time": "2021-07-07T11:08:17.939Z"
   },
   {
    "duration": 212,
    "start_time": "2021-07-07T11:08:19.665Z"
   },
   {
    "duration": 21,
    "start_time": "2021-07-07T11:08:29.945Z"
   },
   {
    "duration": 31,
    "start_time": "2021-07-07T11:08:38.899Z"
   },
   {
    "duration": 23,
    "start_time": "2021-07-07T11:08:54.527Z"
   },
   {
    "duration": 8,
    "start_time": "2021-07-07T11:18:55.974Z"
   },
   {
    "duration": 7,
    "start_time": "2021-07-07T11:19:03.639Z"
   },
   {
    "duration": 7,
    "start_time": "2021-07-07T11:19:06.444Z"
   },
   {
    "duration": 578,
    "start_time": "2021-07-07T12:09:59.576Z"
   },
   {
    "duration": 195,
    "start_time": "2021-07-07T12:10:00.156Z"
   },
   {
    "duration": 115,
    "start_time": "2021-07-07T12:10:00.353Z"
   },
   {
    "duration": 3,
    "start_time": "2021-07-07T12:10:00.470Z"
   },
   {
    "duration": 32,
    "start_time": "2021-07-07T12:10:00.474Z"
   },
   {
    "duration": 23,
    "start_time": "2021-07-07T12:10:00.508Z"
   },
   {
    "duration": 19,
    "start_time": "2021-07-07T12:10:00.533Z"
   },
   {
    "duration": 44,
    "start_time": "2021-07-07T12:10:00.553Z"
   },
   {
    "duration": 7,
    "start_time": "2021-07-07T12:10:00.600Z"
   },
   {
    "duration": 7,
    "start_time": "2021-07-07T12:19:45.761Z"
   },
   {
    "duration": 21,
    "start_time": "2021-07-07T12:21:35.482Z"
   },
   {
    "duration": 21,
    "start_time": "2021-07-07T12:29:23.569Z"
   },
   {
    "duration": 525,
    "start_time": "2021-07-07T12:29:44.542Z"
   },
   {
    "duration": 214,
    "start_time": "2021-07-07T12:29:45.069Z"
   },
   {
    "duration": 92,
    "start_time": "2021-07-07T12:29:45.285Z"
   },
   {
    "duration": 3,
    "start_time": "2021-07-07T12:29:45.379Z"
   },
   {
    "duration": 28,
    "start_time": "2021-07-07T12:29:45.384Z"
   },
   {
    "duration": 23,
    "start_time": "2021-07-07T12:29:45.413Z"
   },
   {
    "duration": 21,
    "start_time": "2021-07-07T12:29:45.437Z"
   },
   {
    "duration": 41,
    "start_time": "2021-07-07T12:29:45.460Z"
   },
   {
    "duration": 7,
    "start_time": "2021-07-07T12:29:45.502Z"
   },
   {
    "duration": 20,
    "start_time": "2021-07-07T12:29:45.511Z"
   },
   {
    "duration": 12,
    "start_time": "2021-07-07T12:34:02.800Z"
   },
   {
    "duration": 7,
    "start_time": "2021-07-07T12:35:10.479Z"
   },
   {
    "duration": 8,
    "start_time": "2021-07-07T12:35:22.440Z"
   },
   {
    "duration": 6,
    "start_time": "2021-07-07T12:35:35.649Z"
   },
   {
    "duration": 6,
    "start_time": "2021-07-07T12:35:43.107Z"
   },
   {
    "duration": 22,
    "start_time": "2021-07-07T12:38:03.029Z"
   },
   {
    "duration": 10,
    "start_time": "2021-07-07T12:38:06.592Z"
   },
   {
    "duration": 563,
    "start_time": "2021-07-07T12:38:46.493Z"
   },
   {
    "duration": 265,
    "start_time": "2021-07-07T12:38:47.058Z"
   },
   {
    "duration": 94,
    "start_time": "2021-07-07T12:38:47.325Z"
   },
   {
    "duration": 3,
    "start_time": "2021-07-07T12:38:47.422Z"
   },
   {
    "duration": 30,
    "start_time": "2021-07-07T12:38:47.427Z"
   },
   {
    "duration": 16,
    "start_time": "2021-07-07T12:38:53.305Z"
   },
   {
    "duration": 10,
    "start_time": "2021-07-07T12:38:53.499Z"
   },
   {
    "duration": 8,
    "start_time": "2021-07-07T12:39:48.161Z"
   },
   {
    "duration": 27,
    "start_time": "2021-07-07T12:41:17.629Z"
   },
   {
    "duration": 17,
    "start_time": "2021-07-07T12:41:17.867Z"
   },
   {
    "duration": 21,
    "start_time": "2021-07-07T12:41:19.310Z"
   },
   {
    "duration": 7,
    "start_time": "2021-07-07T12:41:19.544Z"
   },
   {
    "duration": 20,
    "start_time": "2021-07-07T12:41:20.504Z"
   },
   {
    "duration": 554,
    "start_time": "2021-07-07T12:56:23.696Z"
   },
   {
    "duration": 200,
    "start_time": "2021-07-07T12:56:25.234Z"
   },
   {
    "duration": 119,
    "start_time": "2021-07-07T12:56:25.480Z"
   },
   {
    "duration": 4,
    "start_time": "2021-07-07T12:56:25.762Z"
   },
   {
    "duration": 26,
    "start_time": "2021-07-07T12:56:27.172Z"
   },
   {
    "duration": 12,
    "start_time": "2021-07-07T12:56:29.051Z"
   },
   {
    "duration": 10,
    "start_time": "2021-07-07T12:56:29.291Z"
   },
   {
    "duration": 8,
    "start_time": "2021-07-07T12:56:29.623Z"
   },
   {
    "duration": 28,
    "start_time": "2021-07-07T12:56:32.137Z"
   },
   {
    "duration": 19,
    "start_time": "2021-07-07T12:56:39.785Z"
   },
   {
    "duration": 20,
    "start_time": "2021-07-07T12:56:44.297Z"
   },
   {
    "duration": 7,
    "start_time": "2021-07-07T12:56:45.392Z"
   },
   {
    "duration": 23,
    "start_time": "2021-07-07T12:56:46.615Z"
   },
   {
    "duration": 4,
    "start_time": "2021-07-07T12:57:06.625Z"
   },
   {
    "duration": 32,
    "start_time": "2021-07-07T12:57:36.690Z"
   },
   {
    "duration": 18,
    "start_time": "2021-07-07T12:58:00.149Z"
   },
   {
    "duration": 15,
    "start_time": "2021-07-07T12:59:16.793Z"
   },
   {
    "duration": 7,
    "start_time": "2021-07-07T13:19:22.624Z"
   },
   {
    "duration": 6,
    "start_time": "2021-07-07T14:17:33.527Z"
   },
   {
    "duration": 9,
    "start_time": "2021-07-07T14:17:48.409Z"
   },
   {
    "duration": 8,
    "start_time": "2021-07-07T14:20:13.060Z"
   },
   {
    "duration": 8,
    "start_time": "2021-07-07T14:20:37.957Z"
   },
   {
    "duration": 8,
    "start_time": "2021-07-07T14:20:47.470Z"
   },
   {
    "duration": 9,
    "start_time": "2021-07-07T14:20:54.503Z"
   },
   {
    "duration": 10,
    "start_time": "2021-07-07T14:28:57.763Z"
   },
   {
    "duration": 3,
    "start_time": "2021-07-07T14:30:23.377Z"
   },
   {
    "duration": 3,
    "start_time": "2021-07-07T14:30:36.489Z"
   },
   {
    "duration": 103,
    "start_time": "2021-07-07T14:30:52.351Z"
   },
   {
    "duration": 8,
    "start_time": "2021-07-07T14:30:54.763Z"
   },
   {
    "duration": 8,
    "start_time": "2021-07-07T14:31:29.301Z"
   },
   {
    "duration": 13,
    "start_time": "2021-07-07T14:31:44.516Z"
   },
   {
    "duration": 7,
    "start_time": "2021-07-07T14:33:10.972Z"
   },
   {
    "duration": 11,
    "start_time": "2021-07-07T14:33:27.780Z"
   },
   {
    "duration": 8,
    "start_time": "2021-07-07T14:34:44.588Z"
   },
   {
    "duration": 57,
    "start_time": "2021-07-07T14:35:59.042Z"
   },
   {
    "duration": 3,
    "start_time": "2021-07-07T14:36:28.168Z"
   },
   {
    "duration": 5,
    "start_time": "2021-07-07T14:36:46.254Z"
   },
   {
    "duration": 4,
    "start_time": "2021-07-07T14:36:52.714Z"
   },
   {
    "duration": 3,
    "start_time": "2021-07-07T14:36:56.612Z"
   },
   {
    "duration": 4,
    "start_time": "2021-07-07T14:36:57.049Z"
   },
   {
    "duration": 3,
    "start_time": "2021-07-07T14:39:21.214Z"
   },
   {
    "duration": 7,
    "start_time": "2021-07-07T14:39:52.406Z"
   },
   {
    "duration": 11,
    "start_time": "2021-07-07T14:39:58.576Z"
   },
   {
    "duration": 9,
    "start_time": "2021-07-07T14:40:26.301Z"
   },
   {
    "duration": 10,
    "start_time": "2021-07-07T14:40:31.704Z"
   },
   {
    "duration": 11,
    "start_time": "2021-07-07T14:40:36.249Z"
   },
   {
    "duration": 10,
    "start_time": "2021-07-07T14:40:39.783Z"
   },
   {
    "duration": 9,
    "start_time": "2021-07-07T14:40:48.558Z"
   },
   {
    "duration": 10,
    "start_time": "2021-07-07T14:40:57.143Z"
   },
   {
    "duration": 9,
    "start_time": "2021-07-07T14:41:06.074Z"
   },
   {
    "duration": 4324,
    "start_time": "2021-07-07T14:41:22.004Z"
   },
   {
    "duration": 11,
    "start_time": "2021-07-07T14:41:33.392Z"
   },
   {
    "duration": 9,
    "start_time": "2021-07-07T14:41:39.288Z"
   },
   {
    "duration": 569,
    "start_time": "2021-07-07T14:42:14.387Z"
   },
   {
    "duration": 197,
    "start_time": "2021-07-07T14:42:14.959Z"
   },
   {
    "duration": 84,
    "start_time": "2021-07-07T14:42:16.052Z"
   },
   {
    "duration": 4,
    "start_time": "2021-07-07T14:42:16.900Z"
   },
   {
    "duration": 27,
    "start_time": "2021-07-07T14:42:19.898Z"
   },
   {
    "duration": 12,
    "start_time": "2021-07-07T14:42:21.577Z"
   },
   {
    "duration": 9,
    "start_time": "2021-07-07T14:42:21.813Z"
   },
   {
    "duration": 9,
    "start_time": "2021-07-07T14:42:22.569Z"
   },
   {
    "duration": 29,
    "start_time": "2021-07-07T14:42:25.837Z"
   },
   {
    "duration": 20,
    "start_time": "2021-07-07T14:42:27.003Z"
   },
   {
    "duration": 21,
    "start_time": "2021-07-07T14:42:28.767Z"
   },
   {
    "duration": 7,
    "start_time": "2021-07-07T14:42:29.838Z"
   },
   {
    "duration": 4,
    "start_time": "2021-07-07T14:43:25.493Z"
   },
   {
    "duration": 7,
    "start_time": "2021-07-07T14:43:26.573Z"
   },
   {
    "duration": 10,
    "start_time": "2021-07-07T14:43:31.639Z"
   },
   {
    "duration": 9,
    "start_time": "2021-07-07T14:43:32.046Z"
   },
   {
    "duration": 10,
    "start_time": "2021-07-07T14:43:33.301Z"
   },
   {
    "duration": 12,
    "start_time": "2021-07-07T14:43:33.658Z"
   },
   {
    "duration": 8,
    "start_time": "2021-07-07T14:43:34.552Z"
   },
   {
    "duration": 9,
    "start_time": "2021-07-07T14:43:35.058Z"
   },
   {
    "duration": 12,
    "start_time": "2021-07-07T14:43:35.914Z"
   },
   {
    "duration": 17,
    "start_time": "2021-07-07T14:45:34.368Z"
   },
   {
    "duration": 512,
    "start_time": "2021-07-07T14:51:58.236Z"
   },
   {
    "duration": 223,
    "start_time": "2021-07-07T14:51:58.750Z"
   },
   {
    "duration": 93,
    "start_time": "2021-07-07T14:51:58.977Z"
   },
   {
    "duration": 4,
    "start_time": "2021-07-07T14:51:59.071Z"
   },
   {
    "duration": 37,
    "start_time": "2021-07-07T14:51:59.077Z"
   },
   {
    "duration": 18,
    "start_time": "2021-07-07T14:51:59.116Z"
   },
   {
    "duration": 10,
    "start_time": "2021-07-07T14:51:59.137Z"
   },
   {
    "duration": 8,
    "start_time": "2021-07-07T14:51:59.149Z"
   },
   {
    "duration": 54,
    "start_time": "2021-07-07T14:51:59.158Z"
   },
   {
    "duration": 18,
    "start_time": "2021-07-07T14:51:59.213Z"
   },
   {
    "duration": 22,
    "start_time": "2021-07-07T14:51:59.232Z"
   },
   {
    "duration": 36,
    "start_time": "2021-07-07T14:51:59.255Z"
   },
   {
    "duration": 7,
    "start_time": "2021-07-07T14:51:59.293Z"
   },
   {
    "duration": 10,
    "start_time": "2021-07-07T14:51:59.302Z"
   },
   {
    "duration": 9,
    "start_time": "2021-07-07T14:51:59.313Z"
   },
   {
    "duration": 11,
    "start_time": "2021-07-07T14:51:59.324Z"
   },
   {
    "duration": 8,
    "start_time": "2021-07-07T14:51:59.337Z"
   },
   {
    "duration": 46,
    "start_time": "2021-07-07T14:51:59.347Z"
   },
   {
    "duration": 22,
    "start_time": "2021-07-07T14:51:59.395Z"
   },
   {
    "duration": 24,
    "start_time": "2021-07-07T14:57:32.911Z"
   },
   {
    "duration": 7,
    "start_time": "2021-07-07T14:58:22.070Z"
   },
   {
    "duration": 4,
    "start_time": "2021-07-07T14:59:11.239Z"
   },
   {
    "duration": 25,
    "start_time": "2021-07-07T15:07:22.208Z"
   },
   {
    "duration": 16,
    "start_time": "2021-07-07T15:08:25.560Z"
   },
   {
    "duration": 15,
    "start_time": "2021-07-07T15:08:40.647Z"
   },
   {
    "duration": 14,
    "start_time": "2021-07-07T15:08:46.669Z"
   },
   {
    "duration": 533,
    "start_time": "2021-07-07T15:18:07.440Z"
   },
   {
    "duration": 173,
    "start_time": "2021-07-07T15:18:07.974Z"
   },
   {
    "duration": 84,
    "start_time": "2021-07-07T15:18:08.149Z"
   },
   {
    "duration": 3,
    "start_time": "2021-07-07T15:18:08.235Z"
   },
   {
    "duration": 30,
    "start_time": "2021-07-07T15:18:08.240Z"
   },
   {
    "duration": 22,
    "start_time": "2021-07-07T15:18:08.272Z"
   },
   {
    "duration": 11,
    "start_time": "2021-07-07T15:18:08.295Z"
   },
   {
    "duration": 11,
    "start_time": "2021-07-07T15:18:08.309Z"
   },
   {
    "duration": 40,
    "start_time": "2021-07-07T15:18:08.322Z"
   },
   {
    "duration": 42,
    "start_time": "2021-07-07T15:18:08.364Z"
   },
   {
    "duration": 22,
    "start_time": "2021-07-07T15:18:08.408Z"
   },
   {
    "duration": 5,
    "start_time": "2021-07-07T15:18:08.432Z"
   },
   {
    "duration": 13,
    "start_time": "2021-07-07T15:18:08.439Z"
   },
   {
    "duration": 9,
    "start_time": "2021-07-07T15:18:08.454Z"
   },
   {
    "duration": 32,
    "start_time": "2021-07-07T15:18:08.465Z"
   },
   {
    "duration": 10,
    "start_time": "2021-07-07T15:18:08.501Z"
   },
   {
    "duration": 7,
    "start_time": "2021-07-07T15:18:08.513Z"
   },
   {
    "duration": 11,
    "start_time": "2021-07-07T15:18:08.521Z"
   },
   {
    "duration": 17,
    "start_time": "2021-07-07T15:18:08.534Z"
   },
   {
    "duration": 44,
    "start_time": "2021-07-07T15:18:08.553Z"
   },
   {
    "duration": 22,
    "start_time": "2021-07-07T15:18:08.599Z"
   },
   {
    "duration": 61,
    "start_time": "2021-07-07T15:18:08.622Z"
   },
   {
    "duration": 7,
    "start_time": "2021-07-07T15:18:39.457Z"
   },
   {
    "duration": 5,
    "start_time": "2021-07-07T16:05:17.020Z"
   },
   {
    "duration": 5,
    "start_time": "2021-07-07T16:51:28.794Z"
   },
   {
    "duration": 546,
    "start_time": "2021-07-07T16:52:26.306Z"
   },
   {
    "duration": 203,
    "start_time": "2021-07-07T16:52:27.523Z"
   },
   {
    "duration": 85,
    "start_time": "2021-07-07T16:52:27.736Z"
   },
   {
    "duration": 4,
    "start_time": "2021-07-07T16:52:27.899Z"
   },
   {
    "duration": 25,
    "start_time": "2021-07-07T16:52:28.674Z"
   },
   {
    "duration": 8,
    "start_time": "2021-07-07T16:52:32.956Z"
   },
   {
    "duration": 18,
    "start_time": "2021-07-07T16:52:35.616Z"
   },
   {
    "duration": 6,
    "start_time": "2021-07-07T16:52:36.913Z"
   },
   {
    "duration": 11,
    "start_time": "2021-07-07T16:52:40.258Z"
   },
   {
    "duration": 10,
    "start_time": "2021-07-07T16:52:46.251Z"
   },
   {
    "duration": 8,
    "start_time": "2021-07-07T16:52:47.182Z"
   },
   {
    "duration": 27,
    "start_time": "2021-07-07T16:53:20.391Z"
   },
   {
    "duration": 20,
    "start_time": "2021-07-07T16:53:22.022Z"
   },
   {
    "duration": 23,
    "start_time": "2021-07-07T16:53:23.690Z"
   },
   {
    "duration": 8,
    "start_time": "2021-07-07T16:53:24.261Z"
   },
   {
    "duration": 4,
    "start_time": "2021-07-07T16:53:38.733Z"
   },
   {
    "duration": 7,
    "start_time": "2021-07-07T16:53:40.445Z"
   },
   {
    "duration": 11,
    "start_time": "2021-07-07T16:53:41.348Z"
   },
   {
    "duration": 13,
    "start_time": "2021-07-07T16:53:45.250Z"
   },
   {
    "duration": 12,
    "start_time": "2021-07-07T16:53:45.467Z"
   },
   {
    "duration": 4,
    "start_time": "2021-07-07T16:55:32.704Z"
   },
   {
    "duration": 12,
    "start_time": "2021-07-07T16:55:49.012Z"
   },
   {
    "duration": 18,
    "start_time": "2021-07-07T16:55:49.547Z"
   },
   {
    "duration": 611,
    "start_time": "2021-07-07T16:58:35.156Z"
   },
   {
    "duration": 200,
    "start_time": "2021-07-07T16:58:35.770Z"
   },
   {
    "duration": 86,
    "start_time": "2021-07-07T16:58:35.972Z"
   },
   {
    "duration": 3,
    "start_time": "2021-07-07T16:58:36.060Z"
   },
   {
    "duration": 27,
    "start_time": "2021-07-07T16:58:36.065Z"
   },
   {
    "duration": 8,
    "start_time": "2021-07-07T16:58:36.094Z"
   },
   {
    "duration": 17,
    "start_time": "2021-07-07T16:58:36.103Z"
   },
   {
    "duration": 5,
    "start_time": "2021-07-07T16:58:36.123Z"
   },
   {
    "duration": 11,
    "start_time": "2021-07-07T16:58:36.130Z"
   },
   {
    "duration": 7,
    "start_time": "2021-07-07T16:58:36.143Z"
   },
   {
    "duration": 37,
    "start_time": "2021-07-07T16:58:36.152Z"
   },
   {
    "duration": 27,
    "start_time": "2021-07-07T16:58:36.191Z"
   },
   {
    "duration": 19,
    "start_time": "2021-07-07T16:58:36.219Z"
   },
   {
    "duration": 49,
    "start_time": "2021-07-07T16:58:36.240Z"
   },
   {
    "duration": 6,
    "start_time": "2021-07-07T16:58:36.291Z"
   },
   {
    "duration": 3,
    "start_time": "2021-07-07T16:58:36.299Z"
   },
   {
    "duration": 13,
    "start_time": "2021-07-07T16:58:36.304Z"
   },
   {
    "duration": 10,
    "start_time": "2021-07-07T16:58:36.319Z"
   },
   {
    "duration": 10,
    "start_time": "2021-07-07T16:58:36.331Z"
   },
   {
    "duration": 44,
    "start_time": "2021-07-07T16:58:36.343Z"
   },
   {
    "duration": 4,
    "start_time": "2021-07-07T16:58:36.388Z"
   },
   {
    "duration": 13,
    "start_time": "2021-07-07T16:58:36.394Z"
   },
   {
    "duration": 16,
    "start_time": "2021-07-07T16:58:36.410Z"
   },
   {
    "duration": 8,
    "start_time": "2021-07-07T17:02:31.629Z"
   },
   {
    "duration": 8,
    "start_time": "2021-07-07T17:02:34.308Z"
   },
   {
    "duration": 6,
    "start_time": "2021-07-07T17:05:13.483Z"
   },
   {
    "duration": 17,
    "start_time": "2021-07-07T17:05:20.606Z"
   },
   {
    "duration": 7,
    "start_time": "2021-07-07T17:05:34.638Z"
   },
   {
    "duration": 3,
    "start_time": "2021-07-07T17:06:31.883Z"
   },
   {
    "duration": 570,
    "start_time": "2021-07-07T17:06:37.165Z"
   },
   {
    "duration": 174,
    "start_time": "2021-07-07T17:06:37.737Z"
   },
   {
    "duration": 47,
    "start_time": "2021-07-07T17:06:37.913Z"
   },
   {
    "duration": 3,
    "start_time": "2021-07-07T17:06:37.962Z"
   },
   {
    "duration": 27,
    "start_time": "2021-07-07T17:06:37.967Z"
   },
   {
    "duration": 7,
    "start_time": "2021-07-07T17:06:37.996Z"
   },
   {
    "duration": 16,
    "start_time": "2021-07-07T17:06:38.005Z"
   },
   {
    "duration": 6,
    "start_time": "2021-07-07T17:06:38.024Z"
   },
   {
    "duration": 12,
    "start_time": "2021-07-07T17:06:38.031Z"
   },
   {
    "duration": 41,
    "start_time": "2021-07-07T17:06:38.045Z"
   },
   {
    "duration": 8,
    "start_time": "2021-07-07T17:06:38.088Z"
   },
   {
    "duration": 26,
    "start_time": "2021-07-07T17:06:38.098Z"
   },
   {
    "duration": 17,
    "start_time": "2021-07-07T17:06:38.126Z"
   },
   {
    "duration": 43,
    "start_time": "2021-07-07T17:06:38.144Z"
   },
   {
    "duration": 6,
    "start_time": "2021-07-07T17:06:38.188Z"
   },
   {
    "duration": 5,
    "start_time": "2021-07-07T17:06:38.195Z"
   },
   {
    "duration": 9,
    "start_time": "2021-07-07T17:06:38.201Z"
   },
   {
    "duration": 12,
    "start_time": "2021-07-07T17:06:38.212Z"
   },
   {
    "duration": 11,
    "start_time": "2021-07-07T17:06:38.226Z"
   },
   {
    "duration": 47,
    "start_time": "2021-07-07T17:06:38.239Z"
   },
   {
    "duration": 4,
    "start_time": "2021-07-07T17:06:38.288Z"
   },
   {
    "duration": 13,
    "start_time": "2021-07-07T17:06:38.293Z"
   },
   {
    "duration": 5,
    "start_time": "2021-07-07T17:06:38.309Z"
   },
   {
    "duration": 18,
    "start_time": "2021-07-07T17:06:38.325Z"
   },
   {
    "duration": 20,
    "start_time": "2021-07-07T17:07:02.805Z"
   },
   {
    "duration": 19,
    "start_time": "2021-07-07T17:07:08.527Z"
   },
   {
    "duration": 19,
    "start_time": "2021-07-07T17:07:12.758Z"
   },
   {
    "duration": 22,
    "start_time": "2021-07-07T17:07:17.497Z"
   },
   {
    "duration": 19,
    "start_time": "2021-07-07T17:07:19.645Z"
   },
   {
    "duration": 10,
    "start_time": "2021-07-07T17:07:34.239Z"
   },
   {
    "duration": 17,
    "start_time": "2021-07-07T17:07:54.144Z"
   },
   {
    "duration": 14,
    "start_time": "2021-07-07T17:08:14.357Z"
   },
   {
    "duration": 616,
    "start_time": "2021-07-07T17:08:45.254Z"
   },
   {
    "duration": 178,
    "start_time": "2021-07-07T17:08:45.872Z"
   },
   {
    "duration": 60,
    "start_time": "2021-07-07T17:08:46.054Z"
   },
   {
    "duration": 3,
    "start_time": "2021-07-07T17:08:46.116Z"
   },
   {
    "duration": 26,
    "start_time": "2021-07-07T17:08:46.121Z"
   },
   {
    "duration": 7,
    "start_time": "2021-07-07T17:08:46.149Z"
   },
   {
    "duration": 17,
    "start_time": "2021-07-07T17:08:46.158Z"
   },
   {
    "duration": 14,
    "start_time": "2021-07-07T17:08:46.176Z"
   },
   {
    "duration": 17,
    "start_time": "2021-07-07T17:08:46.193Z"
   },
   {
    "duration": 9,
    "start_time": "2021-07-07T17:08:46.211Z"
   },
   {
    "duration": 21,
    "start_time": "2021-07-07T17:08:46.221Z"
   },
   {
    "duration": 49,
    "start_time": "2021-07-07T17:08:46.244Z"
   },
   {
    "duration": 24,
    "start_time": "2021-07-07T17:08:46.295Z"
   },
   {
    "duration": 22,
    "start_time": "2021-07-07T17:08:46.321Z"
   },
   {
    "duration": 6,
    "start_time": "2021-07-07T17:08:46.345Z"
   },
   {
    "duration": 5,
    "start_time": "2021-07-07T17:08:46.353Z"
   },
   {
    "duration": 13,
    "start_time": "2021-07-07T17:08:46.386Z"
   },
   {
    "duration": 12,
    "start_time": "2021-07-07T17:08:46.402Z"
   },
   {
    "duration": 10,
    "start_time": "2021-07-07T17:08:46.415Z"
   },
   {
    "duration": 7,
    "start_time": "2021-07-07T17:08:46.427Z"
   },
   {
    "duration": 8,
    "start_time": "2021-07-07T17:08:46.435Z"
   },
   {
    "duration": 68,
    "start_time": "2021-07-07T17:08:46.446Z"
   },
   {
    "duration": 13,
    "start_time": "2021-07-07T17:08:46.516Z"
   },
   {
    "duration": 78,
    "start_time": "2021-07-07T17:08:46.530Z"
   },
   {
    "duration": 40,
    "start_time": "2021-07-07T17:09:08.185Z"
   },
   {
    "duration": 16,
    "start_time": "2021-07-07T17:09:19.324Z"
   },
   {
    "duration": 21,
    "start_time": "2021-07-07T17:09:23.290Z"
   },
   {
    "duration": 13,
    "start_time": "2021-07-07T17:09:54.812Z"
   },
   {
    "duration": 13,
    "start_time": "2021-07-07T17:10:02.039Z"
   },
   {
    "duration": 10,
    "start_time": "2021-07-07T17:10:29.632Z"
   },
   {
    "duration": 13,
    "start_time": "2021-07-07T17:10:52.372Z"
   },
   {
    "duration": 13,
    "start_time": "2021-07-07T17:11:17.270Z"
   },
   {
    "duration": 13,
    "start_time": "2021-07-07T17:14:59.284Z"
   },
   {
    "duration": 547,
    "start_time": "2021-07-07T17:18:52.403Z"
   },
   {
    "duration": 163,
    "start_time": "2021-07-07T17:18:52.952Z"
   },
   {
    "duration": 44,
    "start_time": "2021-07-07T17:18:53.117Z"
   },
   {
    "duration": 3,
    "start_time": "2021-07-07T17:18:53.162Z"
   },
   {
    "duration": 26,
    "start_time": "2021-07-07T17:18:53.167Z"
   },
   {
    "duration": 6,
    "start_time": "2021-07-07T17:18:53.195Z"
   },
   {
    "duration": 15,
    "start_time": "2021-07-07T17:18:53.203Z"
   },
   {
    "duration": 5,
    "start_time": "2021-07-07T17:18:53.220Z"
   },
   {
    "duration": 11,
    "start_time": "2021-07-07T17:18:53.228Z"
   },
   {
    "duration": 9,
    "start_time": "2021-07-07T17:18:53.241Z"
   },
   {
    "duration": 41,
    "start_time": "2021-07-07T17:18:53.252Z"
   },
   {
    "duration": 33,
    "start_time": "2021-07-07T17:18:53.295Z"
   },
   {
    "duration": 19,
    "start_time": "2021-07-07T17:18:53.330Z"
   },
   {
    "duration": 49,
    "start_time": "2021-07-07T17:18:53.350Z"
   },
   {
    "duration": 5,
    "start_time": "2021-07-07T17:18:53.401Z"
   },
   {
    "duration": 5,
    "start_time": "2021-07-07T17:18:53.408Z"
   },
   {
    "duration": 11,
    "start_time": "2021-07-07T17:18:53.414Z"
   },
   {
    "duration": 9,
    "start_time": "2021-07-07T17:18:53.427Z"
   },
   {
    "duration": 10,
    "start_time": "2021-07-07T17:18:53.437Z"
   },
   {
    "duration": 39,
    "start_time": "2021-07-07T17:18:53.448Z"
   },
   {
    "duration": 26,
    "start_time": "2021-07-07T17:18:55.799Z"
   },
   {
    "duration": 598,
    "start_time": "2021-07-07T17:20:17.862Z"
   },
   {
    "duration": 161,
    "start_time": "2021-07-07T17:20:18.462Z"
   },
   {
    "duration": 45,
    "start_time": "2021-07-07T17:20:18.626Z"
   },
   {
    "duration": 4,
    "start_time": "2021-07-07T17:20:18.673Z"
   },
   {
    "duration": 38,
    "start_time": "2021-07-07T17:20:26.877Z"
   },
   {
    "duration": 7,
    "start_time": "2021-07-07T17:20:37.405Z"
   },
   {
    "duration": 19,
    "start_time": "2021-07-07T17:20:51.534Z"
   },
   {
    "duration": 5,
    "start_time": "2021-07-07T17:20:57.228Z"
   },
   {
    "duration": 7,
    "start_time": "2021-07-07T17:21:08.235Z"
   },
   {
    "duration": 19,
    "start_time": "2021-07-07T17:21:42.158Z"
   },
   {
    "duration": 14,
    "start_time": "2021-07-07T17:21:50.225Z"
   },
   {
    "duration": 22,
    "start_time": "2021-07-07T17:22:54.104Z"
   },
   {
    "duration": 5,
    "start_time": "2021-07-07T17:22:56.371Z"
   },
   {
    "duration": 14,
    "start_time": "2021-07-07T17:22:58.316Z"
   },
   {
    "duration": 5,
    "start_time": "2021-07-07T17:22:58.493Z"
   },
   {
    "duration": 35,
    "start_time": "2021-07-07T17:22:59.666Z"
   },
   {
    "duration": 6,
    "start_time": "2021-07-07T17:23:02.410Z"
   },
   {
    "duration": 611,
    "start_time": "2021-07-07T17:24:59.664Z"
   },
   {
    "duration": 178,
    "start_time": "2021-07-07T17:25:01.945Z"
   },
   {
    "duration": 47,
    "start_time": "2021-07-07T17:25:02.125Z"
   },
   {
    "duration": 2,
    "start_time": "2021-07-07T17:25:07.903Z"
   },
   {
    "duration": 254,
    "start_time": "2021-07-07T17:25:08.232Z"
   },
   {
    "duration": 182,
    "start_time": "2021-07-07T17:25:08.671Z"
   },
   {
    "duration": 6,
    "start_time": "2021-07-07T17:25:13.104Z"
   },
   {
    "duration": 36,
    "start_time": "2021-07-07T17:25:13.662Z"
   },
   {
    "duration": 7,
    "start_time": "2021-07-07T17:25:14.528Z"
   },
   {
    "duration": 24,
    "start_time": "2021-07-07T17:25:27.982Z"
   },
   {
    "duration": 3,
    "start_time": "2021-07-07T17:25:48.982Z"
   },
   {
    "duration": 165,
    "start_time": "2021-07-07T17:25:48.987Z"
   },
   {
    "duration": 50,
    "start_time": "2021-07-07T17:25:49.154Z"
   },
   {
    "duration": 4,
    "start_time": "2021-07-07T17:25:49.206Z"
   },
   {
    "duration": 26,
    "start_time": "2021-07-07T17:25:49.212Z"
   },
   {
    "duration": 7,
    "start_time": "2021-07-07T17:25:49.240Z"
   },
   {
    "duration": 16,
    "start_time": "2021-07-07T17:25:49.249Z"
   },
   {
    "duration": 22,
    "start_time": "2021-07-07T17:25:49.266Z"
   },
   {
    "duration": 16,
    "start_time": "2021-07-07T17:25:49.291Z"
   },
   {
    "duration": 9,
    "start_time": "2021-07-07T17:25:49.309Z"
   },
   {
    "duration": 7,
    "start_time": "2021-07-07T17:25:49.319Z"
   },
   {
    "duration": 28,
    "start_time": "2021-07-07T17:25:49.328Z"
   },
   {
    "duration": 44,
    "start_time": "2021-07-07T17:25:49.357Z"
   },
   {
    "duration": 22,
    "start_time": "2021-07-07T17:25:49.403Z"
   },
   {
    "duration": 7,
    "start_time": "2021-07-07T17:25:49.427Z"
   },
   {
    "duration": 3,
    "start_time": "2021-07-07T17:25:49.436Z"
   },
   {
    "duration": 44,
    "start_time": "2021-07-07T17:25:49.441Z"
   },
   {
    "duration": 12,
    "start_time": "2021-07-07T17:25:49.488Z"
   },
   {
    "duration": 13,
    "start_time": "2021-07-07T17:25:49.502Z"
   },
   {
    "duration": 10,
    "start_time": "2021-07-07T17:25:49.516Z"
   },
   {
    "duration": 62,
    "start_time": "2021-07-07T17:25:49.527Z"
   },
   {
    "duration": 26,
    "start_time": "2021-07-07T17:26:51.809Z"
   },
   {
    "duration": 26,
    "start_time": "2021-07-07T17:26:55.759Z"
   },
   {
    "duration": 26,
    "start_time": "2021-07-07T17:27:04.501Z"
   },
   {
    "duration": 25,
    "start_time": "2021-07-07T17:28:24.859Z"
   },
   {
    "duration": 21,
    "start_time": "2021-07-07T17:28:55.250Z"
   },
   {
    "duration": 21,
    "start_time": "2021-07-07T17:28:58.885Z"
   },
   {
    "duration": 7,
    "start_time": "2021-07-07T17:45:40.972Z"
   },
   {
    "duration": 13,
    "start_time": "2021-07-07T17:45:42.529Z"
   },
   {
    "duration": 27,
    "start_time": "2021-07-07T17:45:51.026Z"
   },
   {
    "duration": 518,
    "start_time": "2021-07-07T17:46:15.532Z"
   },
   {
    "duration": 235,
    "start_time": "2021-07-07T17:46:16.053Z"
   },
   {
    "duration": 80,
    "start_time": "2021-07-07T17:46:16.292Z"
   },
   {
    "duration": 5,
    "start_time": "2021-07-07T17:46:16.373Z"
   },
   {
    "duration": 26,
    "start_time": "2021-07-07T17:46:16.380Z"
   },
   {
    "duration": 7,
    "start_time": "2021-07-07T17:46:16.408Z"
   },
   {
    "duration": 16,
    "start_time": "2021-07-07T17:46:16.418Z"
   },
   {
    "duration": 5,
    "start_time": "2021-07-07T17:46:16.436Z"
   },
   {
    "duration": 13,
    "start_time": "2021-07-07T17:46:16.442Z"
   },
   {
    "duration": 35,
    "start_time": "2021-07-07T17:46:16.456Z"
   },
   {
    "duration": 8,
    "start_time": "2021-07-07T17:46:16.493Z"
   },
   {
    "duration": 28,
    "start_time": "2021-07-07T17:46:16.502Z"
   },
   {
    "duration": 17,
    "start_time": "2021-07-07T17:46:16.532Z"
   },
   {
    "duration": 44,
    "start_time": "2021-07-07T17:46:16.551Z"
   },
   {
    "duration": 6,
    "start_time": "2021-07-07T17:46:16.597Z"
   },
   {
    "duration": 4,
    "start_time": "2021-07-07T17:46:16.605Z"
   },
   {
    "duration": 9,
    "start_time": "2021-07-07T17:46:16.610Z"
   },
   {
    "duration": 9,
    "start_time": "2021-07-07T17:46:16.621Z"
   },
   {
    "duration": 10,
    "start_time": "2021-07-07T17:46:16.632Z"
   },
   {
    "duration": 43,
    "start_time": "2021-07-07T17:46:16.644Z"
   },
   {
    "duration": 26,
    "start_time": "2021-07-07T17:46:16.689Z"
   },
   {
    "duration": 19,
    "start_time": "2021-07-07T17:46:16.718Z"
   },
   {
    "duration": 8,
    "start_time": "2021-07-07T17:46:16.738Z"
   },
   {
    "duration": 43,
    "start_time": "2021-07-07T17:46:16.747Z"
   },
   {
    "duration": 19,
    "start_time": "2021-07-07T17:46:16.791Z"
   },
   {
    "duration": 9,
    "start_time": "2021-07-07T17:46:16.812Z"
   },
   {
    "duration": 60,
    "start_time": "2021-07-07T17:46:16.822Z"
   },
   {
    "duration": -8,
    "start_time": "2021-07-07T17:46:16.892Z"
   },
   {
    "duration": 12,
    "start_time": "2021-07-07T17:48:47.707Z"
   },
   {
    "duration": 553,
    "start_time": "2021-07-07T18:10:09.350Z"
   },
   {
    "duration": 230,
    "start_time": "2021-07-07T18:10:09.905Z"
   },
   {
    "duration": 97,
    "start_time": "2021-07-07T18:10:10.137Z"
   },
   {
    "duration": 5,
    "start_time": "2021-07-07T18:10:10.236Z"
   },
   {
    "duration": 29,
    "start_time": "2021-07-07T18:10:10.242Z"
   },
   {
    "duration": 7,
    "start_time": "2021-07-07T18:10:10.272Z"
   },
   {
    "duration": 15,
    "start_time": "2021-07-07T18:10:10.281Z"
   },
   {
    "duration": 4,
    "start_time": "2021-07-07T18:10:10.299Z"
   },
   {
    "duration": 14,
    "start_time": "2021-07-07T18:10:10.305Z"
   },
   {
    "duration": 8,
    "start_time": "2021-07-07T18:10:10.321Z"
   },
   {
    "duration": 8,
    "start_time": "2021-07-07T18:10:10.331Z"
   },
   {
    "duration": 56,
    "start_time": "2021-07-07T18:10:10.341Z"
   },
   {
    "duration": 19,
    "start_time": "2021-07-07T18:10:10.399Z"
   },
   {
    "duration": 23,
    "start_time": "2021-07-07T18:10:10.419Z"
   },
   {
    "duration": 6,
    "start_time": "2021-07-07T18:10:10.444Z"
   },
   {
    "duration": 9,
    "start_time": "2021-07-07T18:10:10.451Z"
   },
   {
    "duration": 30,
    "start_time": "2021-07-07T18:10:10.462Z"
   },
   {
    "duration": 9,
    "start_time": "2021-07-07T18:10:10.494Z"
   },
   {
    "duration": 14,
    "start_time": "2021-07-07T18:10:10.505Z"
   },
   {
    "duration": 7,
    "start_time": "2021-07-07T18:10:10.521Z"
   },
   {
    "duration": 26,
    "start_time": "2021-07-07T18:10:10.530Z"
   },
   {
    "duration": 44,
    "start_time": "2021-07-07T18:10:10.558Z"
   },
   {
    "duration": 7,
    "start_time": "2021-07-07T18:10:10.605Z"
   },
   {
    "duration": 11,
    "start_time": "2021-07-07T18:10:10.614Z"
   },
   {
    "duration": 19,
    "start_time": "2021-07-07T18:10:10.626Z"
   },
   {
    "duration": 44,
    "start_time": "2021-07-07T18:10:10.646Z"
   },
   {
    "duration": 516,
    "start_time": "2021-07-07T18:14:00.826Z"
   },
   {
    "duration": 230,
    "start_time": "2021-07-07T18:14:01.344Z"
   },
   {
    "duration": 105,
    "start_time": "2021-07-07T18:14:01.576Z"
   },
   {
    "duration": 5,
    "start_time": "2021-07-07T18:14:01.683Z"
   },
   {
    "duration": 46,
    "start_time": "2021-07-07T18:14:01.690Z"
   },
   {
    "duration": 7,
    "start_time": "2021-07-07T18:14:01.738Z"
   },
   {
    "duration": 20,
    "start_time": "2021-07-07T18:14:01.747Z"
   },
   {
    "duration": 16,
    "start_time": "2021-07-07T18:14:01.769Z"
   },
   {
    "duration": 14,
    "start_time": "2021-07-07T18:14:01.787Z"
   },
   {
    "duration": 15,
    "start_time": "2021-07-07T18:14:01.803Z"
   },
   {
    "duration": 12,
    "start_time": "2021-07-07T18:14:01.820Z"
   },
   {
    "duration": 35,
    "start_time": "2021-07-07T18:14:01.833Z"
   },
   {
    "duration": 31,
    "start_time": "2021-07-07T18:14:01.869Z"
   },
   {
    "duration": 37,
    "start_time": "2021-07-07T18:14:01.902Z"
   },
   {
    "duration": 8,
    "start_time": "2021-07-07T18:14:01.942Z"
   },
   {
    "duration": 16,
    "start_time": "2021-07-07T18:14:01.952Z"
   },
   {
    "duration": 13,
    "start_time": "2021-07-07T18:14:01.970Z"
   },
   {
    "duration": 32,
    "start_time": "2021-07-07T18:14:01.985Z"
   },
   {
    "duration": 11,
    "start_time": "2021-07-07T18:14:02.019Z"
   },
   {
    "duration": 22,
    "start_time": "2021-07-07T18:14:02.031Z"
   },
   {
    "duration": 27,
    "start_time": "2021-07-07T18:14:02.055Z"
   },
   {
    "duration": 18,
    "start_time": "2021-07-07T18:14:02.084Z"
   },
   {
    "duration": 18,
    "start_time": "2021-07-07T18:14:02.106Z"
   },
   {
    "duration": 11,
    "start_time": "2021-07-07T18:14:02.126Z"
   },
   {
    "duration": 21,
    "start_time": "2021-07-07T18:14:02.138Z"
   },
   {
    "duration": 32,
    "start_time": "2021-07-07T18:14:02.161Z"
   },
   {
    "duration": 28,
    "start_time": "2021-07-07T18:14:44.295Z"
   },
   {
    "duration": 6,
    "start_time": "2021-07-07T18:15:05.834Z"
   },
   {
    "duration": 511,
    "start_time": "2021-07-07T18:15:41.541Z"
   },
   {
    "duration": 183,
    "start_time": "2021-07-07T18:15:42.054Z"
   },
   {
    "duration": 50,
    "start_time": "2021-07-07T18:15:42.239Z"
   },
   {
    "duration": 5,
    "start_time": "2021-07-07T18:15:42.291Z"
   },
   {
    "duration": 48,
    "start_time": "2021-07-07T18:15:42.297Z"
   },
   {
    "duration": 8,
    "start_time": "2021-07-07T18:15:42.346Z"
   },
   {
    "duration": 17,
    "start_time": "2021-07-07T18:15:42.356Z"
   },
   {
    "duration": 15,
    "start_time": "2021-07-07T18:15:42.375Z"
   },
   {
    "duration": 12,
    "start_time": "2021-07-07T18:15:42.392Z"
   },
   {
    "duration": 7,
    "start_time": "2021-07-07T18:15:42.406Z"
   },
   {
    "duration": 7,
    "start_time": "2021-07-07T18:15:42.415Z"
   },
   {
    "duration": 29,
    "start_time": "2021-07-07T18:15:42.423Z"
   },
   {
    "duration": 43,
    "start_time": "2021-07-07T18:15:42.453Z"
   },
   {
    "duration": 18,
    "start_time": "2021-07-07T18:15:42.497Z"
   },
   {
    "duration": 6,
    "start_time": "2021-07-07T18:15:42.516Z"
   },
   {
    "duration": 3,
    "start_time": "2021-07-07T18:15:42.523Z"
   },
   {
    "duration": 18,
    "start_time": "2021-07-07T18:15:42.528Z"
   },
   {
    "duration": 10,
    "start_time": "2021-07-07T18:15:42.547Z"
   },
   {
    "duration": 36,
    "start_time": "2021-07-07T18:15:42.559Z"
   },
   {
    "duration": 8,
    "start_time": "2021-07-07T18:15:42.597Z"
   },
   {
    "duration": 28,
    "start_time": "2021-07-07T18:15:42.606Z"
   },
   {
    "duration": 52,
    "start_time": "2021-07-07T18:15:42.635Z"
   },
   {
    "duration": 7,
    "start_time": "2021-07-07T18:15:42.690Z"
   },
   {
    "duration": 10,
    "start_time": "2021-07-07T18:15:42.699Z"
   },
   {
    "duration": 19,
    "start_time": "2021-07-07T18:15:42.711Z"
   },
   {
    "duration": 9,
    "start_time": "2021-07-07T18:15:42.732Z"
   },
   {
    "duration": 5,
    "start_time": "2021-07-07T18:15:42.743Z"
   },
   {
    "duration": 1450,
    "start_time": "2021-07-07T18:15:51.984Z"
   },
   {
    "duration": 161,
    "start_time": "2021-07-07T18:15:53.435Z"
   },
   {
    "duration": 124,
    "start_time": "2021-07-07T18:15:53.598Z"
   },
   {
    "duration": 5,
    "start_time": "2021-07-07T18:15:53.724Z"
   },
   {
    "duration": 34,
    "start_time": "2021-07-07T18:15:53.730Z"
   },
   {
    "duration": 7,
    "start_time": "2021-07-07T18:15:53.765Z"
   },
   {
    "duration": 15,
    "start_time": "2021-07-07T18:15:53.773Z"
   },
   {
    "duration": 5,
    "start_time": "2021-07-07T18:15:53.791Z"
   },
   {
    "duration": 19,
    "start_time": "2021-07-07T18:15:53.798Z"
   },
   {
    "duration": 9,
    "start_time": "2021-07-07T18:15:53.818Z"
   },
   {
    "duration": 19,
    "start_time": "2021-07-07T18:15:53.828Z"
   },
   {
    "duration": 27,
    "start_time": "2021-07-07T18:15:53.848Z"
   },
   {
    "duration": 16,
    "start_time": "2021-07-07T18:15:53.884Z"
   },
   {
    "duration": 29,
    "start_time": "2021-07-07T18:15:53.901Z"
   },
   {
    "duration": 5,
    "start_time": "2021-07-07T18:15:53.932Z"
   },
   {
    "duration": 15,
    "start_time": "2021-07-07T18:15:53.939Z"
   },
   {
    "duration": 13,
    "start_time": "2021-07-07T18:15:53.956Z"
   },
   {
    "duration": 20,
    "start_time": "2021-07-07T18:15:53.971Z"
   },
   {
    "duration": 14,
    "start_time": "2021-07-07T18:15:53.992Z"
   },
   {
    "duration": 9,
    "start_time": "2021-07-07T18:15:54.009Z"
   },
   {
    "duration": 28,
    "start_time": "2021-07-07T18:15:54.020Z"
   },
   {
    "duration": 50,
    "start_time": "2021-07-07T18:15:54.051Z"
   },
   {
    "duration": 8,
    "start_time": "2021-07-07T18:15:54.105Z"
   },
   {
    "duration": 11,
    "start_time": "2021-07-07T18:15:54.115Z"
   },
   {
    "duration": 20,
    "start_time": "2021-07-07T18:15:54.128Z"
   },
   {
    "duration": 13,
    "start_time": "2021-07-07T18:15:54.184Z"
   },
   {
    "duration": 7,
    "start_time": "2021-07-07T18:15:54.199Z"
   },
   {
    "duration": 7,
    "start_time": "2021-07-07T18:17:08.042Z"
   },
   {
    "duration": 8,
    "start_time": "2021-07-07T18:17:21.008Z"
   },
   {
    "duration": 7,
    "start_time": "2021-07-07T18:17:29.003Z"
   },
   {
    "duration": 8,
    "start_time": "2021-07-07T18:17:32.492Z"
   },
   {
    "duration": 9,
    "start_time": "2021-07-07T18:17:41.758Z"
   },
   {
    "duration": 255,
    "start_time": "2021-07-07T18:20:20.897Z"
   },
   {
    "duration": 173,
    "start_time": "2021-07-07T18:20:26.636Z"
   },
   {
    "duration": 7,
    "start_time": "2021-07-07T18:21:47.164Z"
   },
   {
    "duration": 254,
    "start_time": "2021-07-07T18:23:08.703Z"
   },
   {
    "duration": 21,
    "start_time": "2021-07-07T18:23:22.506Z"
   },
   {
    "duration": 315,
    "start_time": "2021-07-07T18:25:54.801Z"
   },
   {
    "duration": 34,
    "start_time": "2021-07-07T18:26:51.817Z"
   },
   {
    "duration": 327,
    "start_time": "2021-07-07T18:26:56.147Z"
   },
   {
    "duration": 342,
    "start_time": "2021-07-07T18:27:15.887Z"
   },
   {
    "duration": 302,
    "start_time": "2021-07-07T18:28:18.569Z"
   },
   {
    "duration": 226,
    "start_time": "2021-07-07T18:29:20.879Z"
   },
   {
    "duration": 207,
    "start_time": "2021-07-07T18:29:58.114Z"
   },
   {
    "duration": 140,
    "start_time": "2021-07-07T18:32:04.372Z"
   },
   {
    "duration": 158,
    "start_time": "2021-07-07T18:32:32.508Z"
   },
   {
    "duration": 145,
    "start_time": "2021-07-07T18:32:41.365Z"
   },
   {
    "duration": 132,
    "start_time": "2021-07-07T18:32:45.199Z"
   },
   {
    "duration": 11,
    "start_time": "2021-07-07T18:35:24.679Z"
   },
   {
    "duration": 268,
    "start_time": "2021-07-07T18:36:16.145Z"
   },
   {
    "duration": 227,
    "start_time": "2021-07-07T18:37:04.918Z"
   },
   {
    "duration": 3,
    "start_time": "2021-07-07T18:37:33.012Z"
   },
   {
    "duration": 671,
    "start_time": "2021-07-07T18:37:38.295Z"
   },
   {
    "duration": 54,
    "start_time": "2021-07-07T18:37:53.406Z"
   },
   {
    "duration": 631,
    "start_time": "2021-07-07T18:37:56.463Z"
   },
   {
    "duration": 19,
    "start_time": "2021-07-07T18:39:40.535Z"
   },
   {
    "duration": 20,
    "start_time": "2021-07-07T18:40:12.236Z"
   },
   {
    "duration": 633,
    "start_time": "2021-07-07T18:42:00.398Z"
   },
   {
    "duration": 218,
    "start_time": "2021-07-07T18:42:01.033Z"
   },
   {
    "duration": 49,
    "start_time": "2021-07-07T18:42:01.253Z"
   },
   {
    "duration": 5,
    "start_time": "2021-07-07T18:42:01.303Z"
   },
   {
    "duration": 27,
    "start_time": "2021-07-07T18:42:01.310Z"
   },
   {
    "duration": 8,
    "start_time": "2021-07-07T18:42:01.339Z"
   },
   {
    "duration": 20,
    "start_time": "2021-07-07T18:42:01.348Z"
   },
   {
    "duration": 6,
    "start_time": "2021-07-07T18:42:01.386Z"
   },
   {
    "duration": 16,
    "start_time": "2021-07-07T18:42:01.394Z"
   },
   {
    "duration": 9,
    "start_time": "2021-07-07T18:42:01.411Z"
   },
   {
    "duration": 11,
    "start_time": "2021-07-07T18:42:01.421Z"
   },
   {
    "duration": 31,
    "start_time": "2021-07-07T18:42:01.434Z"
   },
   {
    "duration": 18,
    "start_time": "2021-07-07T18:42:01.485Z"
   },
   {
    "duration": 23,
    "start_time": "2021-07-07T18:42:01.505Z"
   },
   {
    "duration": 6,
    "start_time": "2021-07-07T18:42:01.530Z"
   },
   {
    "duration": 10,
    "start_time": "2021-07-07T18:42:01.538Z"
   },
   {
    "duration": 13,
    "start_time": "2021-07-07T18:42:01.550Z"
   },
   {
    "duration": 24,
    "start_time": "2021-07-07T18:42:01.564Z"
   },
   {
    "duration": 20,
    "start_time": "2021-07-07T18:42:01.590Z"
   },
   {
    "duration": 8,
    "start_time": "2021-07-07T18:42:01.611Z"
   },
   {
    "duration": 31,
    "start_time": "2021-07-07T18:42:01.620Z"
   },
   {
    "duration": 39,
    "start_time": "2021-07-07T18:42:01.653Z"
   },
   {
    "duration": 8,
    "start_time": "2021-07-07T18:42:01.696Z"
   },
   {
    "duration": 13,
    "start_time": "2021-07-07T18:42:01.705Z"
   },
   {
    "duration": 20,
    "start_time": "2021-07-07T18:42:01.720Z"
   },
   {
    "duration": 12,
    "start_time": "2021-07-07T18:42:01.741Z"
   },
   {
    "duration": 35,
    "start_time": "2021-07-07T18:42:01.755Z"
   },
   {
    "duration": 14,
    "start_time": "2021-07-07T18:42:01.792Z"
   },
   {
    "duration": 188,
    "start_time": "2021-07-07T18:42:01.808Z"
   },
   {
    "duration": 19,
    "start_time": "2021-07-07T18:42:01.998Z"
   },
   {
    "duration": 175,
    "start_time": "2021-07-07T18:42:02.019Z"
   },
   {
    "duration": 134,
    "start_time": "2021-07-07T18:42:02.196Z"
   },
   {
    "duration": 10,
    "start_time": "2021-07-07T18:42:02.331Z"
   },
   {
    "duration": 19,
    "start_time": "2021-07-07T18:42:02.343Z"
   },
   {
    "duration": 628,
    "start_time": "2021-07-07T18:46:30.701Z"
   },
   {
    "duration": 183,
    "start_time": "2021-07-07T18:46:31.331Z"
   },
   {
    "duration": 48,
    "start_time": "2021-07-07T18:46:31.516Z"
   },
   {
    "duration": 5,
    "start_time": "2021-07-07T18:46:31.566Z"
   },
   {
    "duration": 28,
    "start_time": "2021-07-07T18:46:31.572Z"
   },
   {
    "duration": 8,
    "start_time": "2021-07-07T18:46:31.602Z"
   },
   {
    "duration": 19,
    "start_time": "2021-07-07T18:46:31.611Z"
   },
   {
    "duration": 6,
    "start_time": "2021-07-07T18:46:31.633Z"
   },
   {
    "duration": 17,
    "start_time": "2021-07-07T18:46:31.642Z"
   },
   {
    "duration": 10,
    "start_time": "2021-07-07T18:46:31.684Z"
   },
   {
    "duration": 9,
    "start_time": "2021-07-07T18:46:31.695Z"
   },
   {
    "duration": 28,
    "start_time": "2021-07-07T18:46:31.705Z"
   },
   {
    "duration": 18,
    "start_time": "2021-07-07T18:46:31.735Z"
   },
   {
    "duration": 48,
    "start_time": "2021-07-07T18:46:31.755Z"
   },
   {
    "duration": 6,
    "start_time": "2021-07-07T18:46:31.804Z"
   },
   {
    "duration": 4,
    "start_time": "2021-07-07T18:46:31.812Z"
   },
   {
    "duration": 9,
    "start_time": "2021-07-07T18:46:31.817Z"
   },
   {
    "duration": 10,
    "start_time": "2021-07-07T18:46:31.827Z"
   },
   {
    "duration": 12,
    "start_time": "2021-07-07T18:46:31.838Z"
   },
   {
    "duration": 39,
    "start_time": "2021-07-07T18:46:31.851Z"
   },
   {
    "duration": 24,
    "start_time": "2021-07-07T18:46:31.892Z"
   },
   {
    "duration": 15,
    "start_time": "2021-07-07T18:46:31.918Z"
   },
   {
    "duration": 7,
    "start_time": "2021-07-07T18:46:31.936Z"
   },
   {
    "duration": 8,
    "start_time": "2021-07-07T18:46:31.944Z"
   },
   {
    "duration": 19,
    "start_time": "2021-07-07T18:46:31.984Z"
   },
   {
    "duration": 10,
    "start_time": "2021-07-07T18:46:32.004Z"
   },
   {
    "duration": 5,
    "start_time": "2021-07-07T18:46:32.016Z"
   },
   {
    "duration": 9,
    "start_time": "2021-07-07T18:46:32.023Z"
   },
   {
    "duration": 199,
    "start_time": "2021-07-07T18:46:32.033Z"
   },
   {
    "duration": 19,
    "start_time": "2021-07-07T18:46:32.234Z"
   },
   {
    "duration": 159,
    "start_time": "2021-07-07T18:46:32.255Z"
   },
   {
    "duration": 134,
    "start_time": "2021-07-07T18:46:32.416Z"
   },
   {
    "duration": 10,
    "start_time": "2021-07-07T18:46:32.552Z"
   },
   {
    "duration": 34,
    "start_time": "2021-07-07T18:46:32.563Z"
   },
   {
    "duration": 1039,
    "start_time": "2021-07-08T08:41:09.419Z"
   },
   {
    "duration": 333,
    "start_time": "2021-07-08T08:41:10.459Z"
   },
   {
    "duration": 173,
    "start_time": "2021-07-08T08:41:10.794Z"
   },
   {
    "duration": 5,
    "start_time": "2021-07-08T08:41:10.968Z"
   },
   {
    "duration": 25,
    "start_time": "2021-07-08T08:41:10.975Z"
   },
   {
    "duration": 9,
    "start_time": "2021-07-08T08:41:11.002Z"
   },
   {
    "duration": 18,
    "start_time": "2021-07-08T08:41:11.013Z"
   },
   {
    "duration": 6,
    "start_time": "2021-07-08T08:41:11.033Z"
   },
   {
    "duration": 44,
    "start_time": "2021-07-08T08:41:11.042Z"
   },
   {
    "duration": 10,
    "start_time": "2021-07-08T08:41:11.088Z"
   },
   {
    "duration": 9,
    "start_time": "2021-07-08T08:41:11.100Z"
   },
   {
    "duration": 27,
    "start_time": "2021-07-08T08:41:11.111Z"
   },
   {
    "duration": 46,
    "start_time": "2021-07-08T08:41:11.140Z"
   },
   {
    "duration": 17,
    "start_time": "2021-07-08T08:41:11.187Z"
   },
   {
    "duration": 6,
    "start_time": "2021-07-08T08:41:11.206Z"
   },
   {
    "duration": 5,
    "start_time": "2021-07-08T08:41:11.213Z"
   },
   {
    "duration": 10,
    "start_time": "2021-07-08T08:41:11.219Z"
   },
   {
    "duration": 9,
    "start_time": "2021-07-08T08:41:11.230Z"
   },
   {
    "duration": 45,
    "start_time": "2021-07-08T08:41:11.241Z"
   },
   {
    "duration": 7,
    "start_time": "2021-07-08T08:41:11.287Z"
   },
   {
    "duration": 24,
    "start_time": "2021-07-08T08:41:11.296Z"
   },
   {
    "duration": 16,
    "start_time": "2021-07-08T08:41:11.322Z"
   },
   {
    "duration": 7,
    "start_time": "2021-07-08T08:41:11.341Z"
   },
   {
    "duration": 41,
    "start_time": "2021-07-08T08:41:11.349Z"
   },
   {
    "duration": 17,
    "start_time": "2021-07-08T08:41:11.391Z"
   },
   {
    "duration": 9,
    "start_time": "2021-07-08T08:41:11.410Z"
   },
   {
    "duration": 5,
    "start_time": "2021-07-08T08:41:11.421Z"
   },
   {
    "duration": 6,
    "start_time": "2021-07-08T08:41:11.428Z"
   },
   {
    "duration": 198,
    "start_time": "2021-07-08T08:41:11.435Z"
   },
   {
    "duration": 18,
    "start_time": "2021-07-08T08:41:11.635Z"
   },
   {
    "duration": 155,
    "start_time": "2021-07-08T08:41:11.655Z"
   },
   {
    "duration": 138,
    "start_time": "2021-07-08T08:41:11.811Z"
   },
   {
    "duration": 10,
    "start_time": "2021-07-08T08:41:11.950Z"
   },
   {
    "duration": 29,
    "start_time": "2021-07-08T08:41:11.961Z"
   },
   {
    "duration": 171,
    "start_time": "2021-07-08T08:47:44.522Z"
   },
   {
    "duration": 124,
    "start_time": "2021-07-08T08:47:46.872Z"
   },
   {
    "duration": 191,
    "start_time": "2021-07-08T08:47:58.148Z"
   },
   {
    "duration": 191,
    "start_time": "2021-07-08T08:48:07.412Z"
   },
   {
    "duration": 261,
    "start_time": "2021-07-08T08:48:10.385Z"
   },
   {
    "duration": 255,
    "start_time": "2021-07-08T08:48:14.494Z"
   },
   {
    "duration": 219,
    "start_time": "2021-07-08T08:48:22.752Z"
   },
   {
    "duration": 173,
    "start_time": "2021-07-08T08:49:06.395Z"
   },
   {
    "duration": 180,
    "start_time": "2021-07-08T08:49:21.011Z"
   },
   {
    "duration": 6,
    "start_time": "2021-07-08T08:50:31.697Z"
   },
   {
    "duration": 10,
    "start_time": "2021-07-08T08:50:47.394Z"
   },
   {
    "duration": 11,
    "start_time": "2021-07-08T08:53:49.332Z"
   },
   {
    "duration": 171,
    "start_time": "2021-07-08T08:54:28.408Z"
   },
   {
    "duration": 636,
    "start_time": "2021-07-08T09:02:48.385Z"
   },
   {
    "duration": 227,
    "start_time": "2021-07-08T09:02:49.023Z"
   },
   {
    "duration": 104,
    "start_time": "2021-07-08T09:02:49.252Z"
   },
   {
    "duration": 5,
    "start_time": "2021-07-08T09:02:49.358Z"
   },
   {
    "duration": 27,
    "start_time": "2021-07-08T09:02:49.365Z"
   },
   {
    "duration": 8,
    "start_time": "2021-07-08T09:02:49.394Z"
   },
   {
    "duration": 18,
    "start_time": "2021-07-08T09:02:49.404Z"
   },
   {
    "duration": 6,
    "start_time": "2021-07-08T09:02:49.424Z"
   },
   {
    "duration": 11,
    "start_time": "2021-07-08T09:02:49.433Z"
   },
   {
    "duration": 13,
    "start_time": "2021-07-08T09:02:49.485Z"
   },
   {
    "duration": 9,
    "start_time": "2021-07-08T09:02:49.500Z"
   },
   {
    "duration": 38,
    "start_time": "2021-07-08T09:02:49.511Z"
   },
   {
    "duration": 42,
    "start_time": "2021-07-08T09:02:49.551Z"
   },
   {
    "duration": 21,
    "start_time": "2021-07-08T09:02:49.594Z"
   },
   {
    "duration": 6,
    "start_time": "2021-07-08T09:02:49.616Z"
   },
   {
    "duration": 3,
    "start_time": "2021-07-08T09:02:49.623Z"
   },
   {
    "duration": 9,
    "start_time": "2021-07-08T09:02:49.628Z"
   },
   {
    "duration": 52,
    "start_time": "2021-07-08T09:02:49.638Z"
   },
   {
    "duration": 11,
    "start_time": "2021-07-08T09:02:49.692Z"
   },
   {
    "duration": 8,
    "start_time": "2021-07-08T09:02:49.704Z"
   },
   {
    "duration": 27,
    "start_time": "2021-07-08T09:02:49.713Z"
   },
   {
    "duration": 59,
    "start_time": "2021-07-08T09:02:49.741Z"
   },
   {
    "duration": 8,
    "start_time": "2021-07-08T09:02:49.803Z"
   },
   {
    "duration": 14,
    "start_time": "2021-07-08T09:02:49.813Z"
   },
   {
    "duration": 20,
    "start_time": "2021-07-08T09:02:49.829Z"
   },
   {
    "duration": 44,
    "start_time": "2021-07-08T09:02:49.851Z"
   },
   {
    "duration": 14,
    "start_time": "2021-07-08T09:02:49.896Z"
   },
   {
    "duration": 221,
    "start_time": "2021-07-08T09:02:49.912Z"
   },
   {
    "duration": 6,
    "start_time": "2021-07-08T09:02:50.134Z"
   },
   {
    "duration": 206,
    "start_time": "2021-07-08T09:02:50.142Z"
   },
   {
    "duration": 19,
    "start_time": "2021-07-08T09:02:50.350Z"
   },
   {
    "duration": 21,
    "start_time": "2021-07-08T09:02:50.370Z"
   },
   {
    "duration": 20,
    "start_time": "2021-07-08T09:02:50.393Z"
   },
   {
    "duration": 5,
    "start_time": "2021-07-08T09:02:50.414Z"
   },
   {
    "duration": 5,
    "start_time": "2021-07-08T09:03:34.173Z"
   },
   {
    "duration": 6,
    "start_time": "2021-07-08T09:04:49.062Z"
   },
   {
    "duration": 9,
    "start_time": "2021-07-08T09:04:50.118Z"
   },
   {
    "duration": 14,
    "start_time": "2021-07-08T09:04:58.512Z"
   },
   {
    "duration": 9,
    "start_time": "2021-07-08T09:05:10.988Z"
   },
   {
    "duration": 11,
    "start_time": "2021-07-08T09:05:11.743Z"
   },
   {
    "duration": 7,
    "start_time": "2021-07-08T09:05:25.677Z"
   },
   {
    "duration": 13,
    "start_time": "2021-07-08T09:05:47.189Z"
   },
   {
    "duration": 13,
    "start_time": "2021-07-08T09:05:54.755Z"
   },
   {
    "duration": 4,
    "start_time": "2021-07-08T09:06:29.189Z"
   },
   {
    "duration": 244,
    "start_time": "2021-07-08T09:06:29.195Z"
   },
   {
    "duration": 91,
    "start_time": "2021-07-08T09:06:29.441Z"
   },
   {
    "duration": 4,
    "start_time": "2021-07-08T09:06:29.534Z"
   },
   {
    "duration": 28,
    "start_time": "2021-07-08T09:06:29.540Z"
   },
   {
    "duration": 6,
    "start_time": "2021-07-08T09:06:29.570Z"
   },
   {
    "duration": 18,
    "start_time": "2021-07-08T09:06:29.578Z"
   },
   {
    "duration": 5,
    "start_time": "2021-07-08T09:06:29.597Z"
   },
   {
    "duration": 13,
    "start_time": "2021-07-08T09:06:29.605Z"
   },
   {
    "duration": 8,
    "start_time": "2021-07-08T09:06:29.620Z"
   },
   {
    "duration": 7,
    "start_time": "2021-07-08T09:06:29.630Z"
   },
   {
    "duration": 63,
    "start_time": "2021-07-08T09:06:29.639Z"
   },
   {
    "duration": 17,
    "start_time": "2021-07-08T09:06:29.704Z"
   },
   {
    "duration": 20,
    "start_time": "2021-07-08T09:06:29.723Z"
   },
   {
    "duration": 6,
    "start_time": "2021-07-08T09:06:29.745Z"
   },
   {
    "duration": 3,
    "start_time": "2021-07-08T09:06:29.752Z"
   },
   {
    "duration": 7,
    "start_time": "2021-07-08T09:06:29.785Z"
   },
   {
    "duration": 11,
    "start_time": "2021-07-08T09:06:29.794Z"
   },
   {
    "duration": 15,
    "start_time": "2021-07-08T09:06:29.807Z"
   },
   {
    "duration": 8,
    "start_time": "2021-07-08T09:06:29.823Z"
   },
   {
    "duration": 70,
    "start_time": "2021-07-08T09:06:29.832Z"
   },
   {
    "duration": 17,
    "start_time": "2021-07-08T09:06:29.903Z"
   },
   {
    "duration": 9,
    "start_time": "2021-07-08T09:06:29.921Z"
   },
   {
    "duration": 9,
    "start_time": "2021-07-08T09:06:29.932Z"
   },
   {
    "duration": 57,
    "start_time": "2021-07-08T09:06:29.942Z"
   },
   {
    "duration": 11,
    "start_time": "2021-07-08T09:06:30.001Z"
   },
   {
    "duration": 19,
    "start_time": "2021-07-08T09:06:30.016Z"
   },
   {
    "duration": 217,
    "start_time": "2021-07-08T09:06:30.037Z"
   },
   {
    "duration": 6,
    "start_time": "2021-07-08T09:06:30.255Z"
   },
   {
    "duration": 205,
    "start_time": "2021-07-08T09:06:30.263Z"
   },
   {
    "duration": 27,
    "start_time": "2021-07-08T09:06:30.470Z"
   },
   {
    "duration": 11,
    "start_time": "2021-07-08T09:06:30.500Z"
   },
   {
    "duration": 31,
    "start_time": "2021-07-08T09:06:30.513Z"
   },
   {
    "duration": 18,
    "start_time": "2021-07-08T09:06:30.546Z"
   },
   {
    "duration": 11,
    "start_time": "2021-07-08T09:06:30.566Z"
   },
   {
    "duration": 19,
    "start_time": "2021-07-08T09:06:30.579Z"
   },
   {
    "duration": 20,
    "start_time": "2021-07-08T09:06:49.466Z"
   },
   {
    "duration": 9,
    "start_time": "2021-07-08T09:06:51.994Z"
   },
   {
    "duration": 20,
    "start_time": "2021-07-08T09:06:52.273Z"
   },
   {
    "duration": 246,
    "start_time": "2021-07-08T09:10:21.272Z"
   },
   {
    "duration": 84,
    "start_time": "2021-07-08T09:10:21.436Z"
   },
   {
    "duration": 7,
    "start_time": "2021-07-08T09:10:37.608Z"
   },
   {
    "duration": 189,
    "start_time": "2021-07-08T09:10:38.573Z"
   },
   {
    "duration": 185,
    "start_time": "2021-07-08T09:10:53.181Z"
   },
   {
    "duration": 11,
    "start_time": "2021-07-08T09:10:59.549Z"
   },
   {
    "duration": 42,
    "start_time": "2021-07-08T09:10:59.709Z"
   },
   {
    "duration": 12,
    "start_time": "2021-07-08T09:11:02.857Z"
   },
   {
    "duration": 28,
    "start_time": "2021-07-08T09:11:10.062Z"
   },
   {
    "duration": 249,
    "start_time": "2021-07-08T09:11:37.388Z"
   },
   {
    "duration": 232,
    "start_time": "2021-07-08T09:11:49.485Z"
   },
   {
    "duration": 453,
    "start_time": "2021-07-08T09:12:01.546Z"
   },
   {
    "duration": 440,
    "start_time": "2021-07-08T09:12:12.347Z"
   },
   {
    "duration": 213,
    "start_time": "2021-07-08T09:13:32.196Z"
   },
   {
    "duration": 172,
    "start_time": "2021-07-08T09:14:07.400Z"
   },
   {
    "duration": 185,
    "start_time": "2021-07-08T09:14:14.905Z"
   },
   {
    "duration": 209,
    "start_time": "2021-07-08T09:14:40.109Z"
   },
   {
    "duration": 201,
    "start_time": "2021-07-08T09:14:54.506Z"
   },
   {
    "duration": 622,
    "start_time": "2021-07-08T09:18:14.497Z"
   },
   {
    "duration": 220,
    "start_time": "2021-07-08T09:18:15.121Z"
   },
   {
    "duration": 79,
    "start_time": "2021-07-08T09:18:15.343Z"
   },
   {
    "duration": 4,
    "start_time": "2021-07-08T09:18:15.425Z"
   },
   {
    "duration": 24,
    "start_time": "2021-07-08T09:18:15.431Z"
   },
   {
    "duration": 8,
    "start_time": "2021-07-08T09:18:15.457Z"
   },
   {
    "duration": 16,
    "start_time": "2021-07-08T09:18:15.466Z"
   },
   {
    "duration": 5,
    "start_time": "2021-07-08T09:18:15.484Z"
   },
   {
    "duration": 10,
    "start_time": "2021-07-08T09:18:15.493Z"
   },
   {
    "duration": 8,
    "start_time": "2021-07-08T09:18:15.504Z"
   },
   {
    "duration": 7,
    "start_time": "2021-07-08T09:18:15.513Z"
   },
   {
    "duration": 26,
    "start_time": "2021-07-08T09:18:15.522Z"
   },
   {
    "duration": 49,
    "start_time": "2021-07-08T09:18:15.550Z"
   },
   {
    "duration": 21,
    "start_time": "2021-07-08T09:18:15.601Z"
   },
   {
    "duration": 8,
    "start_time": "2021-07-08T09:18:15.624Z"
   },
   {
    "duration": 3,
    "start_time": "2021-07-08T09:18:15.634Z"
   },
   {
    "duration": 8,
    "start_time": "2021-07-08T09:18:15.639Z"
   },
   {
    "duration": 45,
    "start_time": "2021-07-08T09:18:15.649Z"
   },
   {
    "duration": 13,
    "start_time": "2021-07-08T09:18:15.696Z"
   },
   {
    "duration": 10,
    "start_time": "2021-07-08T09:18:15.711Z"
   },
   {
    "duration": 64,
    "start_time": "2021-07-08T09:18:15.722Z"
   },
   {
    "duration": 19,
    "start_time": "2021-07-08T09:18:15.788Z"
   },
   {
    "duration": 9,
    "start_time": "2021-07-08T09:18:15.809Z"
   },
   {
    "duration": 9,
    "start_time": "2021-07-08T09:18:15.820Z"
   },
   {
    "duration": 18,
    "start_time": "2021-07-08T09:18:15.831Z"
   },
   {
    "duration": 43,
    "start_time": "2021-07-08T09:18:15.851Z"
   },
   {
    "duration": 12,
    "start_time": "2021-07-08T09:18:15.897Z"
   },
   {
    "duration": 219,
    "start_time": "2021-07-08T09:18:15.911Z"
   },
   {
    "duration": 8,
    "start_time": "2021-07-08T09:18:16.132Z"
   },
   {
    "duration": 199,
    "start_time": "2021-07-08T09:18:16.141Z"
   },
   {
    "duration": 18,
    "start_time": "2021-07-08T09:18:16.341Z"
   },
   {
    "duration": 24,
    "start_time": "2021-07-08T09:18:16.361Z"
   },
   {
    "duration": 24,
    "start_time": "2021-07-08T09:18:16.387Z"
   },
   {
    "duration": 211,
    "start_time": "2021-07-08T09:18:16.413Z"
   },
   {
    "duration": 18,
    "start_time": "2021-07-08T09:18:16.626Z"
   },
   {
    "duration": 596,
    "start_time": "2021-07-08T10:06:33.623Z"
   },
   {
    "duration": 181,
    "start_time": "2021-07-08T10:06:34.221Z"
   },
   {
    "duration": 176,
    "start_time": "2021-07-08T10:06:34.635Z"
   },
   {
    "duration": 239,
    "start_time": "2021-07-08T10:06:55.572Z"
   },
   {
    "duration": 6,
    "start_time": "2021-07-08T10:06:57.687Z"
   },
   {
    "duration": 4,
    "start_time": "2021-07-08T10:07:03.956Z"
   },
   {
    "duration": 4,
    "start_time": "2021-07-08T10:07:10.376Z"
   },
   {
    "duration": 4,
    "start_time": "2021-07-08T10:17:19.889Z"
   },
   {
    "duration": 3,
    "start_time": "2021-07-08T10:19:19.407Z"
   },
   {
    "duration": 197,
    "start_time": "2021-07-08T10:19:19.412Z"
   },
   {
    "duration": 127,
    "start_time": "2021-07-08T10:19:19.611Z"
   },
   {
    "duration": 4,
    "start_time": "2021-07-08T10:19:19.740Z"
   },
   {
    "duration": 27,
    "start_time": "2021-07-08T10:19:19.746Z"
   },
   {
    "duration": 7,
    "start_time": "2021-07-08T10:19:19.775Z"
   },
   {
    "duration": 30,
    "start_time": "2021-07-08T10:19:19.784Z"
   },
   {
    "duration": 7,
    "start_time": "2021-07-08T10:19:19.817Z"
   },
   {
    "duration": 26,
    "start_time": "2021-07-08T10:19:19.826Z"
   },
   {
    "duration": 18,
    "start_time": "2021-07-08T10:19:19.854Z"
   },
   {
    "duration": 14,
    "start_time": "2021-07-08T10:19:19.874Z"
   },
   {
    "duration": 48,
    "start_time": "2021-07-08T10:19:19.890Z"
   },
   {
    "duration": 17,
    "start_time": "2021-07-08T10:19:19.940Z"
   },
   {
    "duration": 38,
    "start_time": "2021-07-08T10:19:19.959Z"
   },
   {
    "duration": 8,
    "start_time": "2021-07-08T10:19:19.999Z"
   },
   {
    "duration": 15,
    "start_time": "2021-07-08T10:19:20.009Z"
   },
   {
    "duration": 22,
    "start_time": "2021-07-08T10:19:20.026Z"
   },
   {
    "duration": 10,
    "start_time": "2021-07-08T10:19:20.050Z"
   },
   {
    "duration": 10,
    "start_time": "2021-07-08T10:19:20.062Z"
   },
   {
    "duration": 20,
    "start_time": "2021-07-08T10:19:20.073Z"
   },
   {
    "duration": 29,
    "start_time": "2021-07-08T10:19:20.095Z"
   },
   {
    "duration": 17,
    "start_time": "2021-07-08T10:19:20.126Z"
   },
   {
    "duration": 40,
    "start_time": "2021-07-08T10:19:20.146Z"
   },
   {
    "duration": 15,
    "start_time": "2021-07-08T10:19:20.189Z"
   },
   {
    "duration": 19,
    "start_time": "2021-07-08T10:19:20.206Z"
   },
   {
    "duration": 10,
    "start_time": "2021-07-08T10:19:20.226Z"
   },
   {
    "duration": 11,
    "start_time": "2021-07-08T10:19:20.238Z"
   },
   {
    "duration": 297,
    "start_time": "2021-07-08T10:19:20.250Z"
   },
   {
    "duration": 6,
    "start_time": "2021-07-08T10:19:20.549Z"
   },
   {
    "duration": 191,
    "start_time": "2021-07-08T10:19:20.557Z"
   },
   {
    "duration": 19,
    "start_time": "2021-07-08T10:19:20.750Z"
   },
   {
    "duration": 20,
    "start_time": "2021-07-08T10:19:20.771Z"
   },
   {
    "duration": 15,
    "start_time": "2021-07-08T10:19:20.793Z"
   },
   {
    "duration": 222,
    "start_time": "2021-07-08T10:19:20.809Z"
   },
   {
    "duration": 20,
    "start_time": "2021-07-08T10:19:21.033Z"
   },
   {
    "duration": 27,
    "start_time": "2021-07-08T10:45:04.055Z"
   },
   {
    "duration": 8,
    "start_time": "2021-07-08T10:45:08.478Z"
   },
   {
    "duration": 8,
    "start_time": "2021-07-08T10:45:31.982Z"
   },
   {
    "duration": 10,
    "start_time": "2021-07-08T10:46:01.221Z"
   },
   {
    "duration": 17,
    "start_time": "2021-07-08T10:46:40.011Z"
   },
   {
    "duration": 193,
    "start_time": "2021-07-08T10:48:19.471Z"
   },
   {
    "duration": 225,
    "start_time": "2021-07-08T10:49:26.480Z"
   },
   {
    "duration": 204,
    "start_time": "2021-07-08T10:49:59.992Z"
   },
   {
    "duration": 435,
    "start_time": "2021-07-08T10:50:06.779Z"
   },
   {
    "duration": 199,
    "start_time": "2021-07-08T10:50:14.891Z"
   },
   {
    "duration": 204,
    "start_time": "2021-07-08T10:50:18.501Z"
   },
   {
    "duration": 244,
    "start_time": "2021-07-08T10:50:23.359Z"
   },
   {
    "duration": 192,
    "start_time": "2021-07-08T10:50:29.135Z"
   },
   {
    "duration": 218,
    "start_time": "2021-07-08T10:50:33.092Z"
   },
   {
    "duration": 207,
    "start_time": "2021-07-08T10:52:45.381Z"
   },
   {
    "duration": 5,
    "start_time": "2021-07-08T10:53:34.641Z"
   },
   {
    "duration": 196,
    "start_time": "2021-07-08T10:53:41.478Z"
   },
   {
    "duration": 43,
    "start_time": "2021-07-08T10:53:50.335Z"
   },
   {
    "duration": 32,
    "start_time": "2021-07-08T10:53:55.294Z"
   },
   {
    "duration": 55,
    "start_time": "2021-07-08T10:54:09.675Z"
   },
   {
    "duration": 16,
    "start_time": "2021-07-08T10:54:12.260Z"
   },
   {
    "duration": 15,
    "start_time": "2021-07-08T10:54:49.150Z"
   },
   {
    "duration": 20,
    "start_time": "2021-07-08T10:56:07.596Z"
   },
   {
    "duration": 16,
    "start_time": "2021-07-08T10:58:26.276Z"
   },
   {
    "duration": 22,
    "start_time": "2021-07-08T10:59:00.486Z"
   },
   {
    "duration": 18,
    "start_time": "2021-07-08T11:02:09.653Z"
   },
   {
    "duration": 10,
    "start_time": "2021-07-08T11:03:44.331Z"
   },
   {
    "duration": 10,
    "start_time": "2021-07-08T11:03:54.055Z"
   },
   {
    "duration": 12,
    "start_time": "2021-07-08T11:04:41.967Z"
   },
   {
    "duration": 24,
    "start_time": "2021-07-08T11:07:30.732Z"
   },
   {
    "duration": 6,
    "start_time": "2021-07-08T11:07:37.364Z"
   },
   {
    "duration": 16,
    "start_time": "2021-07-08T11:08:01.819Z"
   },
   {
    "duration": 17,
    "start_time": "2021-07-08T11:09:47.488Z"
   },
   {
    "duration": 246,
    "start_time": "2021-07-08T11:10:00.830Z"
   },
   {
    "duration": 18,
    "start_time": "2021-07-08T11:13:55.195Z"
   },
   {
    "duration": 204,
    "start_time": "2021-07-08T11:14:04.951Z"
   },
   {
    "duration": 19,
    "start_time": "2021-07-08T11:15:10.613Z"
   },
   {
    "duration": 680,
    "start_time": "2021-07-08T11:16:25.793Z"
   },
   {
    "duration": 451,
    "start_time": "2021-07-08T11:16:40.313Z"
   },
   {
    "duration": 469,
    "start_time": "2021-07-08T11:17:21.286Z"
   },
   {
    "duration": 20,
    "start_time": "2021-07-08T11:19:12.554Z"
   },
   {
    "duration": 35,
    "start_time": "2021-07-08T11:20:05.484Z"
   },
   {
    "duration": 53,
    "start_time": "2021-07-08T11:21:40.050Z"
   },
   {
    "duration": 13,
    "start_time": "2021-07-08T11:22:26.059Z"
   },
   {
    "duration": 19,
    "start_time": "2021-07-08T11:22:47.419Z"
   },
   {
    "duration": 25,
    "start_time": "2021-07-08T11:23:19.958Z"
   },
   {
    "duration": 29,
    "start_time": "2021-07-08T11:23:25.415Z"
   },
   {
    "duration": 10,
    "start_time": "2021-07-08T11:24:45.138Z"
   },
   {
    "duration": 19,
    "start_time": "2021-07-08T11:24:54.498Z"
   },
   {
    "duration": 12,
    "start_time": "2021-07-08T11:25:32.225Z"
   },
   {
    "duration": 19,
    "start_time": "2021-07-08T11:25:37.092Z"
   },
   {
    "duration": 17,
    "start_time": "2021-07-08T11:25:58.116Z"
   },
   {
    "duration": 15,
    "start_time": "2021-07-08T11:26:02.258Z"
   },
   {
    "duration": 8,
    "start_time": "2021-07-08T11:26:59.682Z"
   },
   {
    "duration": 184,
    "start_time": "2021-07-08T11:27:21.894Z"
   },
   {
    "duration": 8,
    "start_time": "2021-07-08T11:27:23.824Z"
   },
   {
    "duration": 202,
    "start_time": "2021-07-08T11:27:23.962Z"
   },
   {
    "duration": 360,
    "start_time": "2021-07-08T11:28:33.215Z"
   },
   {
    "duration": 231,
    "start_time": "2021-07-08T11:32:05.542Z"
   },
   {
    "duration": 607,
    "start_time": "2021-07-08T11:36:27.854Z"
   },
   {
    "duration": 241,
    "start_time": "2021-07-08T11:36:28.463Z"
   },
   {
    "duration": 67,
    "start_time": "2021-07-08T11:36:28.709Z"
   },
   {
    "duration": 5,
    "start_time": "2021-07-08T11:36:28.778Z"
   },
   {
    "duration": 32,
    "start_time": "2021-07-08T11:36:28.784Z"
   },
   {
    "duration": 11,
    "start_time": "2021-07-08T11:36:28.819Z"
   },
   {
    "duration": 20,
    "start_time": "2021-07-08T11:36:28.834Z"
   },
   {
    "duration": 36,
    "start_time": "2021-07-08T11:36:28.857Z"
   },
   {
    "duration": 16,
    "start_time": "2021-07-08T11:36:28.895Z"
   },
   {
    "duration": 14,
    "start_time": "2021-07-08T11:36:28.913Z"
   },
   {
    "duration": 9,
    "start_time": "2021-07-08T11:36:28.930Z"
   },
   {
    "duration": 55,
    "start_time": "2021-07-08T11:36:28.941Z"
   },
   {
    "duration": 27,
    "start_time": "2021-07-08T11:36:28.999Z"
   },
   {
    "duration": 30,
    "start_time": "2021-07-08T11:36:29.028Z"
   },
   {
    "duration": 31,
    "start_time": "2021-07-08T11:36:29.060Z"
   },
   {
    "duration": 3,
    "start_time": "2021-07-08T11:36:29.093Z"
   },
   {
    "duration": 12,
    "start_time": "2021-07-08T11:36:29.099Z"
   },
   {
    "duration": 11,
    "start_time": "2021-07-08T11:36:29.112Z"
   },
   {
    "duration": 12,
    "start_time": "2021-07-08T11:36:29.125Z"
   },
   {
    "duration": 9,
    "start_time": "2021-07-08T11:36:29.139Z"
   },
   {
    "duration": 31,
    "start_time": "2021-07-08T11:36:29.191Z"
   },
   {
    "duration": 17,
    "start_time": "2021-07-08T11:36:29.226Z"
   },
   {
    "duration": 7,
    "start_time": "2021-07-08T11:36:29.245Z"
   },
   {
    "duration": 10,
    "start_time": "2021-07-08T11:36:29.254Z"
   },
   {
    "duration": 30,
    "start_time": "2021-07-08T11:36:29.292Z"
   },
   {
    "duration": 11,
    "start_time": "2021-07-08T11:36:29.324Z"
   },
   {
    "duration": 11,
    "start_time": "2021-07-08T11:36:29.337Z"
   },
   {
    "duration": 230,
    "start_time": "2021-07-08T11:36:29.349Z"
   },
   {
    "duration": 13,
    "start_time": "2021-07-08T11:36:29.588Z"
   },
   {
    "duration": 205,
    "start_time": "2021-07-08T11:36:29.603Z"
   },
   {
    "duration": 20,
    "start_time": "2021-07-08T11:36:29.810Z"
   },
   {
    "duration": 9,
    "start_time": "2021-07-08T11:36:29.832Z"
   },
   {
    "duration": 16,
    "start_time": "2021-07-08T11:36:29.843Z"
   },
   {
    "duration": 283,
    "start_time": "2021-07-08T11:36:29.861Z"
   },
   {
    "duration": 50,
    "start_time": "2021-07-08T11:36:30.146Z"
   },
   {
    "duration": 14,
    "start_time": "2021-07-08T11:36:30.198Z"
   },
   {
    "duration": 11,
    "start_time": "2021-07-08T11:36:30.214Z"
   },
   {
    "duration": 245,
    "start_time": "2021-07-08T11:36:30.227Z"
   },
   {
    "duration": 439,
    "start_time": "2021-07-08T11:36:30.474Z"
   },
   {
    "duration": 210,
    "start_time": "2021-07-08T11:36:30.915Z"
   },
   {
    "duration": 15,
    "start_time": "2021-07-08T11:36:31.127Z"
   },
   {
    "duration": 17,
    "start_time": "2021-07-08T11:38:20.451Z"
   },
   {
    "duration": 642,
    "start_time": "2021-07-08T11:46:17.881Z"
   },
   {
    "duration": 210,
    "start_time": "2021-07-08T11:46:18.525Z"
   },
   {
    "duration": 104,
    "start_time": "2021-07-08T11:46:18.741Z"
   },
   {
    "duration": 8,
    "start_time": "2021-07-08T11:46:18.847Z"
   },
   {
    "duration": 25,
    "start_time": "2021-07-08T11:46:18.857Z"
   },
   {
    "duration": 14,
    "start_time": "2021-07-08T11:46:18.884Z"
   },
   {
    "duration": 22,
    "start_time": "2021-07-08T11:46:18.900Z"
   },
   {
    "duration": 5,
    "start_time": "2021-07-08T11:46:18.924Z"
   },
   {
    "duration": 13,
    "start_time": "2021-07-08T11:46:18.931Z"
   },
   {
    "duration": 45,
    "start_time": "2021-07-08T11:46:18.946Z"
   },
   {
    "duration": 12,
    "start_time": "2021-07-08T11:46:18.993Z"
   },
   {
    "duration": 38,
    "start_time": "2021-07-08T11:46:19.006Z"
   },
   {
    "duration": 50,
    "start_time": "2021-07-08T11:46:19.046Z"
   },
   {
    "duration": 29,
    "start_time": "2021-07-08T11:46:19.099Z"
   },
   {
    "duration": 7,
    "start_time": "2021-07-08T11:46:19.130Z"
   },
   {
    "duration": 3,
    "start_time": "2021-07-08T11:46:19.139Z"
   },
   {
    "duration": 11,
    "start_time": "2021-07-08T11:46:19.144Z"
   },
   {
    "duration": 40,
    "start_time": "2021-07-08T11:46:19.157Z"
   },
   {
    "duration": 15,
    "start_time": "2021-07-08T11:46:19.199Z"
   },
   {
    "duration": 10,
    "start_time": "2021-07-08T11:46:19.217Z"
   },
   {
    "duration": 68,
    "start_time": "2021-07-08T11:46:19.230Z"
   },
   {
    "duration": 17,
    "start_time": "2021-07-08T11:46:19.301Z"
   },
   {
    "duration": 7,
    "start_time": "2021-07-08T11:46:19.321Z"
   },
   {
    "duration": 11,
    "start_time": "2021-07-08T11:46:19.330Z"
   },
   {
    "duration": 59,
    "start_time": "2021-07-08T11:46:19.343Z"
   },
   {
    "duration": 17,
    "start_time": "2021-07-08T11:46:19.405Z"
   },
   {
    "duration": 16,
    "start_time": "2021-07-08T11:46:19.424Z"
   },
   {
    "duration": 252,
    "start_time": "2021-07-08T11:46:19.443Z"
   },
   {
    "duration": 9,
    "start_time": "2021-07-08T11:46:19.697Z"
   },
   {
    "duration": 224,
    "start_time": "2021-07-08T11:46:19.708Z"
   },
   {
    "duration": 21,
    "start_time": "2021-07-08T11:46:19.934Z"
   },
   {
    "duration": 9,
    "start_time": "2021-07-08T11:46:19.956Z"
   },
   {
    "duration": 32,
    "start_time": "2021-07-08T11:46:19.967Z"
   },
   {
    "duration": 288,
    "start_time": "2021-07-08T11:46:20.004Z"
   },
   {
    "duration": 23,
    "start_time": "2021-07-08T11:46:20.300Z"
   },
   {
    "duration": 11,
    "start_time": "2021-07-08T11:46:20.325Z"
   },
   {
    "duration": 11,
    "start_time": "2021-07-08T11:46:20.339Z"
   },
   {
    "duration": 259,
    "start_time": "2021-07-08T11:46:20.352Z"
   },
   {
    "duration": 438,
    "start_time": "2021-07-08T11:46:20.613Z"
   },
   {
    "duration": 207,
    "start_time": "2021-07-08T11:46:21.054Z"
   },
   {
    "duration": 27,
    "start_time": "2021-07-08T11:46:21.262Z"
   },
   {
    "duration": 19,
    "start_time": "2021-07-08T11:46:21.291Z"
   },
   {
    "duration": 820,
    "start_time": "2021-07-08T11:49:01.655Z"
   },
   {
    "duration": 372,
    "start_time": "2021-07-08T11:49:02.478Z"
   },
   {
    "duration": 98,
    "start_time": "2021-07-08T11:49:02.853Z"
   },
   {
    "duration": 6,
    "start_time": "2021-07-08T11:49:02.953Z"
   },
   {
    "duration": 39,
    "start_time": "2021-07-08T11:49:02.960Z"
   },
   {
    "duration": 9,
    "start_time": "2021-07-08T11:49:03.003Z"
   },
   {
    "duration": 23,
    "start_time": "2021-07-08T11:49:03.014Z"
   },
   {
    "duration": 6,
    "start_time": "2021-07-08T11:49:03.041Z"
   },
   {
    "duration": 20,
    "start_time": "2021-07-08T11:49:03.049Z"
   },
   {
    "duration": 18,
    "start_time": "2021-07-08T11:49:03.084Z"
   },
   {
    "duration": 14,
    "start_time": "2021-07-08T11:49:03.104Z"
   },
   {
    "duration": 39,
    "start_time": "2021-07-08T11:49:03.119Z"
   },
   {
    "duration": 38,
    "start_time": "2021-07-08T11:49:03.160Z"
   },
   {
    "duration": 26,
    "start_time": "2021-07-08T11:49:03.200Z"
   },
   {
    "duration": 7,
    "start_time": "2021-07-08T11:49:03.227Z"
   },
   {
    "duration": 4,
    "start_time": "2021-07-08T11:49:03.236Z"
   },
   {
    "duration": 15,
    "start_time": "2021-07-08T11:49:03.243Z"
   },
   {
    "duration": 21,
    "start_time": "2021-07-08T11:49:03.285Z"
   },
   {
    "duration": 17,
    "start_time": "2021-07-08T11:49:03.309Z"
   },
   {
    "duration": 10,
    "start_time": "2021-07-08T11:49:03.328Z"
   },
   {
    "duration": 65,
    "start_time": "2021-07-08T11:49:03.340Z"
   },
   {
    "duration": 18,
    "start_time": "2021-07-08T11:49:03.407Z"
   },
   {
    "duration": 8,
    "start_time": "2021-07-08T11:49:03.428Z"
   },
   {
    "duration": 15,
    "start_time": "2021-07-08T11:49:03.438Z"
   },
   {
    "duration": 40,
    "start_time": "2021-07-08T11:49:03.455Z"
   },
   {
    "duration": 12,
    "start_time": "2021-07-08T11:49:03.497Z"
   },
   {
    "duration": 29,
    "start_time": "2021-07-08T11:49:03.511Z"
   },
   {
    "duration": 285,
    "start_time": "2021-07-08T11:49:03.542Z"
   },
   {
    "duration": 8,
    "start_time": "2021-07-08T11:49:03.829Z"
   },
   {
    "duration": 227,
    "start_time": "2021-07-08T11:49:03.838Z"
   },
   {
    "duration": 40,
    "start_time": "2021-07-08T11:49:04.066Z"
   },
   {
    "duration": 10,
    "start_time": "2021-07-08T11:49:04.108Z"
   },
   {
    "duration": 26,
    "start_time": "2021-07-08T11:49:04.121Z"
   },
   {
    "duration": 290,
    "start_time": "2021-07-08T11:49:04.149Z"
   },
   {
    "duration": 26,
    "start_time": "2021-07-08T11:49:04.441Z"
   },
   {
    "duration": 31,
    "start_time": "2021-07-08T11:49:04.470Z"
   },
   {
    "duration": 14,
    "start_time": "2021-07-08T11:49:04.503Z"
   },
   {
    "duration": 259,
    "start_time": "2021-07-08T11:49:04.521Z"
   },
   {
    "duration": 480,
    "start_time": "2021-07-08T11:49:04.782Z"
   },
   {
    "duration": 225,
    "start_time": "2021-07-08T11:49:05.264Z"
   },
   {
    "duration": 22,
    "start_time": "2021-07-08T11:49:05.491Z"
   },
   {
    "duration": 24,
    "start_time": "2021-07-08T11:49:05.515Z"
   },
   {
    "duration": 634,
    "start_time": "2021-07-08T11:52:24.960Z"
   },
   {
    "duration": 199,
    "start_time": "2021-07-08T11:52:25.599Z"
   },
   {
    "duration": 106,
    "start_time": "2021-07-08T11:52:25.803Z"
   },
   {
    "duration": 7,
    "start_time": "2021-07-08T11:52:25.911Z"
   },
   {
    "duration": 29,
    "start_time": "2021-07-08T11:52:25.920Z"
   },
   {
    "duration": 7,
    "start_time": "2021-07-08T11:52:25.951Z"
   },
   {
    "duration": 26,
    "start_time": "2021-07-08T11:52:25.961Z"
   },
   {
    "duration": 11,
    "start_time": "2021-07-08T11:52:25.990Z"
   },
   {
    "duration": 29,
    "start_time": "2021-07-08T11:52:26.005Z"
   },
   {
    "duration": 9,
    "start_time": "2021-07-08T11:52:26.036Z"
   },
   {
    "duration": 8,
    "start_time": "2021-07-08T11:52:26.047Z"
   },
   {
    "duration": 63,
    "start_time": "2021-07-08T11:52:26.057Z"
   },
   {
    "duration": 17,
    "start_time": "2021-07-08T11:52:26.122Z"
   },
   {
    "duration": 43,
    "start_time": "2021-07-08T11:52:26.142Z"
   },
   {
    "duration": 17,
    "start_time": "2021-07-08T11:52:26.187Z"
   },
   {
    "duration": 5,
    "start_time": "2021-07-08T11:52:26.206Z"
   },
   {
    "duration": 12,
    "start_time": "2021-07-08T11:52:26.212Z"
   },
   {
    "duration": 11,
    "start_time": "2021-07-08T11:52:26.226Z"
   },
   {
    "duration": 12,
    "start_time": "2021-07-08T11:52:26.238Z"
   },
   {
    "duration": 38,
    "start_time": "2021-07-08T11:52:26.252Z"
   },
   {
    "duration": 40,
    "start_time": "2021-07-08T11:52:26.292Z"
   },
   {
    "duration": 17,
    "start_time": "2021-07-08T11:52:26.336Z"
   },
   {
    "duration": 39,
    "start_time": "2021-07-08T11:52:26.355Z"
   },
   {
    "duration": 11,
    "start_time": "2021-07-08T11:52:26.395Z"
   },
   {
    "duration": 23,
    "start_time": "2021-07-08T11:52:26.408Z"
   },
   {
    "duration": 12,
    "start_time": "2021-07-08T11:52:26.432Z"
   },
   {
    "duration": 41,
    "start_time": "2021-07-08T11:52:26.446Z"
   },
   {
    "duration": 215,
    "start_time": "2021-07-08T11:52:26.493Z"
   },
   {
    "duration": 8,
    "start_time": "2021-07-08T11:52:26.710Z"
   },
   {
    "duration": 228,
    "start_time": "2021-07-08T11:52:26.720Z"
   },
   {
    "duration": 18,
    "start_time": "2021-07-08T11:52:26.950Z"
   },
   {
    "duration": 35,
    "start_time": "2021-07-08T11:52:26.969Z"
   },
   {
    "duration": 23,
    "start_time": "2021-07-08T11:52:27.006Z"
   },
   {
    "duration": 258,
    "start_time": "2021-07-08T11:52:27.030Z"
   },
   {
    "duration": 24,
    "start_time": "2021-07-08T11:52:27.290Z"
   },
   {
    "duration": 12,
    "start_time": "2021-07-08T11:52:27.316Z"
   },
   {
    "duration": 10,
    "start_time": "2021-07-08T11:52:27.329Z"
   },
   {
    "duration": 298,
    "start_time": "2021-07-08T11:52:27.341Z"
   },
   {
    "duration": 436,
    "start_time": "2021-07-08T11:52:27.641Z"
   },
   {
    "duration": 216,
    "start_time": "2021-07-08T11:52:28.079Z"
   },
   {
    "duration": 20,
    "start_time": "2021-07-08T11:52:28.297Z"
   },
   {
    "duration": 17,
    "start_time": "2021-07-08T11:52:28.319Z"
   },
   {
    "duration": 1270,
    "start_time": "2025-02-22T11:13:05.925Z"
   },
   {
    "duration": 129,
    "start_time": "2025-02-22T11:13:07.196Z"
   },
   {
    "duration": 17,
    "start_time": "2025-02-22T11:13:07.327Z"
   },
   {
    "duration": 17,
    "start_time": "2025-02-22T11:13:07.346Z"
   },
   {
    "duration": 7,
    "start_time": "2025-02-22T11:13:07.364Z"
   },
   {
    "duration": 23,
    "start_time": "2025-02-22T11:13:07.373Z"
   },
   {
    "duration": 16,
    "start_time": "2025-02-22T11:13:07.397Z"
   },
   {
    "duration": 60,
    "start_time": "2025-02-22T11:13:07.415Z"
   },
   {
    "duration": 15,
    "start_time": "2025-02-22T11:13:07.477Z"
   },
   {
    "duration": 7,
    "start_time": "2025-02-22T11:13:07.494Z"
   },
   {
    "duration": 15,
    "start_time": "2025-02-22T11:13:07.503Z"
   },
   {
    "duration": 5,
    "start_time": "2025-02-22T11:13:07.520Z"
   },
   {
    "duration": 31,
    "start_time": "2025-02-22T11:13:07.526Z"
   },
   {
    "duration": 10,
    "start_time": "2025-02-22T11:13:07.575Z"
   },
   {
    "duration": 13,
    "start_time": "2025-02-22T11:13:07.586Z"
   },
   {
    "duration": 16,
    "start_time": "2025-02-22T11:13:07.601Z"
   },
   {
    "duration": 4,
    "start_time": "2025-02-22T11:13:07.619Z"
   },
   {
    "duration": 4,
    "start_time": "2025-02-22T11:13:07.625Z"
   },
   {
    "duration": 7,
    "start_time": "2025-02-22T11:13:07.630Z"
   },
   {
    "duration": 15,
    "start_time": "2025-02-22T11:13:07.638Z"
   },
   {
    "duration": 5,
    "start_time": "2025-02-22T11:13:07.654Z"
   },
   {
    "duration": 15,
    "start_time": "2025-02-22T11:13:07.661Z"
   },
   {
    "duration": 10,
    "start_time": "2025-02-22T11:13:07.678Z"
   },
   {
    "duration": 24,
    "start_time": "2025-02-22T11:13:07.689Z"
   },
   {
    "duration": 5,
    "start_time": "2025-02-22T11:13:07.714Z"
   },
   {
    "duration": 18,
    "start_time": "2025-02-22T11:13:07.721Z"
   },
   {
    "duration": 40,
    "start_time": "2025-02-22T11:13:07.740Z"
   },
   {
    "duration": 13,
    "start_time": "2025-02-22T11:13:07.784Z"
   },
   {
    "duration": 4,
    "start_time": "2025-02-22T11:13:07.799Z"
   },
   {
    "duration": 8,
    "start_time": "2025-02-22T11:13:07.804Z"
   },
   {
    "duration": 19,
    "start_time": "2025-02-22T11:13:07.814Z"
   },
   {
    "duration": 67,
    "start_time": "2025-02-22T11:13:07.835Z"
   },
   {
    "duration": 23,
    "start_time": "2025-02-22T11:13:07.904Z"
   },
   {
    "duration": 13,
    "start_time": "2025-02-22T11:13:07.929Z"
   },
   {
    "duration": 52,
    "start_time": "2025-02-22T11:13:07.943Z"
   },
   {
    "duration": 6,
    "start_time": "2025-02-22T11:13:07.997Z"
   },
   {
    "duration": 7,
    "start_time": "2025-02-22T11:13:08.006Z"
   },
   {
    "duration": 11,
    "start_time": "2025-02-22T11:13:08.015Z"
   },
   {
    "duration": 12,
    "start_time": "2025-02-22T11:13:08.028Z"
   },
   {
    "duration": 42,
    "start_time": "2025-02-22T11:13:08.042Z"
   },
   {
    "duration": 246,
    "start_time": "2025-02-22T11:13:08.086Z"
   },
   {
    "duration": 195,
    "start_time": "2025-02-22T11:13:08.333Z"
   },
   {
    "duration": 477,
    "start_time": "2025-02-22T11:13:08.529Z"
   },
   {
    "duration": 570,
    "start_time": "2025-02-22T11:13:09.008Z"
   },
   {
    "duration": 278,
    "start_time": "2025-02-22T11:13:09.579Z"
   },
   {
    "duration": 497,
    "start_time": "2025-02-22T11:13:09.859Z"
   },
   {
    "duration": 5,
    "start_time": "2025-02-22T11:13:10.358Z"
   },
   {
    "duration": 20,
    "start_time": "2025-02-22T11:13:10.364Z"
   },
   {
    "duration": 113,
    "start_time": "2025-02-22T11:13:10.386Z"
   },
   {
    "duration": 193,
    "start_time": "2025-02-22T11:13:10.501Z"
   },
   {
    "duration": 11,
    "start_time": "2025-02-22T11:13:10.696Z"
   },
   {
    "duration": 243,
    "start_time": "2025-02-22T11:13:10.709Z"
   },
   {
    "duration": 423,
    "start_time": "2025-02-22T11:13:10.954Z"
   },
   {
    "duration": 276,
    "start_time": "2025-02-22T11:13:11.379Z"
   },
   {
    "duration": 431,
    "start_time": "2025-02-22T11:13:11.657Z"
   }
  ],
  "colab": {
   "name": "DA+. Сборный проект 1. Шаблон (1).ipynb",
   "provenance": []
  },
  "kernelspec": {
   "display_name": "Python 3 (ipykernel)",
   "language": "python",
   "name": "python3"
  },
  "language_info": {
   "codemirror_mode": {
    "name": "ipython",
    "version": 3
   },
   "file_extension": ".py",
   "mimetype": "text/x-python",
   "name": "python",
   "nbconvert_exporter": "python",
   "pygments_lexer": "ipython3",
   "version": "3.9.5"
  },
  "toc": {
   "base_numbering": 1,
   "nav_menu": {},
   "number_sections": true,
   "sideBar": true,
   "skip_h1_title": true,
   "title_cell": "Table of Contents",
   "title_sidebar": "Contents",
   "toc_cell": false,
   "toc_position": {
    "height": "calc(100% - 180px)",
    "left": "10px",
    "top": "150px",
    "width": "375.391px"
   },
   "toc_section_display": true,
   "toc_window_display": false
  }
 },
 "nbformat": 4,
 "nbformat_minor": 4
}
